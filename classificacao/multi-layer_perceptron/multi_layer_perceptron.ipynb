{
  "nbformat": 4,
  "nbformat_minor": 0,
  "metadata": {
    "colab": {
      "provenance": []
    },
    "kernelspec": {
      "name": "python3",
      "display_name": "Python 3"
    },
    "language_info": {
      "name": "python"
    }
  },
  "cells": [
    {
      "cell_type": "markdown",
      "source": [
        "# **Curso de Machine Learning - IA Expert Academy**\n",
        "\n",
        "\n",
        "---\n",
        "\n",
        "\n",
        "**Aluno:** Lucas Dias Noronha"
      ],
      "metadata": {
        "id": "6sOpBbpobmY6"
      }
    },
    {
      "cell_type": "markdown",
      "source": [
        "# **Redes Neurais Artificiais**\n",
        "\n",
        "As redes neurais artificiais (RNAs) são modelos computacionais inspirados no funcionamento do cérebro humano, projetados para realizar tarefas de aprendizado e reconhecimento de padrões. Elas são compostas por unidades interconectadas chamadas de neurônios artificiais ou \"nós\", que são organizados em camadas.\n",
        "\n",
        "Existem diferentes tipos de arquiteturas de redes neurais artificiais, mas uma das mais comuns é a chamada rede neural feedforward, também conhecida como perceptron de múltiplas camadas. Nesse tipo de rede, a informação flui em uma direção, da camada de entrada para a camada de saída, passando por uma ou mais camadas intermediárias, chamadas de camadas ocultas.\n",
        "\n",
        "Cada neurônio em uma rede neural artificial recebe um conjunto de entradas ponderadas, realiza uma soma ponderada dessas entradas e aplica uma função de ativação para produzir um resultado. Essa saída é então passada para os neurônios na camada seguinte e assim por diante até a camada de saída.\n",
        "\n",
        "Durante o treinamento de uma rede neural artificial, os pesos das conexões entre os neurônios são ajustados de forma iterativa para minimizar uma função de perda ou erro. Esse processo é geralmente realizado usando um algoritmo de otimização, como o gradiente descendente, que busca encontrar os pesos que levam à melhor performance da rede na tarefa desejada.\n",
        "\n",
        "As redes neurais artificiais têm sido amplamente aplicadas em uma variedade de áreas, incluindo reconhecimento de padrões, visão computacional, processamento de linguagem natural, tradução automática, previsão de séries temporais, entre outras. Elas têm alcançado resultados impressionantes em muitas dessas tarefas e continuam sendo objeto de pesquisa e desenvolvimento intensivos."
      ],
      "metadata": {
        "id": "8-9538rhVq9p"
      }
    },
    {
      "cell_type": "code",
      "execution_count": 1,
      "metadata": {
        "id": "NTB9cxd5PA7y"
      },
      "outputs": [],
      "source": [
        "from sklearn.neural_network import MLPClassifier\n",
        "from sklearn.metrics import accuracy_score, classification_report\n",
        "from yellowbrick.classifier import ConfusionMatrix\n",
        "\n",
        "import pickle"
      ]
    },
    {
      "cell_type": "markdown",
      "source": [
        "# **MLP (Multi-Layer Perceptron)**\n",
        "\n",
        "O Perceptron de Múltiplas Camadas (Multi-Layer Perceptron) é uma das arquiteturas mais comuns de redes neurais artificiais. Ele é um tipo de rede neural feedforward, ou seja, a informação flui em uma direção, da camada de entrada para a camada de saída, sem ciclos ou retroalimentação.\n",
        "\n",
        "O MLP é chamado de \"múltiplas camadas\" porque possui uma ou mais camadas intermediárias entre a camada de entrada e a camada de saída, chamadas de camadas ocultas. Cada camada oculta é composta por vários neurônios, ou nós, interconectados com os neurônios das camadas adjacentes.\n",
        "\n",
        "A camada de entrada do MLP recebe os dados de entrada, que podem ser recursos ou características de um problema específico. Cada neurônio na camada de entrada corresponde a um recurso específico. Por exemplo, em um problema de reconhecimento de dígitos manuscritos, cada neurônio de entrada pode representar um pixel da imagem de um dígito.\n",
        "\n",
        "Cada conexão entre os neurônios nas camadas do MLP possui um peso associado. Durante o treinamento, esses pesos são ajustados para otimizar o desempenho da rede na tarefa desejada. O processo de ajuste dos pesos é realizado usando algoritmos de aprendizado, como o algoritmo de retropropagação (backpropagation).\n",
        "\n",
        "O algoritmo de retropropagação calcula a diferença entre a saída desejada e a saída real da rede, propagando esse erro de volta pelas camadas ocultas e ajustando os pesos das conexões em cada iteração. Esse processo é repetido várias vezes até que a rede alcance uma boa precisão na tarefa de aprendizado.\n",
        "\n",
        "Uma vez que a rede tenha sido treinada, ela pode ser usada para fazer previsões ou classificações de novos dados de entrada. Os valores de entrada são propagados através das camadas ocultas até a camada de saída, onde a rede gera a saída final com base nos pesos e nas funções de ativação dos neurônios.\n",
        "\n",
        "Uma característica importante do MLP é a capacidade de aprender e representar funções não lineares complexas. Isso é possível devido às funções de ativação não lineares aplicadas em cada neurônio, como a função sigmoide ou a função ReLU (Rectified Linear Unit)."
      ],
      "metadata": {
        "id": "6Q_XnN6CdZni"
      }
    },
    {
      "cell_type": "markdown",
      "source": [
        "# **MLP Aplicado a Base de Credito**\n",
        "\n",
        "\n",
        "\n",
        "> Atenção: Todo os dados aqui utilizados, já foram todos pré-processados e estão pronto para uso.\n",
        "\n",
        "\n",
        "\n"
      ],
      "metadata": {
        "id": "DNbYQ1rpV-nb"
      }
    },
    {
      "cell_type": "code",
      "source": [
        "# Carregando o arquivo pkl que contém os dados de treinamento e de teste.\n",
        "with open('credit.pkl', 'rb') as f:\n",
        "  X_credit_treinamento, y_credit_treinamento, X_credit_teste, y_credit_teste = pickle.load(f)"
      ],
      "metadata": {
        "id": "W-Gl-gnDV9-o"
      },
      "execution_count": 4,
      "outputs": []
    },
    {
      "cell_type": "code",
      "source": [
        "# 1500 amostras de treinamento com as variáveis previsoras (X).\n",
        "# 1500 amostras de teste com as variáveis de classificação (y).\n",
        "X_credit_treinamento.shape, y_credit_treinamento.shape"
      ],
      "metadata": {
        "colab": {
          "base_uri": "https://localhost:8080/"
        },
        "id": "13PzS9smXPDx",
        "outputId": "430251ff-c0b4-4bb8-8e40-3d5e43a7f64b"
      },
      "execution_count": 5,
      "outputs": [
        {
          "output_type": "execute_result",
          "data": {
            "text/plain": [
              "((1500, 3), (1500,))"
            ]
          },
          "metadata": {},
          "execution_count": 5
        }
      ]
    },
    {
      "cell_type": "code",
      "execution_count": 6,
      "metadata": {
        "colab": {
          "base_uri": "https://localhost:8080/"
        },
        "id": "Df5EfDyjnAB6",
        "outputId": "ab10dc3e-20fc-4dde-c372-0e18ec202612"
      },
      "outputs": [
        {
          "output_type": "execute_result",
          "data": {
            "text/plain": [
              "((500, 3), (500,))"
            ]
          },
          "metadata": {},
          "execution_count": 6
        }
      ],
      "source": [
        "# 500 amostras de teste com as variáveis previsoras (X).\n",
        "# 500 amostras de teste com as variáveis de classificação (y).\n",
        "X_credit_teste.shape, y_credit_teste.shape"
      ]
    },
    {
      "cell_type": "markdown",
      "source": [
        "No código a seguir, definirei um objeto chamando \"rede_neural_credit\" do tipo MLPClassifier com os seguintes parâmetros:\n",
        "\n",
        "max_iter = 1500: Define o número máximo de iterações (épocas) para o treinamento da rede neural.\n",
        "\n",
        "verbose = True: Habilita a exibição de mensagens detalhadas durante o treinamento.\n",
        "\n",
        "tol = 0.0000100: Define a tolerância para a convergência do treinamento da rede neural.\n",
        "\n",
        "solver = 'adam': Especifica o algoritmo de otimização a ser usado. Nesse caso, é o algoritmo 'adam'.\n",
        "\n",
        "activation = 'relu': Define a função de ativação a ser usada nas camadas ocultas da rede neural. Função 'relu'.\n",
        "\n",
        "hidden_layer_sizes = (20,20): Especifica o número e tamanho das camadas ocultas da rede neural. Neste caso, a rede possui duas camadas ocultas, cada uma com 20 neurônios."
      ],
      "metadata": {
        "id": "qX5zrjWgpBuN"
      }
    },
    {
      "cell_type": "code",
      "source": [
        "# Definindo um objeto MLPClassifier, que é um classificador de rede neural multicamadas (Multi-Layer Perceptron).\n",
        "rede_neural_credit = MLPClassifier(max_iter = 1500, verbose = True, tol = 0.0000100,\n",
        "                                   solver = 'adam', activation = 'relu',\n",
        "                                   hidden_layer_sizes = (20,20)\n",
        ")"
      ],
      "metadata": {
        "id": "P4_W8rxaXaOp"
      },
      "execution_count": 9,
      "outputs": []
    },
    {
      "cell_type": "markdown",
      "source": [
        "Executarei o treinamento da rede_neural_credit utilizando os dados de treinamento X_credit_treinamento e y_credit_treinamento.\n",
        "\n",
        "Aplicarei a função fit que treinará o modelo e ajustará os pesos da rede neural com base nos dados fornecidos. A variável X_credit_treinamento representa os dados de entrada, enquanto y_credit_treinamento representa os rótulos de saída correspondentes.\n",
        "\n",
        "Após a execução do código, a rede neural rede_neural_credit será treinada com os dados fornecidos, e os pesos serão ajustados para melhor se ajustarem aos padrões presentes nos dados de treinamento."
      ],
      "metadata": {
        "id": "7lYrGCRYqlK8"
      }
    },
    {
      "cell_type": "code",
      "source": [
        "# Executando o treinamento da rede_neural_credit utilizando os dados de treinamento.\n",
        "rede_neural_credit.fit(X_credit_treinamento, y_credit_treinamento)"
      ],
      "metadata": {
        "colab": {
          "base_uri": "https://localhost:8080/",
          "height": 1000
        },
        "id": "5XsjI3NMptZS",
        "outputId": "728de840-8053-4cbb-9db1-df7a458ebc8c"
      },
      "execution_count": 10,
      "outputs": [
        {
          "output_type": "stream",
          "name": "stdout",
          "text": [
            "Iteration 1, loss = 0.54680589\n",
            "Iteration 2, loss = 0.51671121\n",
            "Iteration 3, loss = 0.49057733\n",
            "Iteration 4, loss = 0.46724847\n",
            "Iteration 5, loss = 0.44518711\n",
            "Iteration 6, loss = 0.42264856\n",
            "Iteration 7, loss = 0.39841432\n",
            "Iteration 8, loss = 0.37210638\n",
            "Iteration 9, loss = 0.34580953\n",
            "Iteration 10, loss = 0.31763379\n",
            "Iteration 11, loss = 0.29158741\n",
            "Iteration 12, loss = 0.26636647\n",
            "Iteration 13, loss = 0.24294080\n",
            "Iteration 14, loss = 0.22221348\n",
            "Iteration 15, loss = 0.20415489\n",
            "Iteration 16, loss = 0.18879198\n",
            "Iteration 17, loss = 0.17542232\n",
            "Iteration 18, loss = 0.16398262\n",
            "Iteration 19, loss = 0.15429053\n",
            "Iteration 20, loss = 0.14563797\n",
            "Iteration 21, loss = 0.13866070\n",
            "Iteration 22, loss = 0.13210254\n",
            "Iteration 23, loss = 0.12662537\n",
            "Iteration 24, loss = 0.12217787\n",
            "Iteration 25, loss = 0.11802191\n",
            "Iteration 26, loss = 0.11430997\n",
            "Iteration 27, loss = 0.11125984\n",
            "Iteration 28, loss = 0.10855590\n",
            "Iteration 29, loss = 0.10603255\n",
            "Iteration 30, loss = 0.10399488\n",
            "Iteration 31, loss = 0.10181365\n",
            "Iteration 32, loss = 0.09996492\n",
            "Iteration 33, loss = 0.09842612\n",
            "Iteration 34, loss = 0.09657477\n",
            "Iteration 35, loss = 0.09527678\n",
            "Iteration 36, loss = 0.09352884\n",
            "Iteration 37, loss = 0.09243221\n",
            "Iteration 38, loss = 0.09100123\n",
            "Iteration 39, loss = 0.08976508\n",
            "Iteration 40, loss = 0.08876555\n",
            "Iteration 41, loss = 0.08734017\n",
            "Iteration 42, loss = 0.08618858\n",
            "Iteration 43, loss = 0.08511969\n",
            "Iteration 44, loss = 0.08396514\n",
            "Iteration 45, loss = 0.08299798\n",
            "Iteration 46, loss = 0.08190567\n",
            "Iteration 47, loss = 0.08131748\n",
            "Iteration 48, loss = 0.08060395\n",
            "Iteration 49, loss = 0.07885822\n",
            "Iteration 50, loss = 0.07852495\n",
            "Iteration 51, loss = 0.07729138\n",
            "Iteration 52, loss = 0.07638146\n",
            "Iteration 53, loss = 0.07547708\n",
            "Iteration 54, loss = 0.07432553\n",
            "Iteration 55, loss = 0.07380201\n",
            "Iteration 56, loss = 0.07271223\n",
            "Iteration 57, loss = 0.07178866\n",
            "Iteration 58, loss = 0.07081730\n",
            "Iteration 59, loss = 0.07027106\n",
            "Iteration 60, loss = 0.06924934\n",
            "Iteration 61, loss = 0.06844153\n",
            "Iteration 62, loss = 0.06733626\n",
            "Iteration 63, loss = 0.06633830\n",
            "Iteration 64, loss = 0.06557153\n",
            "Iteration 65, loss = 0.06450465\n",
            "Iteration 66, loss = 0.06384504\n",
            "Iteration 67, loss = 0.06310872\n",
            "Iteration 68, loss = 0.06202907\n",
            "Iteration 69, loss = 0.06126909\n",
            "Iteration 70, loss = 0.06011076\n",
            "Iteration 71, loss = 0.05942536\n",
            "Iteration 72, loss = 0.05855265\n",
            "Iteration 73, loss = 0.05759597\n",
            "Iteration 74, loss = 0.05677247\n",
            "Iteration 75, loss = 0.05597241\n",
            "Iteration 76, loss = 0.05505101\n",
            "Iteration 77, loss = 0.05424200\n",
            "Iteration 78, loss = 0.05339289\n",
            "Iteration 79, loss = 0.05268918\n",
            "Iteration 80, loss = 0.05197961\n",
            "Iteration 81, loss = 0.05111285\n",
            "Iteration 82, loss = 0.05042168\n",
            "Iteration 83, loss = 0.04986331\n",
            "Iteration 84, loss = 0.04923759\n",
            "Iteration 85, loss = 0.04839990\n",
            "Iteration 86, loss = 0.04782178\n",
            "Iteration 87, loss = 0.04701771\n",
            "Iteration 88, loss = 0.04648028\n",
            "Iteration 89, loss = 0.04580617\n",
            "Iteration 90, loss = 0.04525543\n",
            "Iteration 91, loss = 0.04472932\n",
            "Iteration 92, loss = 0.04403441\n",
            "Iteration 93, loss = 0.04364301\n",
            "Iteration 94, loss = 0.04290163\n",
            "Iteration 95, loss = 0.04254060\n",
            "Iteration 96, loss = 0.04183496\n",
            "Iteration 97, loss = 0.04139497\n",
            "Iteration 98, loss = 0.04079695\n",
            "Iteration 99, loss = 0.04048620\n",
            "Iteration 100, loss = 0.03974957\n",
            "Iteration 101, loss = 0.03937604\n",
            "Iteration 102, loss = 0.03877956\n",
            "Iteration 103, loss = 0.03820894\n",
            "Iteration 104, loss = 0.03792118\n",
            "Iteration 105, loss = 0.03734242\n",
            "Iteration 106, loss = 0.03721164\n",
            "Iteration 107, loss = 0.03663411\n",
            "Iteration 108, loss = 0.03633542\n",
            "Iteration 109, loss = 0.03565757\n",
            "Iteration 110, loss = 0.03545524\n",
            "Iteration 111, loss = 0.03477134\n",
            "Iteration 112, loss = 0.03463306\n",
            "Iteration 113, loss = 0.03399699\n",
            "Iteration 114, loss = 0.03374074\n",
            "Iteration 115, loss = 0.03335144\n",
            "Iteration 116, loss = 0.03302552\n",
            "Iteration 117, loss = 0.03258488\n",
            "Iteration 118, loss = 0.03227171\n",
            "Iteration 119, loss = 0.03178062\n",
            "Iteration 120, loss = 0.03160125\n",
            "Iteration 121, loss = 0.03132211\n",
            "Iteration 122, loss = 0.03086510\n",
            "Iteration 123, loss = 0.03072281\n",
            "Iteration 124, loss = 0.03037953\n",
            "Iteration 125, loss = 0.02998585\n",
            "Iteration 126, loss = 0.02990520\n",
            "Iteration 127, loss = 0.02932884\n",
            "Iteration 128, loss = 0.02914128\n",
            "Iteration 129, loss = 0.02885402\n",
            "Iteration 130, loss = 0.02887486\n",
            "Iteration 131, loss = 0.02843354\n",
            "Iteration 132, loss = 0.02829846\n",
            "Iteration 133, loss = 0.02796566\n",
            "Iteration 134, loss = 0.02748502\n",
            "Iteration 135, loss = 0.02738733\n",
            "Iteration 136, loss = 0.02729160\n",
            "Iteration 137, loss = 0.02696825\n",
            "Iteration 138, loss = 0.02670204\n",
            "Iteration 139, loss = 0.02631785\n",
            "Iteration 140, loss = 0.02623764\n",
            "Iteration 141, loss = 0.02614403\n",
            "Iteration 142, loss = 0.02564269\n",
            "Iteration 143, loss = 0.02571436\n",
            "Iteration 144, loss = 0.02554505\n",
            "Iteration 145, loss = 0.02496900\n",
            "Iteration 146, loss = 0.02470328\n",
            "Iteration 147, loss = 0.02455188\n",
            "Iteration 148, loss = 0.02442673\n",
            "Iteration 149, loss = 0.02467783\n",
            "Iteration 150, loss = 0.02394903\n",
            "Iteration 151, loss = 0.02369796\n",
            "Iteration 152, loss = 0.02361149\n",
            "Iteration 153, loss = 0.02334997\n",
            "Iteration 154, loss = 0.02323889\n",
            "Iteration 155, loss = 0.02303344\n",
            "Iteration 156, loss = 0.02296309\n",
            "Iteration 157, loss = 0.02266189\n",
            "Iteration 158, loss = 0.02252949\n",
            "Iteration 159, loss = 0.02258392\n",
            "Iteration 160, loss = 0.02211650\n",
            "Iteration 161, loss = 0.02204085\n",
            "Iteration 162, loss = 0.02184167\n",
            "Iteration 163, loss = 0.02220656\n",
            "Iteration 164, loss = 0.02147846\n",
            "Iteration 165, loss = 0.02135603\n",
            "Iteration 166, loss = 0.02126335\n",
            "Iteration 167, loss = 0.02129242\n",
            "Iteration 168, loss = 0.02094640\n",
            "Iteration 169, loss = 0.02076008\n",
            "Iteration 170, loss = 0.02054223\n",
            "Iteration 171, loss = 0.02048416\n",
            "Iteration 172, loss = 0.02025054\n",
            "Iteration 173, loss = 0.02014985\n",
            "Iteration 174, loss = 0.01999115\n",
            "Iteration 175, loss = 0.01984586\n",
            "Iteration 176, loss = 0.01993364\n",
            "Iteration 177, loss = 0.01959927\n",
            "Iteration 178, loss = 0.01953878\n",
            "Iteration 179, loss = 0.01934303\n",
            "Iteration 180, loss = 0.01933404\n",
            "Iteration 181, loss = 0.01930141\n",
            "Iteration 182, loss = 0.01893112\n",
            "Iteration 183, loss = 0.01893445\n",
            "Iteration 184, loss = 0.01868588\n",
            "Iteration 185, loss = 0.01869201\n",
            "Iteration 186, loss = 0.01864280\n",
            "Iteration 187, loss = 0.01844143\n",
            "Iteration 188, loss = 0.01842776\n",
            "Iteration 189, loss = 0.01816218\n",
            "Iteration 190, loss = 0.01804238\n",
            "Iteration 191, loss = 0.01781707\n",
            "Iteration 192, loss = 0.01777689\n",
            "Iteration 193, loss = 0.01766682\n",
            "Iteration 194, loss = 0.01754426\n",
            "Iteration 195, loss = 0.01747789\n",
            "Iteration 196, loss = 0.01724696\n",
            "Iteration 197, loss = 0.01715194\n",
            "Iteration 198, loss = 0.01710579\n",
            "Iteration 199, loss = 0.01712659\n",
            "Iteration 200, loss = 0.01683060\n",
            "Iteration 201, loss = 0.01687421\n",
            "Iteration 202, loss = 0.01694674\n",
            "Iteration 203, loss = 0.01656045\n",
            "Iteration 204, loss = 0.01646702\n",
            "Iteration 205, loss = 0.01636151\n",
            "Iteration 206, loss = 0.01628226\n",
            "Iteration 207, loss = 0.01625472\n",
            "Iteration 208, loss = 0.01615447\n",
            "Iteration 209, loss = 0.01607808\n",
            "Iteration 210, loss = 0.01597331\n",
            "Iteration 211, loss = 0.01588003\n",
            "Iteration 212, loss = 0.01572693\n",
            "Iteration 213, loss = 0.01563837\n",
            "Iteration 214, loss = 0.01562359\n",
            "Iteration 215, loss = 0.01540185\n",
            "Iteration 216, loss = 0.01539546\n",
            "Iteration 217, loss = 0.01547975\n",
            "Iteration 218, loss = 0.01523332\n",
            "Iteration 219, loss = 0.01520320\n",
            "Iteration 220, loss = 0.01505183\n",
            "Iteration 221, loss = 0.01492359\n",
            "Iteration 222, loss = 0.01505431\n",
            "Iteration 223, loss = 0.01487467\n",
            "Iteration 224, loss = 0.01468795\n",
            "Iteration 225, loss = 0.01461334\n",
            "Iteration 226, loss = 0.01450488\n",
            "Iteration 227, loss = 0.01442075\n",
            "Iteration 228, loss = 0.01436236\n",
            "Iteration 229, loss = 0.01426391\n",
            "Iteration 230, loss = 0.01423013\n",
            "Iteration 231, loss = 0.01414413\n",
            "Iteration 232, loss = 0.01404930\n",
            "Iteration 233, loss = 0.01386290\n",
            "Iteration 234, loss = 0.01399086\n",
            "Iteration 235, loss = 0.01399085\n",
            "Iteration 236, loss = 0.01382276\n",
            "Iteration 237, loss = 0.01380400\n",
            "Iteration 238, loss = 0.01359900\n",
            "Iteration 239, loss = 0.01365577\n",
            "Iteration 240, loss = 0.01363761\n",
            "Iteration 241, loss = 0.01338248\n",
            "Iteration 242, loss = 0.01330633\n",
            "Iteration 243, loss = 0.01343259\n",
            "Iteration 244, loss = 0.01318948\n",
            "Iteration 245, loss = 0.01312613\n",
            "Iteration 246, loss = 0.01315606\n",
            "Iteration 247, loss = 0.01324229\n",
            "Iteration 248, loss = 0.01300168\n",
            "Iteration 249, loss = 0.01282079\n",
            "Iteration 250, loss = 0.01333077\n",
            "Iteration 251, loss = 0.01295127\n",
            "Iteration 252, loss = 0.01266803\n",
            "Iteration 253, loss = 0.01285437\n",
            "Iteration 254, loss = 0.01262654\n",
            "Iteration 255, loss = 0.01245273\n",
            "Iteration 256, loss = 0.01247683\n",
            "Iteration 257, loss = 0.01232649\n",
            "Iteration 258, loss = 0.01250807\n",
            "Iteration 259, loss = 0.01278446\n",
            "Iteration 260, loss = 0.01241475\n",
            "Iteration 261, loss = 0.01215458\n",
            "Iteration 262, loss = 0.01211440\n",
            "Iteration 263, loss = 0.01201253\n",
            "Iteration 264, loss = 0.01209685\n",
            "Iteration 265, loss = 0.01232259\n",
            "Iteration 266, loss = 0.01172557\n",
            "Iteration 267, loss = 0.01197532\n",
            "Iteration 268, loss = 0.01169067\n",
            "Iteration 269, loss = 0.01162640\n",
            "Iteration 270, loss = 0.01159957\n",
            "Iteration 271, loss = 0.01174277\n",
            "Iteration 272, loss = 0.01183441\n",
            "Iteration 273, loss = 0.01155841\n",
            "Iteration 274, loss = 0.01158950\n",
            "Iteration 275, loss = 0.01144335\n",
            "Iteration 276, loss = 0.01134371\n",
            "Iteration 277, loss = 0.01135191\n",
            "Iteration 278, loss = 0.01110146\n",
            "Iteration 279, loss = 0.01118701\n",
            "Iteration 280, loss = 0.01101784\n",
            "Iteration 281, loss = 0.01111848\n",
            "Iteration 282, loss = 0.01101541\n",
            "Iteration 283, loss = 0.01097862\n",
            "Iteration 284, loss = 0.01105509\n",
            "Iteration 285, loss = 0.01086158\n",
            "Iteration 286, loss = 0.01135915\n",
            "Iteration 287, loss = 0.01116415\n",
            "Iteration 288, loss = 0.01118334\n",
            "Iteration 289, loss = 0.01065870\n",
            "Iteration 290, loss = 0.01054965\n",
            "Iteration 291, loss = 0.01088389\n",
            "Iteration 292, loss = 0.01056662\n",
            "Iteration 293, loss = 0.01059720\n",
            "Iteration 294, loss = 0.01041462\n",
            "Iteration 295, loss = 0.01033714\n",
            "Iteration 296, loss = 0.01033283\n",
            "Iteration 297, loss = 0.01029720\n",
            "Iteration 298, loss = 0.01015628\n",
            "Iteration 299, loss = 0.01008590\n",
            "Iteration 300, loss = 0.01011389\n",
            "Iteration 301, loss = 0.01009363\n",
            "Iteration 302, loss = 0.01007538\n",
            "Iteration 303, loss = 0.00994682\n",
            "Iteration 304, loss = 0.01014403\n",
            "Iteration 305, loss = 0.00990758\n",
            "Iteration 306, loss = 0.00974007\n",
            "Iteration 307, loss = 0.01001966\n",
            "Iteration 308, loss = 0.00999422\n",
            "Iteration 309, loss = 0.00979406\n",
            "Iteration 310, loss = 0.00985080\n",
            "Iteration 311, loss = 0.00967370\n",
            "Iteration 312, loss = 0.00996979\n",
            "Iteration 313, loss = 0.00965632\n",
            "Iteration 314, loss = 0.00954937\n",
            "Iteration 315, loss = 0.00948306\n",
            "Iteration 316, loss = 0.00950046\n",
            "Iteration 317, loss = 0.00934922\n",
            "Iteration 318, loss = 0.00935873\n",
            "Iteration 319, loss = 0.00953779\n",
            "Iteration 320, loss = 0.00920892\n",
            "Iteration 321, loss = 0.00931962\n",
            "Iteration 322, loss = 0.00927085\n",
            "Iteration 323, loss = 0.00923980\n",
            "Iteration 324, loss = 0.00917673\n",
            "Iteration 325, loss = 0.00979585\n",
            "Iteration 326, loss = 0.00913429\n",
            "Iteration 327, loss = 0.00916105\n",
            "Iteration 328, loss = 0.00903389\n",
            "Iteration 329, loss = 0.00902174\n",
            "Iteration 330, loss = 0.00895059\n",
            "Iteration 331, loss = 0.00886726\n",
            "Iteration 332, loss = 0.00877656\n",
            "Iteration 333, loss = 0.00882697\n",
            "Iteration 334, loss = 0.00868352\n",
            "Iteration 335, loss = 0.00899050\n",
            "Iteration 336, loss = 0.00881892\n",
            "Iteration 337, loss = 0.00879613\n",
            "Iteration 338, loss = 0.00867607\n",
            "Iteration 339, loss = 0.00857742\n",
            "Iteration 340, loss = 0.00850063\n",
            "Iteration 341, loss = 0.00852623\n",
            "Iteration 342, loss = 0.00845435\n",
            "Iteration 343, loss = 0.00837918\n",
            "Iteration 344, loss = 0.00839997\n",
            "Iteration 345, loss = 0.00833717\n",
            "Iteration 346, loss = 0.00837218\n",
            "Iteration 347, loss = 0.00831230\n",
            "Iteration 348, loss = 0.00821698\n",
            "Iteration 349, loss = 0.00826102\n",
            "Iteration 350, loss = 0.00822023\n",
            "Iteration 351, loss = 0.00821152\n",
            "Iteration 352, loss = 0.00813453\n",
            "Iteration 353, loss = 0.00804578\n",
            "Iteration 354, loss = 0.00802174\n",
            "Iteration 355, loss = 0.00812518\n",
            "Iteration 356, loss = 0.00800423\n",
            "Iteration 357, loss = 0.00796496\n",
            "Iteration 358, loss = 0.00807466\n",
            "Iteration 359, loss = 0.00784101\n",
            "Iteration 360, loss = 0.00800069\n",
            "Iteration 361, loss = 0.00783385\n",
            "Iteration 362, loss = 0.00791927\n",
            "Iteration 363, loss = 0.00792008\n",
            "Iteration 364, loss = 0.00810966\n",
            "Iteration 365, loss = 0.00796442\n",
            "Iteration 366, loss = 0.00795997\n",
            "Iteration 367, loss = 0.00768856\n",
            "Iteration 368, loss = 0.00766546\n",
            "Iteration 369, loss = 0.00749860\n",
            "Iteration 370, loss = 0.00760004\n",
            "Iteration 371, loss = 0.00759316\n",
            "Iteration 372, loss = 0.00751568\n",
            "Iteration 373, loss = 0.00744244\n",
            "Iteration 374, loss = 0.00743909\n",
            "Iteration 375, loss = 0.00750725\n",
            "Iteration 376, loss = 0.00754299\n",
            "Iteration 377, loss = 0.00741653\n",
            "Iteration 378, loss = 0.00744399\n",
            "Iteration 379, loss = 0.00740322\n",
            "Iteration 380, loss = 0.00732310\n",
            "Iteration 381, loss = 0.00719353\n",
            "Iteration 382, loss = 0.00724218\n",
            "Iteration 383, loss = 0.00716327\n",
            "Iteration 384, loss = 0.00713712\n",
            "Iteration 385, loss = 0.00722832\n",
            "Iteration 386, loss = 0.00709931\n",
            "Iteration 387, loss = 0.00722292\n",
            "Iteration 388, loss = 0.00709675\n",
            "Iteration 389, loss = 0.00702885\n",
            "Iteration 390, loss = 0.00710946\n",
            "Iteration 391, loss = 0.00707676\n",
            "Iteration 392, loss = 0.00688181\n",
            "Iteration 393, loss = 0.00707777\n",
            "Iteration 394, loss = 0.00702114\n",
            "Iteration 395, loss = 0.00686348\n",
            "Iteration 396, loss = 0.00689948\n",
            "Iteration 397, loss = 0.00688959\n",
            "Iteration 398, loss = 0.00673417\n",
            "Iteration 399, loss = 0.00676150\n",
            "Iteration 400, loss = 0.00677889\n",
            "Iteration 401, loss = 0.00687904\n",
            "Iteration 402, loss = 0.00681199\n",
            "Iteration 403, loss = 0.00654280\n",
            "Iteration 404, loss = 0.00678459\n",
            "Iteration 405, loss = 0.00659351\n",
            "Iteration 406, loss = 0.00664625\n",
            "Iteration 407, loss = 0.00648863\n",
            "Iteration 408, loss = 0.00663242\n",
            "Iteration 409, loss = 0.00655583\n",
            "Iteration 410, loss = 0.00646598\n",
            "Iteration 411, loss = 0.00645002\n",
            "Iteration 412, loss = 0.00646384\n",
            "Iteration 413, loss = 0.00651228\n",
            "Iteration 414, loss = 0.00638042\n",
            "Iteration 415, loss = 0.00641310\n",
            "Iteration 416, loss = 0.00672100\n",
            "Iteration 417, loss = 0.00626381\n",
            "Iteration 418, loss = 0.00646303\n",
            "Iteration 419, loss = 0.00630378\n",
            "Iteration 420, loss = 0.00634689\n",
            "Iteration 421, loss = 0.00623470\n",
            "Iteration 422, loss = 0.00642708\n",
            "Iteration 423, loss = 0.00609462\n",
            "Iteration 424, loss = 0.00645224\n",
            "Iteration 425, loss = 0.00609978\n",
            "Iteration 426, loss = 0.00625197\n",
            "Iteration 427, loss = 0.00610763\n",
            "Iteration 428, loss = 0.00604008\n",
            "Iteration 429, loss = 0.00599269\n",
            "Iteration 430, loss = 0.00601172\n",
            "Iteration 431, loss = 0.00603438\n",
            "Iteration 432, loss = 0.00604357\n",
            "Iteration 433, loss = 0.00597818\n",
            "Iteration 434, loss = 0.00590259\n",
            "Iteration 435, loss = 0.00597550\n",
            "Iteration 436, loss = 0.00592357\n",
            "Iteration 437, loss = 0.00593532\n",
            "Iteration 438, loss = 0.00598761\n",
            "Iteration 439, loss = 0.00596422\n",
            "Iteration 440, loss = 0.00579662\n",
            "Iteration 441, loss = 0.00573762\n",
            "Iteration 442, loss = 0.00584103\n",
            "Iteration 443, loss = 0.00581030\n",
            "Iteration 444, loss = 0.00607704\n",
            "Iteration 445, loss = 0.00572356\n",
            "Iteration 446, loss = 0.00571142\n",
            "Iteration 447, loss = 0.00557993\n",
            "Iteration 448, loss = 0.00573258\n",
            "Iteration 449, loss = 0.00556908\n",
            "Iteration 450, loss = 0.00563232\n",
            "Iteration 451, loss = 0.00550288\n",
            "Iteration 452, loss = 0.00555278\n",
            "Iteration 453, loss = 0.00552993\n",
            "Iteration 454, loss = 0.00552543\n",
            "Iteration 455, loss = 0.00540472\n",
            "Iteration 456, loss = 0.00549852\n",
            "Iteration 457, loss = 0.00567107\n",
            "Iteration 458, loss = 0.00558275\n",
            "Iteration 459, loss = 0.00546623\n",
            "Iteration 460, loss = 0.00540834\n",
            "Iteration 461, loss = 0.00533505\n",
            "Iteration 462, loss = 0.00528725\n",
            "Iteration 463, loss = 0.00540370\n",
            "Iteration 464, loss = 0.00533467\n",
            "Iteration 465, loss = 0.00528497\n",
            "Iteration 466, loss = 0.00538266\n",
            "Iteration 467, loss = 0.00524097\n",
            "Iteration 468, loss = 0.00524447\n",
            "Iteration 469, loss = 0.00522454\n",
            "Iteration 470, loss = 0.00516482\n",
            "Iteration 471, loss = 0.00537061\n",
            "Iteration 472, loss = 0.00512254\n",
            "Iteration 473, loss = 0.00528287\n",
            "Iteration 474, loss = 0.00506474\n",
            "Iteration 475, loss = 0.00518428\n",
            "Iteration 476, loss = 0.00503745\n",
            "Iteration 477, loss = 0.00509735\n",
            "Iteration 478, loss = 0.00533580\n",
            "Iteration 479, loss = 0.00506697\n",
            "Iteration 480, loss = 0.00521522\n",
            "Iteration 481, loss = 0.00506151\n",
            "Iteration 482, loss = 0.00497253\n",
            "Iteration 483, loss = 0.00514624\n",
            "Iteration 484, loss = 0.00493562\n",
            "Iteration 485, loss = 0.00487730\n",
            "Iteration 486, loss = 0.00512958\n",
            "Iteration 487, loss = 0.00520326\n",
            "Iteration 488, loss = 0.00489680\n",
            "Iteration 489, loss = 0.00491301\n",
            "Iteration 490, loss = 0.00488834\n",
            "Iteration 491, loss = 0.00496300\n",
            "Iteration 492, loss = 0.00488633\n",
            "Iteration 493, loss = 0.00483356\n",
            "Iteration 494, loss = 0.00480217\n",
            "Iteration 495, loss = 0.00481430\n",
            "Iteration 496, loss = 0.00479730\n",
            "Iteration 497, loss = 0.00476887\n",
            "Iteration 498, loss = 0.00480894\n",
            "Iteration 499, loss = 0.00466656\n",
            "Iteration 500, loss = 0.00472274\n",
            "Iteration 501, loss = 0.00463658\n",
            "Iteration 502, loss = 0.00473058\n",
            "Iteration 503, loss = 0.00473414\n",
            "Iteration 504, loss = 0.00488836\n",
            "Iteration 505, loss = 0.00458773\n",
            "Iteration 506, loss = 0.00467928\n",
            "Iteration 507, loss = 0.00451831\n",
            "Iteration 508, loss = 0.00466760\n",
            "Iteration 509, loss = 0.00463220\n",
            "Iteration 510, loss = 0.00452705\n",
            "Iteration 511, loss = 0.00445805\n",
            "Iteration 512, loss = 0.00457968\n",
            "Iteration 513, loss = 0.00460264\n",
            "Iteration 514, loss = 0.00453441\n",
            "Iteration 515, loss = 0.00449191\n",
            "Iteration 516, loss = 0.00452351\n",
            "Iteration 517, loss = 0.00440586\n",
            "Iteration 518, loss = 0.00438681\n",
            "Iteration 519, loss = 0.00472053\n",
            "Iteration 520, loss = 0.00477430\n",
            "Iteration 521, loss = 0.00443054\n",
            "Iteration 522, loss = 0.00449725\n",
            "Iteration 523, loss = 0.00441343\n",
            "Iteration 524, loss = 0.00437094\n",
            "Iteration 525, loss = 0.00422596\n",
            "Iteration 526, loss = 0.00439789\n",
            "Iteration 527, loss = 0.00436447\n",
            "Iteration 528, loss = 0.00428045\n",
            "Iteration 529, loss = 0.00431227\n",
            "Iteration 530, loss = 0.00421584\n",
            "Iteration 531, loss = 0.00430119\n",
            "Iteration 532, loss = 0.00416780\n",
            "Iteration 533, loss = 0.00418863\n",
            "Iteration 534, loss = 0.00425807\n",
            "Iteration 535, loss = 0.00412982\n",
            "Iteration 536, loss = 0.00412562\n",
            "Iteration 537, loss = 0.00423509\n",
            "Iteration 538, loss = 0.00408142\n",
            "Iteration 539, loss = 0.00425953\n",
            "Iteration 540, loss = 0.00407162\n",
            "Iteration 541, loss = 0.00414611\n",
            "Iteration 542, loss = 0.00406723\n",
            "Iteration 543, loss = 0.00421509\n",
            "Iteration 544, loss = 0.00439599\n",
            "Iteration 545, loss = 0.00404260\n",
            "Iteration 546, loss = 0.00413375\n",
            "Iteration 547, loss = 0.00405998\n",
            "Iteration 548, loss = 0.00396068\n",
            "Iteration 549, loss = 0.00392886\n",
            "Iteration 550, loss = 0.00402876\n",
            "Iteration 551, loss = 0.00397188\n",
            "Iteration 552, loss = 0.00395277\n",
            "Iteration 553, loss = 0.00408972\n",
            "Iteration 554, loss = 0.00400708\n",
            "Iteration 555, loss = 0.00394566\n",
            "Iteration 556, loss = 0.00386286\n",
            "Iteration 557, loss = 0.00393789\n",
            "Iteration 558, loss = 0.00439800\n",
            "Iteration 559, loss = 0.00379126\n",
            "Iteration 560, loss = 0.00398083\n",
            "Iteration 561, loss = 0.00383792\n",
            "Iteration 562, loss = 0.00377272\n",
            "Iteration 563, loss = 0.00399408\n",
            "Iteration 564, loss = 0.00375713\n",
            "Iteration 565, loss = 0.00385806\n",
            "Iteration 566, loss = 0.00378700\n",
            "Iteration 567, loss = 0.00385843\n",
            "Iteration 568, loss = 0.00373333\n",
            "Iteration 569, loss = 0.00383177\n",
            "Iteration 570, loss = 0.00371752\n",
            "Iteration 571, loss = 0.00369806\n",
            "Iteration 572, loss = 0.00369319\n",
            "Iteration 573, loss = 0.00377878\n",
            "Iteration 574, loss = 0.00361331\n",
            "Iteration 575, loss = 0.00370835\n",
            "Iteration 576, loss = 0.00373566\n",
            "Iteration 577, loss = 0.00370987\n",
            "Iteration 578, loss = 0.00378374\n",
            "Iteration 579, loss = 0.00371379\n",
            "Iteration 580, loss = 0.00374172\n",
            "Iteration 581, loss = 0.00372186\n",
            "Iteration 582, loss = 0.00364474\n",
            "Iteration 583, loss = 0.00355782\n",
            "Iteration 584, loss = 0.00353280\n",
            "Iteration 585, loss = 0.00352910\n",
            "Iteration 586, loss = 0.00356154\n",
            "Iteration 587, loss = 0.00360106\n",
            "Iteration 588, loss = 0.00352211\n",
            "Iteration 589, loss = 0.00360641\n",
            "Iteration 590, loss = 0.00354923\n",
            "Iteration 591, loss = 0.00348816\n",
            "Iteration 592, loss = 0.00349419\n",
            "Iteration 593, loss = 0.00349496\n",
            "Iteration 594, loss = 0.00350590\n",
            "Iteration 595, loss = 0.00343352\n",
            "Iteration 596, loss = 0.00346443\n",
            "Iteration 597, loss = 0.00364903\n",
            "Iteration 598, loss = 0.00354632\n",
            "Iteration 599, loss = 0.00340030\n",
            "Iteration 600, loss = 0.00353204\n",
            "Iteration 601, loss = 0.00344674\n",
            "Iteration 602, loss = 0.00335379\n",
            "Iteration 603, loss = 0.00341661\n",
            "Iteration 604, loss = 0.00333437\n",
            "Iteration 605, loss = 0.00335317\n",
            "Iteration 606, loss = 0.00336913\n",
            "Iteration 607, loss = 0.00330096\n",
            "Iteration 608, loss = 0.00332998\n",
            "Iteration 609, loss = 0.00333340\n",
            "Iteration 610, loss = 0.00341628\n",
            "Iteration 611, loss = 0.00330384\n",
            "Iteration 612, loss = 0.00332248\n",
            "Iteration 613, loss = 0.00351480\n",
            "Iteration 614, loss = 0.00328859\n",
            "Iteration 615, loss = 0.00340308\n",
            "Iteration 616, loss = 0.00329709\n",
            "Iteration 617, loss = 0.00336947\n",
            "Iteration 618, loss = 0.00334771\n",
            "Iteration 619, loss = 0.00319793\n",
            "Iteration 620, loss = 0.00318316\n",
            "Iteration 621, loss = 0.00333905\n",
            "Iteration 622, loss = 0.00334582\n",
            "Iteration 623, loss = 0.00336602\n",
            "Iteration 624, loss = 0.00322678\n",
            "Iteration 625, loss = 0.00315563\n",
            "Iteration 626, loss = 0.00330992\n",
            "Iteration 627, loss = 0.00323288\n",
            "Iteration 628, loss = 0.00313942\n",
            "Iteration 629, loss = 0.00312540\n",
            "Iteration 630, loss = 0.00314838\n",
            "Iteration 631, loss = 0.00301086\n",
            "Iteration 632, loss = 0.00340617\n",
            "Iteration 633, loss = 0.00310958\n",
            "Iteration 634, loss = 0.00316420\n",
            "Iteration 635, loss = 0.00307585\n",
            "Iteration 636, loss = 0.00314757\n",
            "Iteration 637, loss = 0.00309602\n",
            "Iteration 638, loss = 0.00329269\n",
            "Iteration 639, loss = 0.00306292\n",
            "Iteration 640, loss = 0.00343124\n",
            "Iteration 641, loss = 0.00345389\n",
            "Iteration 642, loss = 0.00330709\n",
            "Training loss did not improve more than tol=0.000010 for 10 consecutive epochs. Stopping.\n"
          ]
        },
        {
          "output_type": "execute_result",
          "data": {
            "text/plain": [
              "MLPClassifier(hidden_layer_sizes=(20, 20), max_iter=1500, tol=1e-05,\n",
              "              verbose=True)"
            ],
            "text/html": [
              "<style>#sk-container-id-2 {color: black;background-color: white;}#sk-container-id-2 pre{padding: 0;}#sk-container-id-2 div.sk-toggleable {background-color: white;}#sk-container-id-2 label.sk-toggleable__label {cursor: pointer;display: block;width: 100%;margin-bottom: 0;padding: 0.3em;box-sizing: border-box;text-align: center;}#sk-container-id-2 label.sk-toggleable__label-arrow:before {content: \"▸\";float: left;margin-right: 0.25em;color: #696969;}#sk-container-id-2 label.sk-toggleable__label-arrow:hover:before {color: black;}#sk-container-id-2 div.sk-estimator:hover label.sk-toggleable__label-arrow:before {color: black;}#sk-container-id-2 div.sk-toggleable__content {max-height: 0;max-width: 0;overflow: hidden;text-align: left;background-color: #f0f8ff;}#sk-container-id-2 div.sk-toggleable__content pre {margin: 0.2em;color: black;border-radius: 0.25em;background-color: #f0f8ff;}#sk-container-id-2 input.sk-toggleable__control:checked~div.sk-toggleable__content {max-height: 200px;max-width: 100%;overflow: auto;}#sk-container-id-2 input.sk-toggleable__control:checked~label.sk-toggleable__label-arrow:before {content: \"▾\";}#sk-container-id-2 div.sk-estimator input.sk-toggleable__control:checked~label.sk-toggleable__label {background-color: #d4ebff;}#sk-container-id-2 div.sk-label input.sk-toggleable__control:checked~label.sk-toggleable__label {background-color: #d4ebff;}#sk-container-id-2 input.sk-hidden--visually {border: 0;clip: rect(1px 1px 1px 1px);clip: rect(1px, 1px, 1px, 1px);height: 1px;margin: -1px;overflow: hidden;padding: 0;position: absolute;width: 1px;}#sk-container-id-2 div.sk-estimator {font-family: monospace;background-color: #f0f8ff;border: 1px dotted black;border-radius: 0.25em;box-sizing: border-box;margin-bottom: 0.5em;}#sk-container-id-2 div.sk-estimator:hover {background-color: #d4ebff;}#sk-container-id-2 div.sk-parallel-item::after {content: \"\";width: 100%;border-bottom: 1px solid gray;flex-grow: 1;}#sk-container-id-2 div.sk-label:hover label.sk-toggleable__label {background-color: #d4ebff;}#sk-container-id-2 div.sk-serial::before {content: \"\";position: absolute;border-left: 1px solid gray;box-sizing: border-box;top: 0;bottom: 0;left: 50%;z-index: 0;}#sk-container-id-2 div.sk-serial {display: flex;flex-direction: column;align-items: center;background-color: white;padding-right: 0.2em;padding-left: 0.2em;position: relative;}#sk-container-id-2 div.sk-item {position: relative;z-index: 1;}#sk-container-id-2 div.sk-parallel {display: flex;align-items: stretch;justify-content: center;background-color: white;position: relative;}#sk-container-id-2 div.sk-item::before, #sk-container-id-2 div.sk-parallel-item::before {content: \"\";position: absolute;border-left: 1px solid gray;box-sizing: border-box;top: 0;bottom: 0;left: 50%;z-index: -1;}#sk-container-id-2 div.sk-parallel-item {display: flex;flex-direction: column;z-index: 1;position: relative;background-color: white;}#sk-container-id-2 div.sk-parallel-item:first-child::after {align-self: flex-end;width: 50%;}#sk-container-id-2 div.sk-parallel-item:last-child::after {align-self: flex-start;width: 50%;}#sk-container-id-2 div.sk-parallel-item:only-child::after {width: 0;}#sk-container-id-2 div.sk-dashed-wrapped {border: 1px dashed gray;margin: 0 0.4em 0.5em 0.4em;box-sizing: border-box;padding-bottom: 0.4em;background-color: white;}#sk-container-id-2 div.sk-label label {font-family: monospace;font-weight: bold;display: inline-block;line-height: 1.2em;}#sk-container-id-2 div.sk-label-container {text-align: center;}#sk-container-id-2 div.sk-container {/* jupyter's `normalize.less` sets `[hidden] { display: none; }` but bootstrap.min.css set `[hidden] { display: none !important; }` so we also need the `!important` here to be able to override the default hidden behavior on the sphinx rendered scikit-learn.org. See: https://github.com/scikit-learn/scikit-learn/issues/21755 */display: inline-block !important;position: relative;}#sk-container-id-2 div.sk-text-repr-fallback {display: none;}</style><div id=\"sk-container-id-2\" class=\"sk-top-container\"><div class=\"sk-text-repr-fallback\"><pre>MLPClassifier(hidden_layer_sizes=(20, 20), max_iter=1500, tol=1e-05,\n",
              "              verbose=True)</pre><b>In a Jupyter environment, please rerun this cell to show the HTML representation or trust the notebook. <br />On GitHub, the HTML representation is unable to render, please try loading this page with nbviewer.org.</b></div><div class=\"sk-container\" hidden><div class=\"sk-item\"><div class=\"sk-estimator sk-toggleable\"><input class=\"sk-toggleable__control sk-hidden--visually\" id=\"sk-estimator-id-2\" type=\"checkbox\" checked><label for=\"sk-estimator-id-2\" class=\"sk-toggleable__label sk-toggleable__label-arrow\">MLPClassifier</label><div class=\"sk-toggleable__content\"><pre>MLPClassifier(hidden_layer_sizes=(20, 20), max_iter=1500, tol=1e-05,\n",
              "              verbose=True)</pre></div></div></div></div></div>"
            ]
          },
          "metadata": {},
          "execution_count": 10
        }
      ]
    },
    {
      "cell_type": "markdown",
      "source": [
        "As seguintes linhas de código realizarão a previsão das saídas com base nos dados de teste X_credit_teste usando a rede_neural_credit.\n",
        "\n",
        "A função predict será usada para fazer previsões com o modelo treinado. Ela receberá os dados de entrada X_credit_teste e retornará as previsões correspondentes.\n",
        "\n",
        "Após a execução do código, a variável previsoes conterá as previsões feitas pela rede_neural_credit para os dados de teste X_credit_teste."
      ],
      "metadata": {
        "id": "rXlEtEsBr21W"
      }
    },
    {
      "cell_type": "code",
      "source": [
        "# Realizando as previsões.\n",
        "previsoes = rede_neural_credit.predict(X_credit_teste)"
      ],
      "metadata": {
        "id": "FfnTEVdxXkwJ"
      },
      "execution_count": 11,
      "outputs": []
    },
    {
      "cell_type": "markdown",
      "source": [
        "Ao retorna os valores das previsões inferidas pela rede_neural_credit, irei retorna os valores da variável y_credit_teste para fins de comparações."
      ],
      "metadata": {
        "id": "4WG4zHOTsqlW"
      }
    },
    {
      "cell_type": "code",
      "source": [
        "previsoes # Retornando as previsões."
      ],
      "metadata": {
        "colab": {
          "base_uri": "https://localhost:8080/"
        },
        "id": "b20_d5eXse_c",
        "outputId": "a5783c5e-ae51-4a9a-a622-550343e5c5da"
      },
      "execution_count": 12,
      "outputs": [
        {
          "output_type": "execute_result",
          "data": {
            "text/plain": [
              "array([1, 0, 0, 0, 0, 0, 0, 0, 0, 0, 0, 0, 0, 0, 0, 0, 1, 0, 0, 1, 0, 0,\n",
              "       0, 0, 0, 0, 0, 0, 0, 0, 0, 0, 0, 0, 0, 1, 1, 0, 0, 0, 0, 0, 0, 0,\n",
              "       0, 1, 1, 0, 1, 0, 0, 0, 0, 0, 0, 0, 0, 0, 0, 1, 0, 0, 0, 1, 0, 0,\n",
              "       0, 0, 0, 1, 0, 0, 1, 0, 0, 1, 0, 0, 1, 0, 0, 0, 0, 0, 0, 0, 1, 0,\n",
              "       0, 0, 0, 0, 0, 0, 0, 0, 0, 0, 0, 0, 0, 0, 0, 1, 0, 0, 1, 0, 0, 1,\n",
              "       0, 0, 1, 0, 0, 0, 0, 0, 0, 0, 0, 0, 0, 0, 0, 0, 0, 0, 0, 0, 0, 1,\n",
              "       0, 0, 0, 0, 0, 0, 0, 0, 0, 0, 0, 0, 1, 0, 0, 0, 0, 0, 0, 0, 1, 0,\n",
              "       0, 0, 0, 0, 0, 0, 0, 0, 0, 0, 0, 1, 0, 0, 0, 1, 0, 0, 0, 0, 0, 0,\n",
              "       0, 1, 0, 0, 0, 0, 0, 1, 0, 0, 0, 1, 0, 0, 0, 0, 1, 0, 0, 0, 0, 0,\n",
              "       0, 0, 0, 0, 0, 0, 0, 0, 1, 1, 0, 1, 0, 0, 0, 0, 0, 0, 0, 0, 0, 0,\n",
              "       1, 0, 0, 0, 0, 0, 0, 0, 0, 1, 0, 0, 0, 0, 0, 0, 0, 0, 0, 0, 0, 0,\n",
              "       0, 1, 1, 0, 1, 1, 0, 0, 0, 0, 0, 0, 0, 0, 0, 0, 1, 0, 1, 0, 0, 0,\n",
              "       0, 0, 0, 0, 0, 0, 0, 0, 0, 0, 0, 0, 0, 0, 0, 0, 0, 0, 0, 0, 0, 0,\n",
              "       0, 0, 0, 0, 0, 0, 0, 0, 0, 0, 1, 0, 0, 0, 0, 0, 0, 0, 1, 0, 0, 0,\n",
              "       0, 0, 1, 1, 0, 0, 0, 1, 0, 0, 0, 0, 0, 1, 0, 0, 0, 0, 0, 1, 0, 0,\n",
              "       0, 0, 0, 0, 0, 1, 0, 0, 0, 0, 0, 0, 1, 0, 0, 0, 0, 0, 0, 1, 0, 0,\n",
              "       0, 0, 0, 1, 0, 0, 0, 0, 0, 0, 0, 0, 0, 0, 0, 0, 0, 0, 0, 0, 0, 0,\n",
              "       0, 0, 0, 0, 1, 0, 0, 0, 0, 0, 0, 0, 1, 0, 0, 0, 0, 0, 0, 0, 0, 0,\n",
              "       0, 0, 0, 0, 1, 0, 0, 0, 0, 0, 0, 0, 0, 0, 1, 0, 0, 0, 0, 0, 0, 0,\n",
              "       0, 0, 0, 0, 0, 0, 0, 0, 0, 0, 0, 0, 0, 1, 0, 0, 0, 0, 0, 0, 0, 0,\n",
              "       0, 1, 0, 0, 1, 0, 0, 0, 0, 0, 0, 0, 1, 0, 0, 0, 0, 0, 0, 0, 0, 0,\n",
              "       0, 0, 1, 0, 0, 0, 0, 0, 0, 0, 0, 0, 0, 0, 0, 1, 0, 0, 0, 0, 0, 0,\n",
              "       0, 0, 1, 0, 0, 0, 1, 0, 0, 0, 0, 0, 0, 0, 1, 1])"
            ]
          },
          "metadata": {},
          "execution_count": 12
        }
      ]
    },
    {
      "cell_type": "code",
      "source": [
        "y_credit_teste # Retornando os dados corretos."
      ],
      "metadata": {
        "colab": {
          "base_uri": "https://localhost:8080/"
        },
        "id": "jMhsIdMzXtkp",
        "outputId": "d8c0cee8-d8fd-4fa8-98d6-a771c1b15edf"
      },
      "execution_count": 13,
      "outputs": [
        {
          "output_type": "execute_result",
          "data": {
            "text/plain": [
              "array([1, 0, 0, 0, 0, 0, 0, 0, 0, 0, 0, 0, 0, 0, 0, 0, 1, 0, 0, 1, 0, 0,\n",
              "       0, 0, 0, 0, 0, 0, 0, 0, 0, 0, 0, 0, 0, 1, 1, 0, 0, 0, 0, 0, 0, 0,\n",
              "       0, 1, 1, 0, 1, 0, 0, 0, 0, 0, 0, 0, 0, 0, 0, 1, 0, 0, 0, 1, 0, 0,\n",
              "       0, 0, 0, 1, 0, 0, 1, 0, 0, 1, 0, 0, 1, 0, 0, 0, 0, 0, 0, 0, 1, 0,\n",
              "       0, 0, 0, 0, 0, 0, 0, 0, 0, 0, 0, 0, 0, 0, 0, 1, 0, 0, 0, 0, 0, 1,\n",
              "       0, 0, 1, 0, 0, 0, 0, 0, 0, 0, 0, 0, 0, 0, 0, 0, 0, 0, 0, 0, 0, 1,\n",
              "       0, 0, 0, 0, 0, 0, 0, 0, 0, 0, 0, 0, 1, 0, 0, 0, 0, 0, 0, 0, 1, 0,\n",
              "       0, 0, 0, 0, 0, 0, 0, 0, 0, 0, 0, 1, 0, 0, 0, 1, 0, 0, 0, 0, 0, 0,\n",
              "       0, 1, 0, 0, 0, 0, 0, 1, 0, 0, 0, 1, 1, 0, 0, 0, 1, 0, 0, 0, 0, 0,\n",
              "       0, 0, 0, 0, 0, 0, 0, 0, 1, 1, 0, 1, 0, 0, 0, 0, 0, 0, 0, 0, 0, 0,\n",
              "       1, 0, 0, 0, 0, 0, 0, 0, 0, 1, 0, 0, 0, 0, 0, 0, 0, 0, 0, 0, 0, 0,\n",
              "       0, 1, 1, 0, 1, 1, 0, 0, 0, 0, 0, 0, 0, 0, 0, 0, 1, 0, 1, 0, 0, 0,\n",
              "       0, 0, 0, 0, 0, 0, 0, 0, 0, 0, 0, 0, 0, 0, 0, 0, 0, 0, 0, 0, 0, 0,\n",
              "       0, 0, 0, 0, 0, 0, 0, 0, 0, 0, 1, 0, 0, 0, 0, 0, 0, 0, 1, 0, 0, 0,\n",
              "       0, 0, 1, 1, 0, 0, 0, 1, 0, 0, 0, 0, 0, 1, 0, 0, 0, 0, 0, 1, 0, 0,\n",
              "       0, 0, 0, 0, 0, 1, 0, 0, 0, 0, 0, 0, 1, 0, 0, 0, 0, 0, 0, 1, 0, 0,\n",
              "       0, 0, 0, 1, 0, 0, 0, 0, 0, 0, 0, 0, 0, 0, 0, 0, 0, 0, 0, 0, 0, 0,\n",
              "       0, 0, 0, 0, 1, 0, 0, 0, 0, 0, 0, 0, 1, 0, 0, 0, 0, 0, 0, 0, 0, 0,\n",
              "       0, 0, 0, 0, 1, 0, 0, 0, 0, 0, 0, 0, 0, 0, 1, 0, 0, 0, 0, 0, 0, 0,\n",
              "       0, 0, 0, 0, 0, 0, 0, 0, 0, 0, 0, 0, 0, 1, 0, 0, 0, 0, 0, 0, 0, 0,\n",
              "       0, 1, 0, 0, 1, 0, 0, 0, 0, 0, 0, 0, 1, 0, 0, 0, 0, 0, 0, 0, 0, 0,\n",
              "       0, 0, 1, 0, 0, 0, 0, 0, 0, 0, 0, 0, 0, 0, 0, 1, 0, 0, 0, 0, 0, 0,\n",
              "       0, 0, 1, 0, 0, 0, 1, 0, 0, 0, 0, 0, 0, 0, 1, 1])"
            ]
          },
          "metadata": {},
          "execution_count": 13
        }
      ]
    },
    {
      "cell_type": "markdown",
      "source": [
        "A seguir irei calcular a pontuação de acurácia entre as saídas reais y_credit_teste e as previsões previsoes feitas pela rede neural rede_neural_credit, utilizando a função accuracy_score. A função retornará o valor da accurácia.\n",
        "\n",
        "A acurácia nada mais é que a proporção de amostras classificadas corretamente em relação ao total de amostras.\n",
        "\n"
      ],
      "metadata": {
        "id": "HQUQeHuItNV-"
      }
    },
    {
      "cell_type": "code",
      "source": [
        "# Calculando a acurácia.\n",
        "accuracy_score(y_credit_teste, previsoes)"
      ],
      "metadata": {
        "colab": {
          "base_uri": "https://localhost:8080/"
        },
        "id": "treqV50GXxSw",
        "outputId": "12b88d9c-f41e-4765-b66d-67025cd315a2"
      },
      "execution_count": 14,
      "outputs": [
        {
          "output_type": "execute_result",
          "data": {
            "text/plain": [
              "0.996"
            ]
          },
          "metadata": {},
          "execution_count": 14
        }
      ]
    },
    {
      "cell_type": "markdown",
      "source": [
        "Utilizarei a Matrix de Confusão, ela me permitirá visualizar e analisar as previsões feitas pelo modelo em relação aos rótulos reais dos dados.\n",
        "\n",
        "\n",
        "\n",
        "> Lembrando que essa matriz é fornecida pela biblioteca Yellowbrick\n",
        "\n"
      ],
      "metadata": {
        "id": "Q3uC4hFduXvV"
      }
    },
    {
      "cell_type": "code",
      "source": [
        "# Criando a matriz de confusão.\n",
        "cm = ConfusionMatrix(rede_neural_credit)\n",
        "cm.fit(X_credit_treinamento, y_credit_treinamento)\n",
        "cm.score(X_credit_teste, y_credit_teste)\n",
        "cm.show();"
      ],
      "metadata": {
        "colab": {
          "base_uri": "https://localhost:8080/",
          "height": 551
        },
        "id": "IY9U2mvLX0EQ",
        "outputId": "6b2cf3e8-b406-4c9a-f323-a1533842ca03"
      },
      "execution_count": 15,
      "outputs": [
        {
          "output_type": "display_data",
          "data": {
            "text/plain": [
              "<Figure size 800x550 with 1 Axes>"
            ],
            "image/png": "[encoded data removed]"
          },
          "metadata": {}
        }
      ]
    },
    {
      "cell_type": "markdown",
      "source": [
        "Também utilizarei a função classification_report do scikit-learn que é bastante útil para gerar um relatório detalhado de métricas de avaliação de classificação para cada classe presente nos dados. Ela fornecerá informações como precisão, revocação, pontuação F1 e suporte para cada classe. De tal forma, poderei avaliar o desempenho da rede_neural_credit na classificação do dados."
      ],
      "metadata": {
        "id": "8_dw7dmTvnCr"
      }
    },
    {
      "cell_type": "code",
      "source": [
        "print(classification_report(y_credit_teste, previsoes))"
      ],
      "metadata": {
        "colab": {
          "base_uri": "https://localhost:8080/"
        },
        "id": "ZZBfkbfyX2DB",
        "outputId": "63ace060-d0c6-4e7f-c28c-c43d268d997d"
      },
      "execution_count": 16,
      "outputs": [
        {
          "output_type": "stream",
          "name": "stdout",
          "text": [
            "              precision    recall  f1-score   support\n",
            "\n",
            "           0       1.00      1.00      1.00       436\n",
            "           1       0.98      0.98      0.98        64\n",
            "\n",
            "    accuracy                           1.00       500\n",
            "   macro avg       0.99      0.99      0.99       500\n",
            "weighted avg       1.00      1.00      1.00       500\n",
            "\n"
          ]
        }
      ]
    },
    {
      "cell_type": "markdown",
      "source": [
        "# **Relatório Final**\n",
        "\n",
        "Com base nas métricas apresentadas no relatório de classificação, o algoritmo de classificação de crédito utilizando a rede neural multicamadas obteve um desempenho excelente. As métricas de precisão, recall e F1-score demonstram resultados muito altos para ambas as classes, com valores próximos de 1.0. Além disso, a acurácia do modelo também atingiu 100%.\n",
        "\n",
        "Esses resultados sugerem que o algoritmo de classificação de crédito com a rede neural foi capaz de aprender padrões nos dados de treinamento e generalizá-los para os dados de teste com alta precisão. Portanto, com base nessas métricas, podemos considerar que o algoritmo é muito eficaz e confiável na classificação de crédito.\n",
        "\n",
        "No entanto, é importante lembrar que a avaliação de um algoritmo de classificação não deve se basear apenas em métricas de desempenho, mas também considerar outros fatores, como a adequação do modelo aos requisitos do problema, a interpretabilidade das decisões tomadas pelo modelo e a robustez do algoritmo em diferentes conjuntos de dados.\n",
        "\n",
        "\n",
        "\n",
        "\n"
      ],
      "metadata": {
        "id": "nKMaqmgubNXd"
      }
    },
    {
      "cell_type": "markdown",
      "source": [
        "# **MLP Aplicado a Base do Censo**\n",
        "\n",
        "A partir deste ponto, realizarei o treinamento e teste do algoritmo com a base de dados do censo. No entanto, como seguirei o mesmo processo que foi implementado no treinamento da Base de Crédito, não irei detalhar cada etapa novamente. Ao invés disso, vou fornecer apenas o relatório final com os resultados obtidos.\n",
        "\n",
        "> Atenção: Todo os dados aqui utilizados, já foram todos pré-processados e estão pronto para uso.\n",
        "\n"
      ],
      "metadata": {
        "id": "gwzj4X3FYDQB"
      }
    },
    {
      "cell_type": "code",
      "source": [
        "with open('census.pkl', 'rb') as f:\n",
        "  X_census_treinamento, y_census_treinamento, X_census_teste, y_census_teste = pickle.load(f)"
      ],
      "metadata": {
        "id": "UzDpYRl6YBOA"
      },
      "execution_count": 21,
      "outputs": []
    },
    {
      "cell_type": "code",
      "source": [
        "X_census_treinamento.shape, y_census_treinamento.shape"
      ],
      "metadata": {
        "colab": {
          "base_uri": "https://localhost:8080/"
        },
        "id": "A6hGf2ymYJF4",
        "outputId": "79d6a023-f1ec-4861-9b9c-eee8dc5865be"
      },
      "execution_count": 22,
      "outputs": [
        {
          "output_type": "execute_result",
          "data": {
            "text/plain": [
              "((27676, 108), (27676,))"
            ]
          },
          "metadata": {},
          "execution_count": 22
        }
      ]
    },
    {
      "cell_type": "code",
      "source": [
        "X_census_teste.shape, y_census_teste.shape"
      ],
      "metadata": {
        "colab": {
          "base_uri": "https://localhost:8080/"
        },
        "id": "tyD4OzfHYNTZ",
        "outputId": "299c11bc-f644-45a1-a9b2-fcd69f2219eb"
      },
      "execution_count": 23,
      "outputs": [
        {
          "output_type": "execute_result",
          "data": {
            "text/plain": [
              "((4885, 108), (4885,))"
            ]
          },
          "metadata": {},
          "execution_count": 23
        }
      ]
    },
    {
      "cell_type": "code",
      "source": [
        "rede_neural_census = MLPClassifier(verbose=True, max_iter = 1000, tol=0.000010,\n",
        "                                  hidden_layer_sizes = (55,55)\n",
        ")\n",
        "\n",
        "rede_neural_census.fit(X_census_treinamento, y_census_treinamento)"
      ],
      "metadata": {
        "colab": {
          "base_uri": "https://localhost:8080/",
          "height": 1000
        },
        "id": "2068EzqNYQPT",
        "outputId": "05960cee-9eec-4229-c2a9-a34179e49f1a"
      },
      "execution_count": 55,
      "outputs": [
        {
          "output_type": "stream",
          "name": "stdout",
          "text": [
            "Iteration 1, loss = 0.39572161\n",
            "Iteration 2, loss = 0.32729035\n",
            "Iteration 3, loss = 0.31454015\n",
            "Iteration 4, loss = 0.30723524\n",
            "Iteration 5, loss = 0.30275070\n",
            "Iteration 6, loss = 0.29857567\n",
            "Iteration 7, loss = 0.29612853\n",
            "Iteration 8, loss = 0.29306189\n",
            "Iteration 9, loss = 0.29023297\n",
            "Iteration 10, loss = 0.28896061\n",
            "Iteration 11, loss = 0.28556978\n",
            "Iteration 12, loss = 0.28429182\n",
            "Iteration 13, loss = 0.28172748\n",
            "Iteration 14, loss = 0.28022158\n",
            "Iteration 15, loss = 0.27812685\n",
            "Iteration 16, loss = 0.27557371\n",
            "Iteration 17, loss = 0.27570867\n",
            "Iteration 18, loss = 0.27349851\n",
            "Iteration 19, loss = 0.27178036\n",
            "Iteration 20, loss = 0.27102214\n",
            "Iteration 21, loss = 0.26830043\n",
            "Iteration 22, loss = 0.26616544\n",
            "Iteration 23, loss = 0.26494714\n",
            "Iteration 24, loss = 0.26502836\n",
            "Iteration 25, loss = 0.26217984\n",
            "Iteration 26, loss = 0.26144044\n",
            "Iteration 27, loss = 0.25968393\n",
            "Iteration 28, loss = 0.25792011\n",
            "Iteration 29, loss = 0.25719097\n",
            "Iteration 30, loss = 0.25606014\n",
            "Iteration 31, loss = 0.25518140\n",
            "Iteration 32, loss = 0.25332356\n",
            "Iteration 33, loss = 0.25211790\n",
            "Iteration 34, loss = 0.25142464\n",
            "Iteration 35, loss = 0.25066939\n",
            "Iteration 36, loss = 0.24846768\n",
            "Iteration 37, loss = 0.24718584\n",
            "Iteration 38, loss = 0.24698648\n",
            "Iteration 39, loss = 0.24466257\n",
            "Iteration 40, loss = 0.24338717\n",
            "Iteration 41, loss = 0.24257503\n",
            "Iteration 42, loss = 0.24246838\n",
            "Iteration 43, loss = 0.24124220\n",
            "Iteration 44, loss = 0.23897062\n",
            "Iteration 45, loss = 0.23870900\n",
            "Iteration 46, loss = 0.23709209\n",
            "Iteration 47, loss = 0.23719110\n",
            "Iteration 48, loss = 0.23485183\n",
            "Iteration 49, loss = 0.23482484\n",
            "Iteration 50, loss = 0.23458379\n",
            "Iteration 51, loss = 0.23179490\n",
            "Iteration 52, loss = 0.23141435\n",
            "Iteration 53, loss = 0.23056402\n",
            "Iteration 54, loss = 0.23016050\n",
            "Iteration 55, loss = 0.22794942\n",
            "Iteration 56, loss = 0.22742369\n",
            "Iteration 57, loss = 0.22617747\n",
            "Iteration 58, loss = 0.22554228\n",
            "Iteration 59, loss = 0.22386437\n",
            "Iteration 60, loss = 0.22439694\n",
            "Iteration 61, loss = 0.22346945\n",
            "Iteration 62, loss = 0.22157887\n",
            "Iteration 63, loss = 0.22162244\n",
            "Iteration 64, loss = 0.22046919\n",
            "Iteration 65, loss = 0.21928449\n",
            "Iteration 66, loss = 0.21905268\n",
            "Iteration 67, loss = 0.21794520\n",
            "Iteration 68, loss = 0.21766499\n",
            "Iteration 69, loss = 0.21538430\n",
            "Iteration 70, loss = 0.21670550\n",
            "Iteration 71, loss = 0.21574747\n",
            "Iteration 72, loss = 0.21520464\n",
            "Iteration 73, loss = 0.21452568\n",
            "Iteration 74, loss = 0.21256767\n",
            "Iteration 75, loss = 0.21214789\n",
            "Iteration 76, loss = 0.21112838\n",
            "Iteration 77, loss = 0.21049568\n",
            "Iteration 78, loss = 0.21017842\n",
            "Iteration 79, loss = 0.20920138\n",
            "Iteration 80, loss = 0.20991537\n",
            "Iteration 81, loss = 0.20899780\n",
            "Iteration 82, loss = 0.20752536\n",
            "Iteration 83, loss = 0.20774611\n",
            "Iteration 84, loss = 0.20747170\n",
            "Iteration 85, loss = 0.20591364\n",
            "Iteration 86, loss = 0.20647555\n",
            "Iteration 87, loss = 0.20417102\n",
            "Iteration 88, loss = 0.20476421\n",
            "Iteration 89, loss = 0.20385948\n",
            "Iteration 90, loss = 0.20331017\n",
            "Iteration 91, loss = 0.20179312\n",
            "Iteration 92, loss = 0.20248950\n",
            "Iteration 93, loss = 0.20090037\n",
            "Iteration 94, loss = 0.20110244\n",
            "Iteration 95, loss = 0.20025261\n",
            "Iteration 96, loss = 0.20008706\n",
            "Iteration 97, loss = 0.19958929\n",
            "Iteration 98, loss = 0.19981221\n",
            "Iteration 99, loss = 0.19981749\n",
            "Iteration 100, loss = 0.19842431\n",
            "Iteration 101, loss = 0.19642910\n",
            "Iteration 102, loss = 0.19637242\n",
            "Iteration 103, loss = 0.19753610\n",
            "Iteration 104, loss = 0.19655606\n",
            "Iteration 105, loss = 0.19493778\n",
            "Iteration 106, loss = 0.19484123\n",
            "Iteration 107, loss = 0.19431771\n",
            "Iteration 108, loss = 0.19426892\n",
            "Iteration 109, loss = 0.19372318\n",
            "Iteration 110, loss = 0.19397463\n",
            "Iteration 111, loss = 0.19240150\n",
            "Iteration 112, loss = 0.19242682\n",
            "Iteration 113, loss = 0.19182436\n",
            "Iteration 114, loss = 0.19301669\n",
            "Iteration 115, loss = 0.19141330\n",
            "Iteration 116, loss = 0.18998542\n",
            "Iteration 117, loss = 0.18966160\n",
            "Iteration 118, loss = 0.18983185\n",
            "Iteration 119, loss = 0.18914373\n",
            "Iteration 120, loss = 0.18877917\n",
            "Iteration 121, loss = 0.18830552\n",
            "Iteration 122, loss = 0.18818581\n",
            "Iteration 123, loss = 0.18751217\n",
            "Iteration 124, loss = 0.18750611\n",
            "Iteration 125, loss = 0.18640436\n",
            "Iteration 126, loss = 0.18657891\n",
            "Iteration 127, loss = 0.18664516\n",
            "Iteration 128, loss = 0.18581980\n",
            "Iteration 129, loss = 0.18596979\n",
            "Iteration 130, loss = 0.18453806\n",
            "Iteration 131, loss = 0.18518402\n",
            "Iteration 132, loss = 0.18393499\n",
            "Iteration 133, loss = 0.18342958\n",
            "Iteration 134, loss = 0.18362416\n",
            "Iteration 135, loss = 0.18214431\n",
            "Iteration 136, loss = 0.18305513\n",
            "Iteration 137, loss = 0.18189409\n",
            "Iteration 138, loss = 0.18225305\n",
            "Iteration 139, loss = 0.18209512\n",
            "Iteration 140, loss = 0.18212749\n",
            "Iteration 141, loss = 0.18189988\n",
            "Iteration 142, loss = 0.18082055\n",
            "Iteration 143, loss = 0.18116743\n",
            "Iteration 144, loss = 0.18228644\n",
            "Iteration 145, loss = 0.17906610\n",
            "Iteration 146, loss = 0.17940414\n",
            "Iteration 147, loss = 0.17822549\n",
            "Iteration 148, loss = 0.18039890\n",
            "Iteration 149, loss = 0.17914293\n",
            "Iteration 150, loss = 0.17829772\n",
            "Iteration 151, loss = 0.17803644\n",
            "Iteration 152, loss = 0.17831615\n",
            "Iteration 153, loss = 0.17692099\n",
            "Iteration 154, loss = 0.17526116\n",
            "Iteration 155, loss = 0.17595989\n",
            "Iteration 156, loss = 0.17793998\n",
            "Iteration 157, loss = 0.17695457\n",
            "Iteration 158, loss = 0.17488085\n",
            "Iteration 159, loss = 0.17554300\n",
            "Iteration 160, loss = 0.17362696\n",
            "Iteration 161, loss = 0.17484335\n",
            "Iteration 162, loss = 0.17424055\n",
            "Iteration 163, loss = 0.17455767\n",
            "Iteration 164, loss = 0.17293892\n",
            "Iteration 165, loss = 0.17318292\n",
            "Iteration 166, loss = 0.17278449\n",
            "Iteration 167, loss = 0.17321049\n",
            "Iteration 168, loss = 0.17273137\n",
            "Iteration 169, loss = 0.17355397\n",
            "Iteration 170, loss = 0.17159094\n",
            "Iteration 171, loss = 0.17042023\n",
            "Iteration 172, loss = 0.16987155\n",
            "Iteration 173, loss = 0.17021187\n",
            "Iteration 174, loss = 0.17084283\n",
            "Iteration 175, loss = 0.16932848\n",
            "Iteration 176, loss = 0.17092965\n",
            "Iteration 177, loss = 0.17088921\n",
            "Iteration 178, loss = 0.16990370\n",
            "Iteration 179, loss = 0.16988215\n",
            "Iteration 180, loss = 0.17006361\n",
            "Iteration 181, loss = 0.16873501\n",
            "Iteration 182, loss = 0.16801405\n",
            "Iteration 183, loss = 0.16789431\n",
            "Iteration 184, loss = 0.16833169\n",
            "Iteration 185, loss = 0.16742385\n",
            "Iteration 186, loss = 0.16827182\n",
            "Iteration 187, loss = 0.16697824\n",
            "Iteration 188, loss = 0.16628445\n",
            "Iteration 189, loss = 0.16788991\n",
            "Iteration 190, loss = 0.16862746\n",
            "Iteration 191, loss = 0.16574253\n",
            "Iteration 192, loss = 0.16545990\n",
            "Iteration 193, loss = 0.16485206\n",
            "Iteration 194, loss = 0.16596186\n",
            "Iteration 195, loss = 0.16511593\n",
            "Iteration 196, loss = 0.16328418\n",
            "Iteration 197, loss = 0.16354022\n",
            "Iteration 198, loss = 0.16508611\n",
            "Iteration 199, loss = 0.16402720\n",
            "Iteration 200, loss = 0.16332341\n",
            "Iteration 201, loss = 0.16451100\n",
            "Iteration 202, loss = 0.16321642\n",
            "Iteration 203, loss = 0.16435871\n",
            "Iteration 204, loss = 0.16287199\n",
            "Iteration 205, loss = 0.16230387\n",
            "Iteration 206, loss = 0.15994751\n",
            "Iteration 207, loss = 0.16302320\n",
            "Iteration 208, loss = 0.16105127\n",
            "Iteration 209, loss = 0.16215449\n",
            "Iteration 210, loss = 0.16201231\n",
            "Iteration 211, loss = 0.16032725\n",
            "Iteration 212, loss = 0.16045836\n",
            "Iteration 213, loss = 0.16117451\n",
            "Iteration 214, loss = 0.16059252\n",
            "Iteration 215, loss = 0.16169941\n",
            "Iteration 216, loss = 0.16063103\n",
            "Iteration 217, loss = 0.15899230\n",
            "Iteration 218, loss = 0.15985009\n",
            "Iteration 219, loss = 0.15956895\n",
            "Iteration 220, loss = 0.15901852\n",
            "Iteration 221, loss = 0.16017031\n",
            "Iteration 222, loss = 0.16227118\n",
            "Iteration 223, loss = 0.15980558\n",
            "Iteration 224, loss = 0.15789006\n",
            "Iteration 225, loss = 0.15778468\n",
            "Iteration 226, loss = 0.15745807\n",
            "Iteration 227, loss = 0.15797217\n",
            "Iteration 228, loss = 0.15802358\n",
            "Iteration 229, loss = 0.15783921\n",
            "Iteration 230, loss = 0.15816496\n",
            "Iteration 231, loss = 0.15774160\n",
            "Iteration 232, loss = 0.15819613\n",
            "Iteration 233, loss = 0.15625551\n",
            "Iteration 234, loss = 0.15712296\n",
            "Iteration 235, loss = 0.15531137\n",
            "Iteration 236, loss = 0.15388347\n",
            "Iteration 237, loss = 0.15772861\n",
            "Iteration 238, loss = 0.15738272\n",
            "Iteration 239, loss = 0.15977301\n",
            "Iteration 240, loss = 0.15694959\n",
            "Iteration 241, loss = 0.15661744\n",
            "Iteration 242, loss = 0.15638224\n",
            "Iteration 243, loss = 0.15656224\n",
            "Iteration 244, loss = 0.15615994\n",
            "Iteration 245, loss = 0.15406944\n",
            "Iteration 246, loss = 0.15467130\n",
            "Iteration 247, loss = 0.15414098\n",
            "Training loss did not improve more than tol=0.000010 for 10 consecutive epochs. Stopping.\n"
          ]
        },
        {
          "output_type": "execute_result",
          "data": {
            "text/plain": [
              "MLPClassifier(hidden_layer_sizes=(55, 55), max_iter=1000, tol=1e-05,\n",
              "              verbose=True)"
            ],
            "text/html": [
              "<style>#sk-container-id-10 {color: black;background-color: white;}#sk-container-id-10 pre{padding: 0;}#sk-container-id-10 div.sk-toggleable {background-color: white;}#sk-container-id-10 label.sk-toggleable__label {cursor: pointer;display: block;width: 100%;margin-bottom: 0;padding: 0.3em;box-sizing: border-box;text-align: center;}#sk-container-id-10 label.sk-toggleable__label-arrow:before {content: \"▸\";float: left;margin-right: 0.25em;color: #696969;}#sk-container-id-10 label.sk-toggleable__label-arrow:hover:before {color: black;}#sk-container-id-10 div.sk-estimator:hover label.sk-toggleable__label-arrow:before {color: black;}#sk-container-id-10 div.sk-toggleable__content {max-height: 0;max-width: 0;overflow: hidden;text-align: left;background-color: #f0f8ff;}#sk-container-id-10 div.sk-toggleable__content pre {margin: 0.2em;color: black;border-radius: 0.25em;background-color: #f0f8ff;}#sk-container-id-10 input.sk-toggleable__control:checked~div.sk-toggleable__content {max-height: 200px;max-width: 100%;overflow: auto;}#sk-container-id-10 input.sk-toggleable__control:checked~label.sk-toggleable__label-arrow:before {content: \"▾\";}#sk-container-id-10 div.sk-estimator input.sk-toggleable__control:checked~label.sk-toggleable__label {background-color: #d4ebff;}#sk-container-id-10 div.sk-label input.sk-toggleable__control:checked~label.sk-toggleable__label {background-color: #d4ebff;}#sk-container-id-10 input.sk-hidden--visually {border: 0;clip: rect(1px 1px 1px 1px);clip: rect(1px, 1px, 1px, 1px);height: 1px;margin: -1px;overflow: hidden;padding: 0;position: absolute;width: 1px;}#sk-container-id-10 div.sk-estimator {font-family: monospace;background-color: #f0f8ff;border: 1px dotted black;border-radius: 0.25em;box-sizing: border-box;margin-bottom: 0.5em;}#sk-container-id-10 div.sk-estimator:hover {background-color: #d4ebff;}#sk-container-id-10 div.sk-parallel-item::after {content: \"\";width: 100%;border-bottom: 1px solid gray;flex-grow: 1;}#sk-container-id-10 div.sk-label:hover label.sk-toggleable__label {background-color: #d4ebff;}#sk-container-id-10 div.sk-serial::before {content: \"\";position: absolute;border-left: 1px solid gray;box-sizing: border-box;top: 0;bottom: 0;left: 50%;z-index: 0;}#sk-container-id-10 div.sk-serial {display: flex;flex-direction: column;align-items: center;background-color: white;padding-right: 0.2em;padding-left: 0.2em;position: relative;}#sk-container-id-10 div.sk-item {position: relative;z-index: 1;}#sk-container-id-10 div.sk-parallel {display: flex;align-items: stretch;justify-content: center;background-color: white;position: relative;}#sk-container-id-10 div.sk-item::before, #sk-container-id-10 div.sk-parallel-item::before {content: \"\";position: absolute;border-left: 1px solid gray;box-sizing: border-box;top: 0;bottom: 0;left: 50%;z-index: -1;}#sk-container-id-10 div.sk-parallel-item {display: flex;flex-direction: column;z-index: 1;position: relative;background-color: white;}#sk-container-id-10 div.sk-parallel-item:first-child::after {align-self: flex-end;width: 50%;}#sk-container-id-10 div.sk-parallel-item:last-child::after {align-self: flex-start;width: 50%;}#sk-container-id-10 div.sk-parallel-item:only-child::after {width: 0;}#sk-container-id-10 div.sk-dashed-wrapped {border: 1px dashed gray;margin: 0 0.4em 0.5em 0.4em;box-sizing: border-box;padding-bottom: 0.4em;background-color: white;}#sk-container-id-10 div.sk-label label {font-family: monospace;font-weight: bold;display: inline-block;line-height: 1.2em;}#sk-container-id-10 div.sk-label-container {text-align: center;}#sk-container-id-10 div.sk-container {/* jupyter's `normalize.less` sets `[hidden] { display: none; }` but bootstrap.min.css set `[hidden] { display: none !important; }` so we also need the `!important` here to be able to override the default hidden behavior on the sphinx rendered scikit-learn.org. See: https://github.com/scikit-learn/scikit-learn/issues/21755 */display: inline-block !important;position: relative;}#sk-container-id-10 div.sk-text-repr-fallback {display: none;}</style><div id=\"sk-container-id-10\" class=\"sk-top-container\"><div class=\"sk-text-repr-fallback\"><pre>MLPClassifier(hidden_layer_sizes=(55, 55), max_iter=1000, tol=1e-05,\n",
              "              verbose=True)</pre><b>In a Jupyter environment, please rerun this cell to show the HTML representation or trust the notebook. <br />On GitHub, the HTML representation is unable to render, please try loading this page with nbviewer.org.</b></div><div class=\"sk-container\" hidden><div class=\"sk-item\"><div class=\"sk-estimator sk-toggleable\"><input class=\"sk-toggleable__control sk-hidden--visually\" id=\"sk-estimator-id-10\" type=\"checkbox\" checked><label for=\"sk-estimator-id-10\" class=\"sk-toggleable__label sk-toggleable__label-arrow\">MLPClassifier</label><div class=\"sk-toggleable__content\"><pre>MLPClassifier(hidden_layer_sizes=(55, 55), max_iter=1000, tol=1e-05,\n",
              "              verbose=True)</pre></div></div></div></div></div>"
            ]
          },
          "metadata": {},
          "execution_count": 55
        }
      ]
    },
    {
      "cell_type": "code",
      "source": [
        "previsoes = rede_neural_census.predict(X_census_teste)\n",
        "previsoes"
      ],
      "metadata": {
        "colab": {
          "base_uri": "https://localhost:8080/"
        },
        "id": "9Ggtq6dXYnX6",
        "outputId": "6ba69e2f-8c9b-464d-9504-26dacdb8fa45"
      },
      "execution_count": 56,
      "outputs": [
        {
          "output_type": "execute_result",
          "data": {
            "text/plain": [
              "array([' <=50K', ' <=50K', ' <=50K', ..., ' <=50K', ' <=50K', ' >50K'],\n",
              "      dtype='<U6')"
            ]
          },
          "metadata": {},
          "execution_count": 56
        }
      ]
    },
    {
      "cell_type": "code",
      "source": [
        "y_census_teste"
      ],
      "metadata": {
        "colab": {
          "base_uri": "https://localhost:8080/"
        },
        "id": "bLi-FkJ8Ypo5",
        "outputId": "9a39e193-1f9b-480f-c6f5-d468655f2109"
      },
      "execution_count": 57,
      "outputs": [
        {
          "output_type": "execute_result",
          "data": {
            "text/plain": [
              "array([' <=50K', ' <=50K', ' <=50K', ..., ' <=50K', ' <=50K', ' <=50K'],\n",
              "      dtype=object)"
            ]
          },
          "metadata": {},
          "execution_count": 57
        }
      ]
    },
    {
      "cell_type": "code",
      "source": [
        "accuracy_score(y_census_teste, previsoes)"
      ],
      "metadata": {
        "colab": {
          "base_uri": "https://localhost:8080/"
        },
        "id": "woQ3P3qMYr2Z",
        "outputId": "c68ce5b8-b8ac-488a-e333-3d17fb4c38e2"
      },
      "execution_count": 59,
      "outputs": [
        {
          "output_type": "execute_result",
          "data": {
            "text/plain": [
              "0.8174002047082907"
            ]
          },
          "metadata": {},
          "execution_count": 59
        }
      ]
    },
    {
      "cell_type": "code",
      "source": [
        "cm = ConfusionMatrix(rede_neural_census)\n",
        "cm.fit(X_census_treinamento, y_census_treinamento)\n",
        "cm.score(X_census_teste, y_census_teste)"
      ],
      "metadata": {
        "colab": {
          "base_uri": "https://localhost:8080/",
          "height": 540
        },
        "id": "2Jb-oAgUYt_5",
        "outputId": "dcad7784-2c31-4e5c-b24a-58902ba35ea8"
      },
      "execution_count": 28,
      "outputs": [
        {
          "output_type": "execute_result",
          "data": {
            "text/plain": [
              "0.8169907881269192"
            ]
          },
          "metadata": {},
          "execution_count": 28
        },
        {
          "output_type": "display_data",
          "data": {
            "text/plain": [
              "<Figure size 800x550 with 1 Axes>"
            ],
            "image/png": "[encoded data removed]"
          },
          "metadata": {}
        }
      ]
    },
    {
      "cell_type": "code",
      "source": [
        "print(classification_report(y_census_teste, previsoes))"
      ],
      "metadata": {
        "colab": {
          "base_uri": "https://localhost:8080/"
        },
        "id": "DROxZaugYwgW",
        "outputId": "02e01a7a-aedc-40bf-d51f-ec98f26fbda8"
      },
      "execution_count": 60,
      "outputs": [
        {
          "output_type": "stream",
          "name": "stdout",
          "text": [
            "              precision    recall  f1-score   support\n",
            "\n",
            "       <=50K       0.87      0.89      0.88      3693\n",
            "        >50K       0.63      0.60      0.61      1192\n",
            "\n",
            "    accuracy                           0.82      4885\n",
            "   macro avg       0.75      0.74      0.75      4885\n",
            "weighted avg       0.81      0.82      0.82      4885\n",
            "\n"
          ]
        }
      ]
    },
    {
      "cell_type": "markdown",
      "source": [
        "## **Relatório Final**\n",
        "\n",
        "Com base nas métricas apresentadas no relatório de classificação, o algoritmo de classificação utilizando a rede neural multicamadas para o conjunto de dados \"Census\" obteve um desempenho razoável, e pode ser melhorado em relação a algumas métricas.\n",
        "\n",
        "Precision (Precisão): Para a classe <=50K, a precisão é de 0.87, o que indica que 87% dos exemplos previstos como pertencentes a essa classe são realmente da classe <=50K. Para a classe >50K, a precisão é de 0.63, o que significa que 63% dos exemplos previstos como pertencentes a essa classe são realmente da classe >50K.\n",
        "\n",
        "Recall (Revocação): Para a classe <=50K, o recall é de 0.89, o que indica que 89% dos exemplos da classe <=50K foram corretamente previstos como pertencentes a essa classe. Para a classe >50K, o recall é de 0.60, o que significa que 60% dos exemplos da classe >50K foram corretamente previstos como pertencentes a essa classe.\n",
        "\n",
        "F1-score: Para a classe <=50K, o F1-score é de 0.88, indicando um bom equilíbrio entre precisão e recall. Para a classe >50K, o F1-score é de 0.61, indicando um desempenho um pouco menor em relação à classe <=50K.\n",
        "\n",
        "Support: O suporte é o número de ocorrências de cada classe no conjunto de teste. Há 3693 exemplos da classe <=50K e 1192 exemplos da classe >50K.\n",
        "\n",
        "Acurácia (Accuracy): A acurácia é de 0.82, o que indica que aproximadamente 82% dos exemplos foram corretamente classificados.\n",
        "\n",
        "As métricas macro avg e weighted avg fornecem a média não ponderada e ponderada das métricas para todas as classes, respectivamente. Ambas as médias indicam um desempenho geral satisfatório para o modelo.\n",
        "\n",
        "Em resumo, o algoritmo de classificação utilizando a rede neural multicamadas para o conjunto de dados \"Census\" obteve um desempenho razoável, mas com espaço para melhoria em relação à precisão, recall e F1-score para a classe >50K. A acurácia geral foi de 82%, o que é aceitável, mas ainda pode ser aprimorada. É importante considerar essas métricas em conjunto com outros fatores, como a relevância e o equilíbrio entre as classes, para uma avaliação mais completa do desempenho do algoritmo."
      ],
      "metadata": {
        "id": "9TAB3EUMokq2"
      }
    },
    {
      "cell_type": "markdown",
      "source": [
        "# **Considerações Finais**\n",
        "Durante este estudo de caso, tive a oportunidade de aprofundar meus conhecimentos sobre a implementação de algoritmos de redes neurais, com o auxílio do professor Jones Granatyr em seu curso de Machine Learning. O Multi-layer Perceptron, revelou-se uma ferramenta extremamente útil na inferência de classificação probabilística.\n",
        "\n",
        "Agradeço ao professor Jones Granatyr pelo conhecimento compartilhado e pela orientação durante o curso. Essa experiência contribuiu significativamente para minha compreensão de algoritmos de Machine Learning e sua aplicação prática."
      ],
      "metadata": {
        "id": "4PvnRUebpbyG"
      }
    }
  ]
}