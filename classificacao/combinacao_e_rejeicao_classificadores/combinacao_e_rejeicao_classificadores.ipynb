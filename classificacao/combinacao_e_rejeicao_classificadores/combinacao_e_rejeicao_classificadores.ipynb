{
  "nbformat": 4,
  "nbformat_minor": 0,
  "metadata": {
    "colab": {
      "provenance": []
    },
    "kernelspec": {
      "name": "python3",
      "display_name": "Python 3"
    },
    "language_info": {
      "name": "python"
    }
  },
  "cells": [
    {
      "cell_type": "markdown",
      "source": [
        "# **Curso de Machine Learning - IA Expert Academy**\n",
        "\n",
        "\n",
        "---\n",
        "\n",
        "\n",
        "**Alunos:** Lucas Dias Noronha"
      ],
      "metadata": {
        "id": "vNMxPthHZjwb"
      }
    },
    {
      "cell_type": "markdown",
      "source": [
        "# **Combinação de Classificadores**\n",
        "\n",
        "A combinação de classificadores é uma técnica que visa melhorar o desempenho de um sistema de classificação, combinando as previsões de vários classificadores individuais. Essa abordagem pode ajudar a mitigar as fraquezas de cada classificador individual e aproveitar suas respectivas forças.\n",
        "\n",
        "Existem várias maneiras de combinar classificadores, sendo as mais comuns:\n",
        "\n",
        "Votação por maioria: Cada classificador vota em uma classe e a classe mais frequente é selecionada como a previsão final.\n",
        "\n",
        "Votação ponderada: Cada classificador atribui um peso à sua previsão, levando em consideração a confiança ou desempenho do classificador. As previsões são ponderadas e a classe com maior soma ponderada é selecionada.\n",
        "\n",
        "Empilhamento (stacking): Os classificadores são organizados em um esquema hierárquico, onde as previsões de um conjunto de classificadores são usadas como entrada para outro classificador, que faz a previsão final.\n",
        "\n",
        "Combinação por média: As previsões dos classificadores são combinadas calculando-se a média das probabilidades de cada classe.\n",
        "\n",
        "Boosting: Os classificadores são treinados sequencialmente, onde cada classificador subsequente é treinado para corrigir as previsões erradas dos classificadores anteriores. As previsões de todos os classificadores são ponderadas e combinadas para obter a previsão final.\n",
        "\n",
        "A escolha da técnica de combinação de classificadores depende do contexto e das características dos dados. É importante considerar a diversidade dos classificadores individuais e suas habilidades de generalização. Além disso, ajustar os pesos atribuídos a cada classificador pode ajudar a melhorar o desempenho geral da combinação.\n",
        "\n",
        "A combinação de classificadores é amplamente utilizada em diversas áreas, como reconhecimento de padrões, aprendizado de máquina e classificação de dados em geral."
      ],
      "metadata": {
        "id": "0i9CEO-zrb3H"
      }
    },
    {
      "cell_type": "code",
      "source": [
        "import pickle\n",
        "import numpy as np"
      ],
      "metadata": {
        "id": "vxb3rBbwsuY5"
      },
      "execution_count": 4,
      "outputs": []
    },
    {
      "cell_type": "markdown",
      "source": [
        "## **Carregando Modelos**"
      ],
      "metadata": {
        "id": "IYhwEYxDJRYC"
      }
    },
    {
      "cell_type": "code",
      "source": [
        "# Carregand modelo Rede Neural.\n",
        "rede_neural = pickle.load(open('rede_neural_finalizado.sav', 'rb'))\n",
        "\n",
        "# Carregando modelo Árvore de Decisão.\n",
        "arvore = pickle.load(open('arvore_finalizado.sav', 'rb'))\n",
        "\n",
        "# Carregando modelo SVM.\n",
        "svm = pickle.load(open('svm_finalizado.sav', 'rb'))"
      ],
      "metadata": {
        "id": "zJCe0HRsuBCu"
      },
      "execution_count": 44,
      "outputs": []
    },
    {
      "cell_type": "markdown",
      "source": [
        "## **Preparando os Dados**"
      ],
      "metadata": {
        "id": "O0b28jOKJWnE"
      }
    },
    {
      "cell_type": "code",
      "source": [
        "# Carregando dados de treinamento para simular uma situação real.\n",
        "with open('credit.pkl', 'rb') as f:\n",
        "  X_credit_treinamento, y_credit_treinamento, X_credit_teste, y_credit_teste = pickle.load(f)"
      ],
      "metadata": {
        "id": "KypfXnUgsoXe"
      },
      "execution_count": 46,
      "outputs": []
    },
    {
      "cell_type": "code",
      "source": [
        "# Juntando os dados.\n",
        "X_credit = np.concatenate((X_credit_treinamento, X_credit_teste), axis = 0)\n",
        "y_credit = np.concatenate((y_credit_treinamento, y_credit_teste), axis = 0)"
      ],
      "metadata": {
        "id": "OWNRm-mrsyOZ"
      },
      "execution_count": 47,
      "outputs": []
    },
    {
      "cell_type": "code",
      "source": [
        "X_credit.shape, y_credit.shape # Retorna linhas e colunas."
      ],
      "metadata": {
        "colab": {
          "base_uri": "https://localhost:8080/"
        },
        "id": "CgxQ9A04tCgS",
        "outputId": "5817e46e-5491-40d1-817c-464ba86f3f65"
      },
      "execution_count": 48,
      "outputs": [
        {
          "output_type": "execute_result",
          "data": {
            "text/plain": [
              "((2000, 3), (2000,))"
            ]
          },
          "metadata": {},
          "execution_count": 48
        }
      ]
    },
    {
      "cell_type": "markdown",
      "source": [
        "## **Aplicando os modelos**"
      ],
      "metadata": {
        "id": "a2XyatiBK9uK"
      }
    },
    {
      "cell_type": "code",
      "execution_count": 49,
      "metadata": {
        "colab": {
          "base_uri": "https://localhost:8080/"
        },
        "id": "Jf4jZ1PppZsJ",
        "outputId": "3f2c36b4-066b-4325-a880-09fe99b7dde9"
      },
      "outputs": [
        {
          "output_type": "execute_result",
          "data": {
            "text/plain": [
              "(array([[-1.03572293, -0.93978122,  0.04244312]]), (1, 3))"
            ]
          },
          "metadata": {},
          "execution_count": 49
        }
      ],
      "source": [
        "# Acessando registro e preparando-o para ser usado como simulação de dados de um cliente real.\n",
        "novo_registro = X_credit [1999]\n",
        "novo_registro = novo_registro.reshape(1, -1)\n",
        "novo_registro, novo_registro.shape"
      ]
    },
    {
      "cell_type": "code",
      "source": [
        "# Armazenando a previsão do modelo Rede Neural.\n",
        "resposta_rede_neural = rede_neural.predict(novo_registro)\n",
        "\n",
        "# Armazenando a previsão do modelo Árvore de Decisão.\n",
        "resposta_arvore = arvore.predict(novo_registro)\n",
        "\n",
        "# Armazenando a previsão do modelo de Árvore de Decisão.\n",
        "resposta_svm = svm.predict(novo_registro)"
      ],
      "metadata": {
        "id": "6pShQDdGtoz4"
      },
      "execution_count": 50,
      "outputs": []
    },
    {
      "cell_type": "code",
      "source": [
        "# Previsão 1 para todos os modelos, que indica que o cliente não pagará o empréstimo.\n",
        "resposta_rede_neural[0], resposta_arvore[0], resposta_svm[0]"
      ],
      "metadata": {
        "colab": {
          "base_uri": "https://localhost:8080/"
        },
        "id": "N7Wnw6N-uar0",
        "outputId": "da5d9eb8-a046-4c2f-bffc-529ff3458c63"
      },
      "execution_count": 51,
      "outputs": [
        {
          "output_type": "execute_result",
          "data": {
            "text/plain": [
              "(1, 1, 1)"
            ]
          },
          "metadata": {},
          "execution_count": 51
        }
      ]
    },
    {
      "cell_type": "markdown",
      "source": [
        "## **Aplicando a combinação de classificadores utilizando a técnica de votação por maioria**"
      ],
      "metadata": {
        "id": "le1Do0unLp6K"
      }
    },
    {
      "cell_type": "code",
      "source": [
        "# Criando um tupla que armazerá as repostas de cada modelo.\n",
        "classificador_votos = [\n",
        "    resposta_rede_neural,\n",
        "    resposta_arvore,\n",
        "    resposta_svm\n",
        "]\n",
        "\n",
        "# Conta a quantidade de vezes que a classe \"paga\" (0) e a classe \"não paga\" (1) aparecem na lista.\n",
        "# Ele também armazenará a contagem de cada classe em suas respectivas variáveis.\n",
        "paga = classificador_votos.count(0)\n",
        "n_paga = classificador_votos.count(1)\n",
        "\n",
        "# A decisão final será baseada na votação por maioria.\n",
        "if paga > n_paga:\n",
        "    print('Previsão: O cliente provavelmente pagará o empréstimo.')\n",
        "elif paga == n_paga:\n",
        "    print('Previsão: Há um empate na decisão de pagamento do empréstimo.')\n",
        "else:\n",
        "    print('Previsão: O cliente provavelmente não pagará o empréstimo.')"
      ],
      "metadata": {
        "colab": {
          "base_uri": "https://localhost:8080/"
        },
        "id": "A-avzkZmGfYL",
        "outputId": "98fe430b-b100-4449-d2e1-cc175146074d"
      },
      "execution_count": 52,
      "outputs": [
        {
          "output_type": "stream",
          "name": "stdout",
          "text": [
            "Previsão: O cliente provavelmente não pagará o empréstimo.\n"
          ]
        }
      ]
    },
    {
      "cell_type": "markdown",
      "source": [
        "# **Rejeição de Classificadores**\n",
        "\n",
        "A rejeição de classificadores é uma técnica utilizada quando um classificador não tem confiança suficiente em sua previsão ou quando os dados de entrada estão fora da distribuição conhecida. Em vez de fazer uma previsão incorreta, o classificador opta por rejeitar a amostra e não fornecer uma classificação.\n",
        "\n",
        "A rejeição de classificadores pode ser útil em situações em que é preferível não tomar uma decisão incorreta ou quando a incerteza é alta. Em vez de fornecer uma previsão arriscada, o classificador pode indicar que não possui confiança suficiente para fazer uma previsão precisa.\n",
        "\n",
        "Para implementar a rejeição de classificadores, podemos adicionar uma condição que verifica a confiança da previsão ou outros critérios relevantes. Se o classificador não atender aos critérios de confiança, a amostra é rejeitada."
      ],
      "metadata": {
        "id": "ec7CfpDq5xMh"
      }
    },
    {
      "cell_type": "code",
      "source": [
        "# Acessando registro e preparando-o para ser usado como simulação de dados de um cliente real.\n",
        "novo_registro = X_credit [0]\n",
        "novo_registro = novo_registro.reshape(1, -1)\n",
        "novo_registro, novo_registro.shape"
      ],
      "metadata": {
        "colab": {
          "base_uri": "https://localhost:8080/"
        },
        "id": "sPx_bmo053jI",
        "outputId": "57471d7b-4319-40b3-d91a-0bd240870658"
      },
      "execution_count": 66,
      "outputs": [
        {
          "output_type": "execute_result",
          "data": {
            "text/plain": [
              "(array([[-1.3754462 ,  0.50631087,  0.10980934]]), (1, 3))"
            ]
          },
          "metadata": {},
          "execution_count": 66
        }
      ]
    },
    {
      "cell_type": "code",
      "source": [
        "# Armazenando a previsão do modelo Rede Neural.\n",
        "resposta_rede_neural = rede_neural.predict(novo_registro)\n",
        "\n",
        "# Armazenando a previsão do modelo Árvore de Decisão.\n",
        "resposta_arvore = arvore.predict(novo_registro)\n",
        "\n",
        "# Armazenando a previsão do modelo de Árvore de Decisão.\n",
        "resposta_svm = svm.predict(novo_registro)"
      ],
      "metadata": {
        "id": "OM-HssoM6IU8"
      },
      "execution_count": 67,
      "outputs": []
    },
    {
      "cell_type": "code",
      "source": [
        "# Previsão 1 para todos os modelos, que indica que o cliente não pagará o empréstimo.\n",
        "resposta_rede_neural[0], resposta_arvore[0], resposta_svm[0]"
      ],
      "metadata": {
        "colab": {
          "base_uri": "https://localhost:8080/"
        },
        "id": "OEYtN_af6NbZ",
        "outputId": "066b7d42-fff4-450d-e98a-2ad03bfbaf0b"
      },
      "execution_count": 68,
      "outputs": [
        {
          "output_type": "execute_result",
          "data": {
            "text/plain": [
              "(0, 0, 0)"
            ]
          },
          "metadata": {},
          "execution_count": 68
        }
      ]
    },
    {
      "cell_type": "code",
      "source": [
        "# Estimando as probabilidades das classes para cada modelo.\n",
        "probabilidade_rede_neural = rede_neural.predict_proba(novo_registro)\n",
        "probabilidade_arvore = arvore.predict_proba(novo_registro)\n",
        "probabilidade_svm = svm.predict_proba(novo_registro)"
      ],
      "metadata": {
        "id": "j57mizku6Squ"
      },
      "execution_count": 69,
      "outputs": []
    },
    {
      "cell_type": "code",
      "source": [
        "# Retornando a probabilidade de cada classe para cada modelo.\n",
        "probabilidade_rede_neural, probabilidade_arvore, probabilidade_svm"
      ],
      "metadata": {
        "colab": {
          "base_uri": "https://localhost:8080/"
        },
        "id": "QMq7FS-Y64dL",
        "outputId": "fc0ec09f-2c53-4502-a410-6776202655cf"
      },
      "execution_count": 70,
      "outputs": [
        {
          "output_type": "execute_result",
          "data": {
            "text/plain": [
              "(array([[1.00000000e+00, 4.48941181e-17]]),\n",
              " array([[1., 0.]]),\n",
              " array([[9.99997789e-01, 2.21110142e-06]]))"
            ]
          },
          "metadata": {},
          "execution_count": 70
        }
      ]
    },
    {
      "cell_type": "code",
      "source": [
        "# Calculando a confiança máxima do modelo Rede Neural.\n",
        "# Obtendo o valor máximo da lista de probabilidades (classe com maior probabilidade) para o modelo Rede Neural.\n",
        "confianca_rede_neural = probabilidade_rede_neural.max()\n",
        "\n",
        "# Retornando confiança.\n",
        "confianca_rede_neural"
      ],
      "metadata": {
        "colab": {
          "base_uri": "https://localhost:8080/"
        },
        "id": "mtBSg7c_7sRF",
        "outputId": "384d788d-40ea-46de-ec32-95ced6773826"
      },
      "execution_count": 71,
      "outputs": [
        {
          "output_type": "execute_result",
          "data": {
            "text/plain": [
              "1.0"
            ]
          },
          "metadata": {},
          "execution_count": 71
        }
      ]
    },
    {
      "cell_type": "code",
      "source": [
        "# Calculando a confiança máxima do modelo Árvore de Decisão.\n",
        "# Obtendo o valor máximo.\n",
        "confianca_arvore = probabilidade_arvore.max()\n",
        "\n",
        "# Retornando confiança.\n",
        "confianca_arvore"
      ],
      "metadata": {
        "colab": {
          "base_uri": "https://localhost:8080/"
        },
        "id": "EqSUxFAW8I9f",
        "outputId": "cf6412b4-ba6d-4581-c843-1a99ba097953"
      },
      "execution_count": 63,
      "outputs": [
        {
          "output_type": "execute_result",
          "data": {
            "text/plain": [
              "1.0"
            ]
          },
          "metadata": {},
          "execution_count": 63
        }
      ]
    },
    {
      "cell_type": "code",
      "source": [
        "# Calculando a confiança máxima do modelo SVM.\n",
        "# Obtendo o valor máximo.\n",
        "confianca_svm = probabilidade_svm.max()\n",
        "\n",
        "# Rertoando a confiança.\n",
        "confianca_svm"
      ],
      "metadata": {
        "colab": {
          "base_uri": "https://localhost:8080/"
        },
        "id": "OBCnAHBP8dQT",
        "outputId": "a0623569-b789-4627-c88a-304395985d7f"
      },
      "execution_count": 72,
      "outputs": [
        {
          "output_type": "execute_result",
          "data": {
            "text/plain": [
              "0.9999977888985752"
            ]
          },
          "metadata": {},
          "execution_count": 72
        }
      ]
    },
    {
      "cell_type": "code",
      "source": [
        "# Função para imprimir a decisão final.\n",
        "def imprimir_decisao(tem_confianca, paga, n_paga, algoritmo):\n",
        "    # Verifica se alguma previsão foi realizada.\n",
        "    if tem_confianca:\n",
        "        # Compara as contagens para determinar a decisão final.\n",
        "        if paga > n_paga:\n",
        "            print(f'Baseado na análise de {algoritmo} algoritmos, é previsto que o cliente pagará o empréstimo.')\n",
        "        elif paga == n_paga:\n",
        "            print(f'Baseado na análise de {algoritmo} algoritmos, há um empate na decisão.')\n",
        "        else:\n",
        "            print(f'Baseado na análise de {algoritmo} algoritmos, é previsto que o cliente não pagará o empréstimo.')\n",
        "    else:\n",
        "        print('O algoritmo não foi capaz de fazer uma previsão.')\n",
        "\n",
        "# Criando um tupla que armazerá as repostas de cada modelo.\n",
        "classificador_votos = [\n",
        "    resposta_rede_neural,\n",
        "    resposta_arvore,\n",
        "    resposta_svm\n",
        "]\n",
        "\n",
        "# Conta a quantidade de vezes que a classe \"paga\" (0) e a classe \"não paga\" (1) aparecem na lista.\n",
        "# Ele também armazenará a contagem de cada classe em suas respectivas variáveis.\n",
        "paga = classificador_votos.count(0)\n",
        "n_paga = classificador_votos.count(1)\n",
        "\n",
        "# Confiança mínima.\n",
        "confianca_minima = 0.999999\n",
        "\n",
        "# Contador algoritmo.\n",
        "algoritmo = 0\n",
        "\n",
        "# Se possuir confiança mínima, será atribuido o valor True.\n",
        "tem_confianca = False\n",
        "\n",
        "# Verifica se a confiança da Rede Neural é maior ou igual à confiança mínima.\n",
        "if confianca_rede_neural >= confianca_minima:\n",
        "    # Incrementa o número de algoritmos utilizados.\n",
        "    algoritmo += 1\n",
        "    # Indica que uma previsão foi realizada.\n",
        "    tem_confianca = True\n",
        "\n",
        "# Repete o mesmo processo para a Árvore de Decisão.\n",
        "if confianca_arvore >= confianca_minima:\n",
        "    algoritmo += 1\n",
        "    tem_confianca = True\n",
        "\n",
        "# Repete o mesmo processo para o SVM.\n",
        "if confianca_svm >= confianca_minima:\n",
        "    algoritmo += 1\n",
        "    tem_confianca = True\n",
        "\n",
        "# Chama a função para imprimir a decisão final\n",
        "imprimir_decisao(tem_confianca, paga, n_paga, algoritmo)\n",
        "\n"
      ],
      "metadata": {
        "colab": {
          "base_uri": "https://localhost:8080/"
        },
        "id": "3E2r0TYFT-VO",
        "outputId": "fe1cc290-02be-4f63-8f09-61034f3ca834"
      },
      "execution_count": 76,
      "outputs": [
        {
          "output_type": "stream",
          "name": "stdout",
          "text": [
            "Baseado na análise de 2 algoritmos, é previsto que o cliente pagará o empréstimo.\n"
          ]
        }
      ]
    },
    {
      "cell_type": "markdown",
      "source": [
        "# **Considerações Finais**\n",
        "\n",
        "Neste estudo de caso, tive a oportunidade de aprofundar meu conhecimento sobre as poderosas técnicas de Combinação de Classificadores e Rejeição de Classificadores. Durante a exploração dessas abordagens, pude compreender como elas podem ser aplicadas para melhorar a precisão e confiabilidade dos resultados de classificação.\n",
        "\n",
        "A técnica de Combinação de Classificadores permitiu a integração de múltiplos classificadores individuais, cada um com suas próprias forças e fraquezas, para chegar a uma decisão final mais robusta e precisa. Ao ponderar as previsões dos classificadores com base na técnica de votação por maioria, pude obter uma visão mais abrangente dos dados e aproveitar o conhecimento coletivo dos modelos.\n",
        "\n",
        "Por outro lado, a técnica de Rejeição de Classificadores mostrou-se valiosa para a incerteza ou a falta de confiança em uma previsão quando precisamos que precisão seja bastante alta. Ao estabelecer critérios para rejeitar amostras quando a confiança era baixa ou quando os dados estavam fora da distribuição conhecida, podemos evitar tomar decisões incorretas ou arriscadas. Isso resulta em uma abordagem mais cautelosa e confiável na análise e classificação de dados.\n",
        "\n",
        "Essas técnicas, em conjunto, representam ferramentas poderosas para melhorar a precisão e a confiabilidade dos sistemas de classificação. Ao explorar e compreender os princípios por trás da Combinação de Classificadores e da Rejeição de Classificadores, estou preparado para aplicá-las de forma eficaz em futuros estudos e projetos que envolvam análise e classificação de dados.\n",
        "\n",
        "Agradeço ao professor Jones Granatyr pelo conhecimento compartilhado e pela orientação durante o curso. Essa experiência contribuiu significativamente para minha compreensão de algoritmos de Machine Learning e sua aplicação prática."
      ],
      "metadata": {
        "id": "ilPrpsbPRj8p"
      }
    }
  ]
}