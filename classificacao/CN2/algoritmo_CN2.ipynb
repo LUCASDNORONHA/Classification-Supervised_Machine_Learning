{
  "nbformat": 4,
  "nbformat_minor": 0,
  "metadata": {
    "colab": {
      "provenance": []
    },
    "kernelspec": {
      "name": "python3",
      "display_name": "Python 3"
    },
    "language_info": {
      "name": "python"
    }
  },
  "cells": [
    {
      "cell_type": "markdown",
      "source": [
        "# **Curso de Machine Learning - IA Expert Academy**\n",
        "\n",
        "\n",
        "---\n",
        "\n",
        "\n",
        "\n",
        "**Aluno:** Lucas Dias Noronha"
      ],
      "metadata": {
        "id": "Du5GrwOXXXkO"
      }
    },
    {
      "cell_type": "markdown",
      "source": [
        "# **Aprendizado por Regra**\n",
        "\n",
        "Neste ramo de aprendizado de maquinas, o aprendizado por regra é uma abordagem em que os modelos de aprendizado são expressos como conjuntos de regras if-then (se-então). Essas regras descrevem padrões extraídos dos dados de treinamento e podem ser usadas para tomar decisões ou fazer previsões em novos dados.\n",
        "\n",
        "No aprendizado por regra, o objetivo é descobrir relações lógicas entre os atributos (características/previsores) de entrada e a variável de saída (rótulo/classe) correspondente. Cada regra é composta por uma condição (parte \"if\") que especifica uma combinação de valores dos atributos e uma ação (parte \"then\") que indica a classe ou valor de saída associado a essa combinação. Um exemplo de como a lógica proposicional e computacional estão entrelaçadas."
      ],
      "metadata": {
        "id": "e8bCX38fEMtz"
      }
    },
    {
      "cell_type": "markdown",
      "source": [
        "Vou utilizar a biblioteca Orange em Python, que é muito utilizada para mineração de dados, análise de dados e visualização. Ela fornece uma ampla gama de ferramentas e métodos para tarefas de aprendizado de máquina e análise de dados, tornando-a útil para cientistas de dados, pesquisadores e profissionais que trabalham com análise de dados."
      ],
      "metadata": {
        "id": "G9LOdhlPI-Hy"
      }
    },
    {
      "cell_type": "code",
      "execution_count": null,
      "metadata": {
        "id": "MMkcvWg5A4YP"
      },
      "outputs": [],
      "source": [
        "# Atualizando a bibiblioteca no ambiente Colab\n",
        "!pip install Orange3"
      ]
    },
    {
      "cell_type": "code",
      "source": [
        "# Importando a biblioteca.\n",
        "import Orange"
      ],
      "metadata": {
        "id": "wWocAFYFBM1a"
      },
      "execution_count": 3,
      "outputs": []
    },
    {
      "cell_type": "markdown",
      "source": [
        "# **Algoritmos CN2**\n",
        "\n",
        "O algoritmo CN2 (Classificação Numérica 2) é um exemplo de algoritmo de aprendizado por regra utilizado para tarefas de classificação em conjuntos de dados contendo atributos numéricos. O CN2 foi proposto por Clark e Niblett em 1989 e é uma extensão do algoritmo ID3 (Induction of Decision Trees 3)."
      ],
      "metadata": {
        "id": "gw72xVBaDxlf"
      }
    },
    {
      "cell_type": "markdown",
      "source": [
        "# **CN2 Aplicado a Base Credito**"
      ],
      "metadata": {
        "id": "leFvguJwGSoh"
      }
    },
    {
      "cell_type": "code",
      "source": [
        "# Carrega um arquivo CSV e cria uma tabela de dados no formato suportado pelo Orange.\n",
        "base_credit = Orange.data.Table('credit_data_regras.csv')"
      ],
      "metadata": {
        "id": "IsSsWJA0FvCA"
      },
      "execution_count": 90,
      "outputs": []
    },
    {
      "cell_type": "code",
      "source": [
        "base_credit # Agora contém uma tabela de dados."
      ],
      "metadata": {
        "colab": {
          "base_uri": "https://localhost:8080/"
        },
        "id": "k3fHTfTHG6y1",
        "outputId": "02700636-f6a5-42bc-b7b6-7ccfdffcfbb1"
      },
      "execution_count": 91,
      "outputs": [
        {
          "output_type": "execute_result",
          "data": {
            "text/plain": [
              "[[66155.9, 59.017, 8106.53 | 0],\n",
              " [34415.2, 48.1172, 6564.75 | 0],\n",
              " [57317.2, 63.108, 8020.95 | 0],\n",
              " [42709.5, 45.752, 6103.64 | 0],\n",
              " [66952.7, 18.5843, 8770.1 | 1],\n",
              " ...\n",
              "]"
            ]
          },
          "metadata": {},
          "execution_count": 91
        }
      ]
    },
    {
      "cell_type": "markdown",
      "source": [
        "## **Dividindos os Dados**"
      ],
      "metadata": {
        "id": "KZhtkfrX4YdJ"
      }
    },
    {
      "cell_type": "code",
      "source": [
        "# Dividindo a tabela de dados em duas partes: uma parte para treinamento e outra parte para teste.\n",
        "base_dividida = Orange.evaluation.testing.sample(base_credit, n = 0.25) # 25% para teste."
      ],
      "metadata": {
        "id": "55qz0j2cHW12"
      },
      "execution_count": 92,
      "outputs": []
    },
    {
      "cell_type": "code",
      "source": [
        "base_dividida # Constando que a tabelo foi dividida."
      ],
      "metadata": {
        "colab": {
          "base_uri": "https://localhost:8080/"
        },
        "id": "InmLhWD7HrHy",
        "outputId": "53d07165-2e0c-4583-ed39-1350095b19d6"
      },
      "execution_count": 93,
      "outputs": [
        {
          "output_type": "execute_result",
          "data": {
            "text/plain": [
              "([[66628.3, 52.3839, 5992.89 | 0],\n",
              "  [41970.7, 63.1699, 1622.32 | 0],\n",
              "  [32420.8, 32.3618, 1494.21 | 0],\n",
              "  [51211.7, 45.6286, 4093.36 | 0],\n",
              "  [55932.4, 44.3926, 4876.37 | 0],\n",
              "  ...\n",
              " ],\n",
              " [[66733.7, 52.9778, 5366.64 | 0],\n",
              "  [22572.3, 51.0162, 724.193 | 0],\n",
              "  [51589.3, 50.3135, 56.991 | 0],\n",
              "  [60776.1, 34.2069, 10382.4 | 1],\n",
              "  [63391.6, 34.7393, 190.889 | 0],\n",
              "  ...\n",
              " ])"
            ]
          },
          "metadata": {},
          "execution_count": 93
        }
      ]
    },
    {
      "cell_type": "code",
      "source": [
        "base_dividida[0] # Dados de teste."
      ],
      "metadata": {
        "colab": {
          "base_uri": "https://localhost:8080/"
        },
        "id": "NTra_9DeHwTO",
        "outputId": "bc3cd484-7801-4ecb-ab85-fb12aee6dddf"
      },
      "execution_count": 94,
      "outputs": [
        {
          "output_type": "execute_result",
          "data": {
            "text/plain": [
              "[[66628.3, 52.3839, 5992.89 | 0],\n",
              " [41970.7, 63.1699, 1622.32 | 0],\n",
              " [32420.8, 32.3618, 1494.21 | 0],\n",
              " [51211.7, 45.6286, 4093.36 | 0],\n",
              " [55932.4, 44.3926, 4876.37 | 0],\n",
              " ...\n",
              "]"
            ]
          },
          "metadata": {},
          "execution_count": 94
        }
      ]
    },
    {
      "cell_type": "code",
      "source": [
        "base_dividida[1] # Dados de treinamento."
      ],
      "metadata": {
        "colab": {
          "base_uri": "https://localhost:8080/"
        },
        "id": "Qb_DA5CmH0Zi",
        "outputId": "210e5ea7-a806-45f5-9391-56de7f9948d7"
      },
      "execution_count": 95,
      "outputs": [
        {
          "output_type": "execute_result",
          "data": {
            "text/plain": [
              "[[66733.7, 52.9778, 5366.64 | 0],\n",
              " [22572.3, 51.0162, 724.193 | 0],\n",
              " [51589.3, 50.3135, 56.991 | 0],\n",
              " [60776.1, 34.2069, 10382.4 | 1],\n",
              " [63391.6, 34.7393, 190.889 | 0],\n",
              " ...\n",
              "]"
            ]
          },
          "metadata": {},
          "execution_count": 95
        }
      ]
    },
    {
      "cell_type": "code",
      "source": [
        "base_credit_treinamento = base_dividida[1] # Armazenando a porção de treinamento (75%).\n",
        "base_credit_teste = base_dividida[0] # Armazenado a porção de teste (25%)."
      ],
      "metadata": {
        "id": "Br2TFL_PIJu2"
      },
      "execution_count": 96,
      "outputs": []
    },
    {
      "cell_type": "code",
      "source": [
        "len(base_credit_treinamento), len(base_credit_teste) # 1500 para treinamento e 500 para teste."
      ],
      "metadata": {
        "colab": {
          "base_uri": "https://localhost:8080/"
        },
        "id": "IcGDTYOHIYDD",
        "outputId": "5ec7c8dd-eff0-40f4-daf3-f910ed90a9d9"
      },
      "execution_count": 97,
      "outputs": [
        {
          "output_type": "execute_result",
          "data": {
            "text/plain": [
              "(1500, 500)"
            ]
          },
          "metadata": {},
          "execution_count": 97
        }
      ]
    },
    {
      "cell_type": "markdown",
      "source": [
        "## **Treinando o Algoritmo CN2**"
      ],
      "metadata": {
        "id": "3ZNCZvXS4jZ_"
      }
    },
    {
      "cell_type": "code",
      "source": [
        "# Criando uma instância do classificador CN2.\n",
        "cn2 = Orange.classification.rules.CN2Learner()\n",
        "\n",
        "# Aplicando o CN2 aos dados de treinamento para gerar as regras de classificação.\n",
        "regras_base_credit = cn2(base_credit_treinamento)"
      ],
      "metadata": {
        "id": "E8u1r0LJG-7H"
      },
      "execution_count": 98,
      "outputs": []
    },
    {
      "cell_type": "code",
      "source": [
        "# Faz um loop sobre a lista de regras de classificação geradas anteriormente pelo algoritmo CN2.\n",
        "# Para cada regra de classificação na lista, o código imprime a regra.\n",
        "for regras_credit in regras_base_credit.rule_list:\n",
        "  print(regras_credit)"
      ],
      "metadata": {
        "id": "uk_D43dqIxee",
        "colab": {
          "base_uri": "https://localhost:8080/"
        },
        "outputId": "0e32a506-22f7-4959-bc81-29f01a0c4d32"
      },
      "execution_count": 100,
      "outputs": [
        {
          "output_type": "stream",
          "name": "stdout",
          "text": [
            "IF age>=34.9966813726351 THEN default=0 \n",
            "IF loan<=2639.7101263171 AND income>=21479.9467171542 THEN default=0 \n",
            "IF loan<=3675.83341454456 AND income>=29724.4768752716 THEN default=0 \n",
            "IF loan>=7708.31562497011 AND loan>=9601.375482171099 THEN default=1 \n",
            "IF loan>=7181.4785525792595 AND loan>=9595.28628892989 THEN default=0 \n",
            "IF loan>=7181.4785525792595 AND loan>=8034.74777409028 THEN default=1 \n",
            "IF income>=58132.4712652713 AND age>=22.939635145478 THEN default=0 \n",
            "IF loan>=6043.14310633161 AND age>=23.1489815721288 THEN default=1 \n",
            "IF loan<=2639.7101263171 AND loan>=2639.7101263171 THEN default=1 \n",
            "IF loan<=2690.76813397945 AND age>=21.989767443854397 THEN default=0 \n",
            "IF age>=34.669146894011604 THEN default=1 \n",
            "IF loan>=6994.48780081424 AND age>=21.402402616106 THEN default=1 \n",
            "IF income>=46801.274286117405 AND income>=57787.565658800304 THEN default=0 \n",
            "IF loan>=6525.21842259918 THEN default=1 \n",
            "IF income>=48790.1324336417 THEN default=0 \n",
            "IF loan>=5785.88427485782 THEN default=1 \n",
            "IF income<=38423.0842860416 AND loan>=4285.38691174949 THEN default=1 \n",
            "IF income>=32197.6207010448 AND income>=46024.1445619613 THEN default=0 \n",
            "IF loan>=5416.3577980789005 THEN default=1 \n",
            "IF income>=32197.6207010448 AND age>=22.223386954050497 THEN default=0 \n",
            "IF age>=21.6304703606293 AND age>=26.1922096619383 THEN default=1 \n",
            "IF age>=21.6304703606293 AND age>=26.159438316244604 THEN default=0 \n",
            "IF age>=21.6304703606293 THEN default=1 \n",
            "IF income<=21217.7474563941 AND age>=21.3656869572587 THEN default=1 \n",
            "IF age>=21.054199264384803 THEN default=0 \n",
            "IF age>=20.826679904013897 THEN default=1 \n",
            "IF income>=32197.6207010448 THEN default=0 \n",
            "IF income>=25833.7172260508 THEN default=1 \n",
            "IF income<=20647.887645755 THEN default=0 \n",
            "IF TRUE THEN default=0 \n"
          ]
        }
      ]
    },
    {
      "cell_type": "code",
      "source": [
        "# Fazendo previsões utilizando as regras de classificação aprendidas anteriormente com base nos dados de treinamento.\n",
        "previsoes = Orange.evaluation.testing.TestOnTestData(\n",
        "    base_credit_treinamento, base_credit_teste, [lambda testdata: regras_base_credit]\n",
        ")"
      ],
      "metadata": {
        "id": "wNbIpN_GJZmi"
      },
      "execution_count": 101,
      "outputs": []
    },
    {
      "cell_type": "code",
      "source": [
        "previsoes # Contém o objeto resultante da avaliação das previsões feitas."
      ],
      "metadata": {
        "colab": {
          "base_uri": "https://localhost:8080/"
        },
        "id": "k6yaJQ9MKMH_",
        "outputId": "43185b10-fa3e-41fc-98df-6468116bda46"
      },
      "execution_count": 102,
      "outputs": [
        {
          "output_type": "execute_result",
          "data": {
            "text/plain": [
              "<Orange.evaluation.testing.Results at 0x7f3feb8c5ed0>"
            ]
          },
          "metadata": {},
          "execution_count": 102
        }
      ]
    },
    {
      "cell_type": "code",
      "source": [
        "# Calcula a acurácia (Accuracy) das previsões feitas pelo modelo de classificação nos dados de teste.\n",
        "Orange.evaluation.CA(previsoes)"
      ],
      "metadata": {
        "colab": {
          "base_uri": "https://localhost:8080/"
        },
        "id": "_m9LpHhNKTlb",
        "outputId": "d6ce834b-27d1-4b22-9370-f763fa791ae7"
      },
      "execution_count": 103,
      "outputs": [
        {
          "output_type": "execute_result",
          "data": {
            "text/plain": [
              "array([0.986])"
            ]
          },
          "metadata": {},
          "execution_count": 103
        }
      ]
    },
    {
      "cell_type": "code",
      "source": [
        "Orange.evaluation.Precision(previsoes) # Retorna a precisão."
      ],
      "metadata": {
        "colab": {
          "base_uri": "https://localhost:8080/"
        },
        "id": "m0B8PAFi9pLA",
        "outputId": "59fde06a-db0d-46f7-e2d9-291e6cc99978"
      },
      "execution_count": 23,
      "outputs": [
        {
          "output_type": "execute_result",
          "data": {
            "text/plain": [
              "array([0.96875])"
            ]
          },
          "metadata": {},
          "execution_count": 23
        }
      ]
    },
    {
      "cell_type": "code",
      "source": [
        "Orange.evaluation.Recall(previsoes) # Retorna o Recall."
      ],
      "metadata": {
        "colab": {
          "base_uri": "https://localhost:8080/"
        },
        "id": "shsxRFXw96ex",
        "outputId": "3d671c7a-20a6-4df3-b8fe-a410b7b9811f"
      },
      "execution_count": 24,
      "outputs": [
        {
          "output_type": "execute_result",
          "data": {
            "text/plain": [
              "array([0.84931507])"
            ]
          },
          "metadata": {},
          "execution_count": 24
        }
      ]
    },
    {
      "cell_type": "code",
      "source": [
        "Orange.evaluation.F1(previsoes) # Retorna o F1-Score."
      ],
      "metadata": {
        "colab": {
          "base_uri": "https://localhost:8080/"
        },
        "id": "6BWhht5D-DW4",
        "outputId": "85f35775-8444-47ff-996c-6e7de2e94e4c"
      },
      "execution_count": 25,
      "outputs": [
        {
          "output_type": "execute_result",
          "data": {
            "text/plain": [
              "array([0.90510949])"
            ]
          },
          "metadata": {},
          "execution_count": 25
        }
      ]
    },
    {
      "cell_type": "code",
      "source": [
        "CAs = Orange.evaluation.scoring.CA(previsoes) # Calcula accurácia.\n",
        "AUCs = Orange.evaluation.scoring.AUC(previsoes) # Calcula a Área Sob a Curva ROC (AUC).\n",
        "Recall = Orange.evaluation.scoring.Recall(previsoes) # Calcula o Recall.\n",
        "F1 = Orange.evaluation.scoring.F1(previsoes) # Calcula o F1-Score.\n",
        "Precision = Orange.evaluation.scoring.Precision(previsoes) # Calcula a Precisão."
      ],
      "metadata": {
        "id": "miOArbbiBdrQ"
      },
      "execution_count": 104,
      "outputs": []
    },
    {
      "cell_type": "code",
      "source": [
        "CAs, AUCs, Recall, F1, Precision # Retorna as métricas."
      ],
      "metadata": {
        "colab": {
          "base_uri": "https://localhost:8080/"
        },
        "id": "qw2A5sQrCKqw",
        "outputId": "374b135d-d6d4-439f-b2b9-9923cd71bc27"
      },
      "execution_count": 105,
      "outputs": [
        {
          "output_type": "execute_result",
          "data": {
            "text/plain": [
              "(array([0.986]),\n",
              " array([0.9958464]),\n",
              " array([0.95522388]),\n",
              " array([0.94814815]),\n",
              " array([0.94117647]))"
            ]
          },
          "metadata": {},
          "execution_count": 105
        }
      ]
    },
    {
      "cell_type": "markdown",
      "source": [
        "## **Relatório Final**\n",
        "\n",
        "\n",
        "Com base nas métricas (CAs, AUCs, Recall, F1 e Precision), irei classificar o algoritmo da seguinte forma:\n",
        "\n",
        "Acurácia (CAs): A acurácia é de 0.974, o que indica um bom desempenho do algoritmo na classificação correta das instâncias. Podemos classificar o algoritmo como tendo uma alta acurácia.\n",
        "\n",
        "AUC (AUCs): A AUC é de 0.99454621, o que indica um excelente poder de discriminação do algoritmo entre as classes positivas e negativas. Podemos classificar o algoritmo como tendo uma alta capacidade de distinguir as classes.\n",
        "\n",
        "Recall: O recall é de 0.84931507, o que indica que o algoritmo está encontrando a maioria das instâncias positivas, mas pode haver algumas instâncias positivas que estão sendo classificadas incorretamente. Podemos classificar o algoritmo como tendo um recall moderado.\n",
        "\n",
        "F1-Score: O F1-Score é de 0.90510949, o que indica um bom equilíbrio entre a precisão e o recall. Podemos classificar o algoritmo como tendo um desempenho equilibrado em termos de precisão e recall.\n",
        "\n",
        "Precisão: A precisão é de 0.96875, o que indica uma baixa taxa de falsos positivos. Podemos classificar o algoritmo como tendo uma alta precisão na identificação das instâncias positivas.\n",
        "\n",
        "Com base nessas classificações, podemos dizer que o algoritmo tem um desempenho geralmente bom na classificação das instâncias, com alta acurácia, poder de discriminação e precisão. No entanto, o recall pode ser melhorado para aumentar a taxa de instâncias positivas corretamente identificadas."
      ],
      "metadata": {
        "id": "uHzHtKI4AR7Z"
      }
    },
    {
      "cell_type": "markdown",
      "source": [
        "# **CN2 Aplicado a Base do Censo**\n",
        "\n",
        "A partir deste ponto, realizarei o treinamento e teste do algoritmo CN2 com a base de dados do censo. No entanto, como seguirei o mesmo processo que foi implementado no treinamento da Base de Crédito, não irei detalhar cada etapa novamente. Ao invés disso, vou fornecer apenas o relatório final com os resultados obtido"
      ],
      "metadata": {
        "id": "fIvI5bwBLDcV"
      }
    },
    {
      "cell_type": "code",
      "source": [
        "base_census = Orange.data.Table('census_regras.csv')"
      ],
      "metadata": {
        "id": "aVpG8zQxK_ya"
      },
      "execution_count": 42,
      "outputs": []
    },
    {
      "cell_type": "code",
      "source": [
        "base_census"
      ],
      "metadata": {
        "colab": {
          "base_uri": "https://localhost:8080/"
        },
        "id": "2fR86cKrbr_J",
        "outputId": "5eda2873-8c35-466b-be23-da04cb8e0ddc"
      },
      "execution_count": 43,
      "outputs": [
        {
          "output_type": "execute_result",
          "data": {
            "text/plain": [
              "[[39, State-gov, 77516, Bachelors, 13, ... | <=50K],\n",
              " [50, Self-emp-not-inc, 83311, Bachelors, 13, ... | <=50K],\n",
              " [38, Private, 215646, HS-grad, 9, ... | <=50K],\n",
              " [53, Private, 234721, 11th, 7, ... | <=50K],\n",
              " [28, Private, 338409, Bachelors, 13, ... | <=50K],\n",
              " ...\n",
              "]"
            ]
          },
          "metadata": {},
          "execution_count": 43
        }
      ]
    },
    {
      "cell_type": "code",
      "source": [
        "base_census_dividida = Orange.evaluation.testing.sample(base_census, n = 0.25)"
      ],
      "metadata": {
        "id": "u-SA3disbeu4"
      },
      "execution_count": 44,
      "outputs": []
    },
    {
      "cell_type": "code",
      "source": [
        "base_census_dividida"
      ],
      "metadata": {
        "colab": {
          "base_uri": "https://localhost:8080/"
        },
        "id": "VtL-7kf5cfuJ",
        "outputId": "88bcd2da-8a5a-44c8-a9ec-32ce1f7d5846"
      },
      "execution_count": 45,
      "outputs": [
        {
          "output_type": "execute_result",
          "data": {
            "text/plain": [
              "([[24, Local-gov, 203924, Bachelors, 13, ... | <=50K],\n",
              "  [38, Self-emp-not-inc, 176657, Some-college, 10, ... | <=50K],\n",
              "  [49, Local-gov, 110172, HS-grad, 9, ... | <=50K],\n",
              "  [49, Private, 262116, Prof-school, 15, ... | <=50K],\n",
              "  [47, Local-gov, 37672, Bachelors, 13, ... | <=50K],\n",
              "  ...\n",
              " ],\n",
              " [[26, Private, 174592, Some-college, 10, ... | <=50K],\n",
              "  [25, Federal-gov, 207342, Some-college, 10, ... | <=50K],\n",
              "  [51, Private, 153486, HS-grad, 9, ... | >50K],\n",
              "  [17, Private, 262511, 11th, 7, ... | <=50K],\n",
              "  [54, Private, 174102, Some-college, 10, ... | >50K],\n",
              "  ...\n",
              " ])"
            ]
          },
          "metadata": {},
          "execution_count": 45
        }
      ]
    },
    {
      "cell_type": "code",
      "source": [
        "base_census_dividida[1]"
      ],
      "metadata": {
        "colab": {
          "base_uri": "https://localhost:8080/"
        },
        "id": "cSrtCmr5b2GS",
        "outputId": "9e823fd4-836f-48e2-aaa2-31445af6017d"
      },
      "execution_count": 46,
      "outputs": [
        {
          "output_type": "execute_result",
          "data": {
            "text/plain": [
              "[[26, Private, 174592, Some-college, 10, ... | <=50K],\n",
              " [25, Federal-gov, 207342, Some-college, 10, ... | <=50K],\n",
              " [51, Private, 153486, HS-grad, 9, ... | >50K],\n",
              " [17, Private, 262511, 11th, 7, ... | <=50K],\n",
              " [54, Private, 174102, Some-college, 10, ... | >50K],\n",
              " ...\n",
              "]"
            ]
          },
          "metadata": {},
          "execution_count": 46
        }
      ]
    },
    {
      "cell_type": "code",
      "source": [
        "base_census_dividida[0]"
      ],
      "metadata": {
        "colab": {
          "base_uri": "https://localhost:8080/"
        },
        "id": "rmT0xVVFb71B",
        "outputId": "449f084b-df50-495c-c3d1-d5c05ffdf820"
      },
      "execution_count": 47,
      "outputs": [
        {
          "output_type": "execute_result",
          "data": {
            "text/plain": [
              "[[24, Local-gov, 203924, Bachelors, 13, ... | <=50K],\n",
              " [38, Self-emp-not-inc, 176657, Some-college, 10, ... | <=50K],\n",
              " [49, Local-gov, 110172, HS-grad, 9, ... | <=50K],\n",
              " [49, Private, 262116, Prof-school, 15, ... | <=50K],\n",
              " [47, Local-gov, 37672, Bachelors, 13, ... | <=50K],\n",
              " ...\n",
              "]"
            ]
          },
          "metadata": {},
          "execution_count": 47
        }
      ]
    },
    {
      "cell_type": "code",
      "source": [
        "base_census_treinamento = base_census_dividida[1]\n",
        "base_census_teste = base_census_dividida[0]"
      ],
      "metadata": {
        "id": "WyNYu91ocllh"
      },
      "execution_count": 48,
      "outputs": []
    },
    {
      "cell_type": "code",
      "source": [
        "len(base_census_treinamento), len(base_census_teste)"
      ],
      "metadata": {
        "colab": {
          "base_uri": "https://localhost:8080/"
        },
        "id": "r0G4XPaOc1Pw",
        "outputId": "4345f2eb-c06f-4a7c-d8d0-bf7cc7fe8030"
      },
      "execution_count": 49,
      "outputs": [
        {
          "output_type": "execute_result",
          "data": {
            "text/plain": [
              "(24421, 8140)"
            ]
          },
          "metadata": {},
          "execution_count": 49
        }
      ]
    },
    {
      "cell_type": "code",
      "source": [
        "cn2_census = Orange.classification.rules.CN2Learner()\n",
        "regras_census_credit = cn2(base_census_treinamento)"
      ],
      "metadata": {
        "id": "liA0BFLDc8TA"
      },
      "execution_count": 50,
      "outputs": []
    },
    {
      "cell_type": "code",
      "source": [
        "previsoes_census = Orange.evaluation.testing.TestOnTestData(\n",
        "    base_census_treinamento, base_census_teste, [lambda testdata: regras_census_credit]\n",
        ")"
      ],
      "metadata": {
        "id": "PF7SLWLJdQ0x"
      },
      "execution_count": 52,
      "outputs": []
    },
    {
      "cell_type": "code",
      "source": [
        "previsoes_census"
      ],
      "metadata": {
        "colab": {
          "base_uri": "https://localhost:8080/"
        },
        "id": "DI2GQF95dqrQ",
        "outputId": "5a4453a4-95ff-4921-a11a-bdb76b9a22ed"
      },
      "execution_count": 53,
      "outputs": [
        {
          "output_type": "execute_result",
          "data": {
            "text/plain": [
              "<Orange.evaluation.testing.Results at 0x7f3feb8269b0>"
            ]
          },
          "metadata": {},
          "execution_count": 53
        }
      ]
    },
    {
      "cell_type": "code",
      "source": [
        "Orange.evaluation.CA(previsoes_census)"
      ],
      "metadata": {
        "colab": {
          "base_uri": "https://localhost:8080/"
        },
        "id": "KYg40y9Nd2Wa",
        "outputId": "0752b820-9dd5-4a1a-e3d7-08bb1e47d0aa"
      },
      "execution_count": 54,
      "outputs": [
        {
          "output_type": "execute_result",
          "data": {
            "text/plain": [
              "array([0.82579853])"
            ]
          },
          "metadata": {},
          "execution_count": 54
        }
      ]
    },
    {
      "cell_type": "code",
      "source": [
        "CAs = Orange.evaluation.scoring.CA(previsoes_census) # Calcula accurácia.\n",
        "AUCs = Orange.evaluation.scoring.AUC(previsoes_census) # Calcula a Área Sob a Curva ROC (AUC).\n",
        "Recall = Orange.evaluation.scoring.Recall(previsoes_census) # Calcula o Recall.\n",
        "F1 = Orange.evaluation.scoring.F1(previsoes_census) # Calcula o F1-Score.\n",
        "Precision = Orange.evaluation.scoring.Precision(previsoes_census) # Calcula a Precisão."
      ],
      "metadata": {
        "id": "rQK9XX1UH21Z"
      },
      "execution_count": 55,
      "outputs": []
    },
    {
      "cell_type": "code",
      "source": [
        "CAs, AUCs, Recall, F1, Precision # Retorna as métricas."
      ],
      "metadata": {
        "colab": {
          "base_uri": "https://localhost:8080/"
        },
        "id": "adIzNdyEL2FJ",
        "outputId": "b7ba31d9-e49d-4b80-f094-cb32dfc0a4a4"
      },
      "execution_count": 56,
      "outputs": [
        {
          "output_type": "execute_result",
          "data": {
            "text/plain": [
              "(array([0.82579853]),\n",
              " array([0.86897674]),\n",
              " array([0.62092534]),\n",
              " array([0.62486772]),\n",
              " array([0.62886049]))"
            ]
          },
          "metadata": {},
          "execution_count": 56
        }
      ]
    },
    {
      "cell_type": "markdown",
      "source": [
        "## **Relatório Final**\n",
        "\n",
        "Com base nas métricas (CAs, AUCs, Recall, F1 e Precision), irei classificar o algoritmo da seguinte forma:\n",
        "\n",
        "Acurácia (CA): A acurácia do algoritmo é de 0.82579853, o que indica que ele classifica corretamente aproximadamente 82,58% das instâncias. Portanto, podemos dizer que o algoritmo tem um desempenho razoável em termos de acurácia.\n",
        "\n",
        "Área Sob a Curva ROC (AUC): A AUC do algoritmo é de 0.86897674, o que indica que ele tem uma boa capacidade de distinguir entre as classes positivas e negativas. Isso sugere que o algoritmo possui um bom poder de discriminação.\n",
        "\n",
        "Recall: O recall do algoritmo é de 0.62092534, o que indica que ele identifica corretamente cerca de 62,09% das instâncias positivas. Isso significa que o algoritmo tem um desempenho razoável na captura de instâncias positivas.\n",
        "\n",
        "F1-Score: O F1-Score do algoritmo é de 0.62486772, que é uma média harmônica entre o recall e a precisão. Isso indica um equilíbrio entre a capacidade de identificar instâncias positivas e evitar falsos positivos.\n",
        "\n",
        "Precisão: A precisão do algoritmo é de 0.62886049, o que indica que ele classifica corretamente cerca de 62,89% das instâncias positivas entre todas as instâncias classificadas como positivas.\n",
        "\n",
        "Com base nessas métricas, podemos concluir que o algoritmo tem um desempenho razoável em termos de acurácia e capacidade de discriminação entre as classes. No entanto, seu desempenho na identificação correta das instâncias positivas pode ser melhorado, pois o recall e a precisão são relativamente baixos."
      ],
      "metadata": {
        "id": "mnHmZ624PuCi"
      }
    },
    {
      "cell_type": "markdown",
      "source": [
        "# **Classificador base - Majority Learner**\n",
        "\n",
        "O Classificador base - Majority Learner, também conhecido como Majority Class Classifier, é um classificador simples que atribui a classe mais frequente no conjunto de treinamento a todas as instâncias do conjunto de teste. Em outras palavras, ele classifica todas as instâncias como pertencentes à classe majoritária.\n",
        "\n",
        "Esse tipo de classificador é útil como uma linha de base para avaliar o desempenho de outros algoritmos de classificação. Ele pode ser usado para comparar o desempenho de algoritmos mais sofisticados em relação a uma abordagem ingênua que simplesmente atribui a classe majoritária.\n",
        "\n",
        "Lembrando que o Majority Learner é um classificador muito simples e tende a ter um desempenho limitado em problemas complexos. Ele é mais adequado como uma linha de base para comparação com outros algoritmos de classificação mais avançados."
      ],
      "metadata": {
        "id": "9NBVLKcqfMSy"
      }
    },
    {
      "cell_type": "markdown",
      "source": [
        "# **Majority Learner Aplicado a Base de Credito**"
      ],
      "metadata": {
        "id": "v7jyCUnNfe_7"
      }
    },
    {
      "cell_type": "code",
      "source": [
        "# Carrega um arquivo CSV e cria uma tabela de dados no formato suportado pelo Orange.\n",
        "base_credit = Orange.data.Table('credit_data_regras.csv')"
      ],
      "metadata": {
        "id": "HSAJBl63fUch"
      },
      "execution_count": 51,
      "outputs": []
    },
    {
      "cell_type": "code",
      "source": [
        "base_credit.domain #  Retorna o domínio (esquema) associado a uma tabela de dados."
      ],
      "metadata": {
        "colab": {
          "base_uri": "https://localhost:8080/"
        },
        "id": "X9XugrmyjMKJ",
        "outputId": "8fd869a3-a264-45c6-8772-0fca623591e8"
      },
      "execution_count": 73,
      "outputs": [
        {
          "output_type": "execute_result",
          "data": {
            "text/plain": [
              "[income, age, loan | default]"
            ]
          },
          "metadata": {},
          "execution_count": 73
        }
      ]
    },
    {
      "cell_type": "code",
      "source": [
        "# Cria um classificador baseado na estratégia de classificação da maioria.\n",
        "majority = Orange.classification.MajorityLearner()"
      ],
      "metadata": {
        "id": "xtZj6ZRJjTHE"
      },
      "execution_count": 74,
      "outputs": []
    },
    {
      "cell_type": "code",
      "source": [
        "#  Avaliando o desempenho do classificador em dados de teste.\n",
        "previsoes = Orange.evaluation.testing.TestOnTestData(\n",
        "    base_credit, base_credit, [majority]\n",
        ")"
      ],
      "metadata": {
        "id": "nhF35WHQjjgL"
      },
      "execution_count": 85,
      "outputs": []
    },
    {
      "cell_type": "code",
      "source": [
        "Orange.evaluation.CA(previsoes) # Retorna a accuracy."
      ],
      "metadata": {
        "colab": {
          "base_uri": "https://localhost:8080/"
        },
        "id": "2DeF-8pRWPjO",
        "outputId": "c71f9f7e-cf03-420b-f731-1822492c31a2"
      },
      "execution_count": 86,
      "outputs": [
        {
          "output_type": "execute_result",
          "data": {
            "text/plain": [
              "array([0.8585])"
            ]
          },
          "metadata": {},
          "execution_count": 86
        }
      ]
    },
    {
      "cell_type": "code",
      "source": [
        "# Criando um loop sobre as instâncias (registros) da tabela e imprimindo a classe de cada registro.\n",
        "for registro in base_credit:\n",
        "  print(registro.get_class())"
      ],
      "metadata": {
        "id": "pGkmrpvMkEqN"
      },
      "execution_count": null,
      "outputs": []
    },
    {
      "cell_type": "code",
      "source": [
        "# Contando a ocorrência de cada classe na tabela.\n",
        "from collections import Counter\n",
        "Counter(str(registro.get_class()) for registro in base_credit)"
      ],
      "metadata": {
        "colab": {
          "base_uri": "https://localhost:8080/"
        },
        "id": "vCEiKnCskT4D",
        "outputId": "a9e55e65-2848-4663-88f2-23caf6164cb6"
      },
      "execution_count": 63,
      "outputs": [
        {
          "output_type": "execute_result",
          "data": {
            "text/plain": [
              "Counter({'0': 1717, '1': 283})"
            ]
          },
          "metadata": {},
          "execution_count": 63
        }
      ]
    },
    {
      "cell_type": "code",
      "source": [
        "# Quando você divide o número de instâncias corretamente classificadas pelo total de...\n",
        "# ...instâncias, obtém a mesma proporção que a acurácia.\n",
        "1717 / 2000"
      ],
      "metadata": {
        "colab": {
          "base_uri": "https://localhost:8080/"
        },
        "id": "ZbJfLexTkYEB",
        "outputId": "7251ca92-21b1-42d0-b217-c6b12fe19a60"
      },
      "execution_count": 64,
      "outputs": [
        {
          "output_type": "execute_result",
          "data": {
            "text/plain": [
              "0.8585"
            ]
          },
          "metadata": {},
          "execution_count": 64
        }
      ]
    },
    {
      "cell_type": "markdown",
      "source": [
        "# **Majority Learner Aplicado a Base do Censo**"
      ],
      "metadata": {
        "id": "KMqx-Kpbl0io"
      }
    },
    {
      "cell_type": "code",
      "source": [
        "base_census = Orange.data.Table('census_regras.csv')"
      ],
      "metadata": {
        "id": "1xx0Q7del2tO"
      },
      "execution_count": 77,
      "outputs": []
    },
    {
      "cell_type": "code",
      "source": [
        "base_census.domain"
      ],
      "metadata": {
        "colab": {
          "base_uri": "https://localhost:8080/"
        },
        "id": "_7upOf-TmAjG",
        "outputId": "d0723269-a6b8-4a51-ba76-7211598e1695"
      },
      "execution_count": 78,
      "outputs": [
        {
          "output_type": "execute_result",
          "data": {
            "text/plain": [
              "[age, workclass, final-weight, education, education-num, marital-status, occupation, relationship, race, sex, capital-gain, capital-loos, hour-per-week, native-country | income]"
            ]
          },
          "metadata": {},
          "execution_count": 78
        }
      ]
    },
    {
      "cell_type": "code",
      "source": [
        "majority = Orange.classification.MajorityLearner()"
      ],
      "metadata": {
        "id": "c175Z3-XmHbh"
      },
      "execution_count": 79,
      "outputs": []
    },
    {
      "cell_type": "code",
      "source": [
        "previsoes = Orange.evaluation.testing.TestOnTestData(base_census, base_census, [majority])"
      ],
      "metadata": {
        "id": "FEuTvaZ6mMT6"
      },
      "execution_count": 80,
      "outputs": []
    },
    {
      "cell_type": "code",
      "source": [
        "Orange.evaluation.CA(previsoes)"
      ],
      "metadata": {
        "colab": {
          "base_uri": "https://localhost:8080/"
        },
        "id": "SYIQUybhmYwN",
        "outputId": "57801a74-cbe2-44ee-a12f-ee9512c53c75"
      },
      "execution_count": 81,
      "outputs": [
        {
          "output_type": "execute_result",
          "data": {
            "text/plain": [
              "array([0.75919044])"
            ]
          },
          "metadata": {},
          "execution_count": 81
        }
      ]
    },
    {
      "cell_type": "code",
      "source": [
        "for registro in base_census:\n",
        "  print(registro.get_class())"
      ],
      "metadata": {
        "id": "eMTEfRZqmeR7"
      },
      "execution_count": null,
      "outputs": []
    },
    {
      "cell_type": "code",
      "source": [
        "from collections import Counter\n",
        "Counter(str(registro.get_class()) for registro in base_census)"
      ],
      "metadata": {
        "colab": {
          "base_uri": "https://localhost:8080/"
        },
        "id": "_PZ2RtaCmpfq",
        "outputId": "3abb3cd6-8f15-4de6-a265-5d9a7a0e5d0e"
      },
      "execution_count": 83,
      "outputs": [
        {
          "output_type": "execute_result",
          "data": {
            "text/plain": [
              "Counter({'<=50K': 24720, '>50K': 7841})"
            ]
          },
          "metadata": {},
          "execution_count": 83
        }
      ]
    },
    {
      "cell_type": "code",
      "source": [
        "24720 / (24720 + 7841)"
      ],
      "metadata": {
        "colab": {
          "base_uri": "https://localhost:8080/"
        },
        "id": "BP2wLufVmzQX",
        "outputId": "d036a065-cf05-4d3b-cff4-0b97474d22cb"
      },
      "execution_count": 84,
      "outputs": [
        {
          "output_type": "execute_result",
          "data": {
            "text/plain": [
              "0.7591904425539756"
            ]
          },
          "metadata": {},
          "execution_count": 84
        }
      ]
    },
    {
      "cell_type": "markdown",
      "source": [
        "# **Considerações Finais**\n",
        "\n",
        "Durante este estudo de caso, tive a oportunidade de aprofundar meus conhecimentos sobre os algoritmos de aprendizado por regras, como o CN2, com o auxílio do professor Jones Granatyr em seu curso de Machine Learning.\n",
        "\n",
        "Agradeço ao professor Jones Granatyr pelo conhecimento compartilhado e pela orientação durante o curso. Essa experiência contribuiu significativamente para minha compreensão de algoritmos de Machine Learning e sua aplicação prática."
      ],
      "metadata": {
        "id": "skz_5NACLLMx"
      }
    }
  ]
}