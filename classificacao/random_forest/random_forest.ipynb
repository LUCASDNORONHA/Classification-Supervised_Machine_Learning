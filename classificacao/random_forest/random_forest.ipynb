{
  "nbformat": 4,
  "nbformat_minor": 0,
  "metadata": {
    "colab": {
      "provenance": []
    },
    "kernelspec": {
      "name": "python3",
      "display_name": "Python 3"
    },
    "language_info": {
      "name": "python"
    }
  },
  "cells": [
    {
      "cell_type": "markdown",
      "source": [
        "# **Curso de Machine Learning e Data Science - IA Expert Academy**\n",
        "\n",
        "\n",
        "---\n",
        "\n",
        "\n",
        "**Aluno:** Lucas Dias Noronha"
      ],
      "metadata": {
        "id": "1RvwWd28NpTO"
      }
    },
    {
      "cell_type": "markdown",
      "source": [
        "# **Random Forest**\n",
        "\n",
        "Random Forest (Floresta RandÕômica) é um algoritmo de aprendizado de máquina que utiliza uma combinação de múltiplas árvores de decisão para realizar tarefas de classificação e regressão. É uma técnica que combina as previsões de várias árvores individuais para obter um resultado final mais robusto e preciso.\n",
        "\n",
        "Ao contrário de uma única árvore de decisão, que pode estar sujeita a overfitting (ajuste excessivo aos dados de treinamento) ou underfitting (ajuste insuficiente), a Random Forest reduz esses problemas por meio de uma abordagem de conjunto (ensemble) de árvores. Cada árvore é treinada em uma amostra aleatória do conjunto de dados de treinamento, permitindo que as árvores sejam independentes e diversificadas. Além disso, durante o processo de construção de cada árvore, uma seleção aleatória de recursos (variáveis) é considerada para dividir os nós, o que contribui para a diversidade e robustez do modelo.\n",
        "\n",
        "Para fazer previsões com o modelo Random Forest, as previsões individuais de todas as árvores são combinadas através de votação (no caso de classificação) ou média (no caso de regressão). Essa abordagem de conjunto geralmente leva a resultados mais precisos e estáveis, reduzindo a influência de ruídos e tendo uma melhor capacidade de generalização.\n",
        "\n",
        "Random Forest é amplamente utilizado em problemas de classificação e regressão em várias áreas, como finanças, medicina, análise de dados, entre outras. Ele é conhecido por sua capacidade de lidar com grandes conjuntos de dados, recursos de alta dimensionalidade e variáveis de diferentes tipos.\n",
        "\n",
        "Além disso, a Random Forest também fornece medidas de importância das variáveis, que permitem identificar quais características têm maior impacto nas previsões do modelo.\n"
      ],
      "metadata": {
        "id": "o8X3vMgPLQ1N"
      }
    },
    {
      "cell_type": "code",
      "source": [
        "!pip install plotly --upgrade"
      ],
      "metadata": {
        "colab": {
          "base_uri": "https://localhost:8080/"
        },
        "id": "noGHaVTuPPuF",
        "outputId": "cf5f906e-2222-4269-e997-f4137fbe3051"
      },
      "execution_count": 1,
      "outputs": [
        {
          "output_type": "stream",
          "name": "stdout",
          "text": [
            "Looking in indexes: https://pypi.org/simple, https://us-python.pkg.dev/colab-wheels/public/simple/\n",
            "Requirement already satisfied: plotly in /usr/local/lib/python3.10/dist-packages (5.13.1)\n",
            "Collecting plotly\n",
            "  Downloading plotly-5.15.0-py2.py3-none-any.whl (15.5 MB)\n",
            "\u001b[2K     \u001b[90m━━━━━━━━━━━━━━━━━━━━━━━━━━━━━━━━━━━━━━━━\u001b[0m \u001b[32m15.5/15.5 MB\u001b[0m \u001b[31m73.3 MB/s\u001b[0m eta \u001b[36m0:00:00\u001b[0m\n",
            "\u001b[?25hRequirement already satisfied: tenacity>=6.2.0 in /usr/local/lib/python3.10/dist-packages (from plotly) (8.2.2)\n",
            "Requirement already satisfied: packaging in /usr/local/lib/python3.10/dist-packages (from plotly) (23.1)\n",
            "Installing collected packages: plotly\n",
            "  Attempting uninstall: plotly\n",
            "    Found existing installation: plotly 5.13.1\n",
            "    Uninstalling plotly-5.13.1:\n",
            "      Successfully uninstalled plotly-5.13.1\n",
            "Successfully installed plotly-5.15.0\n"
          ]
        }
      ]
    },
    {
      "cell_type": "code",
      "execution_count": 27,
      "metadata": {
        "id": "hQ8K9mpPLFcC"
      },
      "outputs": [],
      "source": [
        "# Bibliotecas.\n",
        "from sklearn.ensemble import RandomForestClassifier\n",
        "from sklearn.metrics import accuracy_score, classification_report\n",
        "from sklearn import tree\n",
        "from yellowbrick.classifier import ConfusionMatrix\n",
        "\n",
        "import matplotlib.pyplot as plt\n",
        "import pickle"
      ]
    },
    {
      "cell_type": "markdown",
      "source": [
        "# **Algoritmo de Random Forest Aplicado a Base de Crédito**\n",
        "\n"
      ],
      "metadata": {
        "id": "4QcAD33PLe8V"
      }
    },
    {
      "cell_type": "markdown",
      "source": [
        "Utilizarei o modulo pickle em Python, para carregar os dados de treinamento e teste, do arquivo \"credit.pkl\", que criei anteriormente durante o pré-processamento dos dados."
      ],
      "metadata": {
        "id": "prVVrgOVPJIb"
      }
    },
    {
      "cell_type": "code",
      "source": [
        "# Carregando os dados na suas respectivas variáveis.\n",
        "with open('credit.pkl', 'rb') as f:\n",
        "  X_credit_treinamento, y_credit_treinamento, X_credit_teste, y_credit_teste  = pickle.load(f)"
      ],
      "metadata": {
        "id": "uhrcW-9WLmAJ"
      },
      "execution_count": 33,
      "outputs": []
    },
    {
      "cell_type": "markdown",
      "source": [
        "## **Treinando O Algoritmo**"
      ],
      "metadata": {
        "id": "VtierentP2Mv"
      }
    },
    {
      "cell_type": "markdown",
      "source": [
        "Logo a seguir, irei criar um objeto RandomForestClassifier com o número de árvores que serão construídas na floresta floresta randômicas (40), com o critério 'entropy' e um estado aleatório definido como 0:"
      ],
      "metadata": {
        "id": "scu2D79CQGCG"
      }
    },
    {
      "cell_type": "code",
      "source": [
        "# Criando o objeto RandomForestClassifie.\n",
        "random_forest_credit = RandomForestClassifier(n_estimators=40, criterion='entropy', random_state=0)\n",
        "\n",
        "# Treinando o algoritmo de random forest utilizando o objeto random_forest_credit com os dados de treinamento.\n",
        "random_forest_credit.fit(X_credit_treinamento, y_credit_treinamento)"
      ],
      "metadata": {
        "colab": {
          "base_uri": "https://localhost:8080/",
          "height": 74
        },
        "id": "WXYnWrtzLm_c",
        "outputId": "022efdc8-631e-4683-f60e-e8fe881ad626"
      },
      "execution_count": 34,
      "outputs": [
        {
          "output_type": "execute_result",
          "data": {
            "text/plain": [
              "RandomForestClassifier(criterion='entropy', n_estimators=40, random_state=0)"
            ],
            "text/html": [
              "<style>#sk-container-id-6 {color: black;background-color: white;}#sk-container-id-6 pre{padding: 0;}#sk-container-id-6 div.sk-toggleable {background-color: white;}#sk-container-id-6 label.sk-toggleable__label {cursor: pointer;display: block;width: 100%;margin-bottom: 0;padding: 0.3em;box-sizing: border-box;text-align: center;}#sk-container-id-6 label.sk-toggleable__label-arrow:before {content: \"▸\";float: left;margin-right: 0.25em;color: #696969;}#sk-container-id-6 label.sk-toggleable__label-arrow:hover:before {color: black;}#sk-container-id-6 div.sk-estimator:hover label.sk-toggleable__label-arrow:before {color: black;}#sk-container-id-6 div.sk-toggleable__content {max-height: 0;max-width: 0;overflow: hidden;text-align: left;background-color: #f0f8ff;}#sk-container-id-6 div.sk-toggleable__content pre {margin: 0.2em;color: black;border-radius: 0.25em;background-color: #f0f8ff;}#sk-container-id-6 input.sk-toggleable__control:checked~div.sk-toggleable__content {max-height: 200px;max-width: 100%;overflow: auto;}#sk-container-id-6 input.sk-toggleable__control:checked~label.sk-toggleable__label-arrow:before {content: \"▾\";}#sk-container-id-6 div.sk-estimator input.sk-toggleable__control:checked~label.sk-toggleable__label {background-color: #d4ebff;}#sk-container-id-6 div.sk-label input.sk-toggleable__control:checked~label.sk-toggleable__label {background-color: #d4ebff;}#sk-container-id-6 input.sk-hidden--visually {border: 0;clip: rect(1px 1px 1px 1px);clip: rect(1px, 1px, 1px, 1px);height: 1px;margin: -1px;overflow: hidden;padding: 0;position: absolute;width: 1px;}#sk-container-id-6 div.sk-estimator {font-family: monospace;background-color: #f0f8ff;border: 1px dotted black;border-radius: 0.25em;box-sizing: border-box;margin-bottom: 0.5em;}#sk-container-id-6 div.sk-estimator:hover {background-color: #d4ebff;}#sk-container-id-6 div.sk-parallel-item::after {content: \"\";width: 100%;border-bottom: 1px solid gray;flex-grow: 1;}#sk-container-id-6 div.sk-label:hover label.sk-toggleable__label {background-color: #d4ebff;}#sk-container-id-6 div.sk-serial::before {content: \"\";position: absolute;border-left: 1px solid gray;box-sizing: border-box;top: 0;bottom: 0;left: 50%;z-index: 0;}#sk-container-id-6 div.sk-serial {display: flex;flex-direction: column;align-items: center;background-color: white;padding-right: 0.2em;padding-left: 0.2em;position: relative;}#sk-container-id-6 div.sk-item {position: relative;z-index: 1;}#sk-container-id-6 div.sk-parallel {display: flex;align-items: stretch;justify-content: center;background-color: white;position: relative;}#sk-container-id-6 div.sk-item::before, #sk-container-id-6 div.sk-parallel-item::before {content: \"\";position: absolute;border-left: 1px solid gray;box-sizing: border-box;top: 0;bottom: 0;left: 50%;z-index: -1;}#sk-container-id-6 div.sk-parallel-item {display: flex;flex-direction: column;z-index: 1;position: relative;background-color: white;}#sk-container-id-6 div.sk-parallel-item:first-child::after {align-self: flex-end;width: 50%;}#sk-container-id-6 div.sk-parallel-item:last-child::after {align-self: flex-start;width: 50%;}#sk-container-id-6 div.sk-parallel-item:only-child::after {width: 0;}#sk-container-id-6 div.sk-dashed-wrapped {border: 1px dashed gray;margin: 0 0.4em 0.5em 0.4em;box-sizing: border-box;padding-bottom: 0.4em;background-color: white;}#sk-container-id-6 div.sk-label label {font-family: monospace;font-weight: bold;display: inline-block;line-height: 1.2em;}#sk-container-id-6 div.sk-label-container {text-align: center;}#sk-container-id-6 div.sk-container {/* jupyter's `normalize.less` sets `[hidden] { display: none; }` but bootstrap.min.css set `[hidden] { display: none !important; }` so we also need the `!important` here to be able to override the default hidden behavior on the sphinx rendered scikit-learn.org. See: https://github.com/scikit-learn/scikit-learn/issues/21755 */display: inline-block !important;position: relative;}#sk-container-id-6 div.sk-text-repr-fallback {display: none;}</style><div id=\"sk-container-id-6\" class=\"sk-top-container\"><div class=\"sk-text-repr-fallback\"><pre>RandomForestClassifier(criterion=&#x27;entropy&#x27;, n_estimators=40, random_state=0)</pre><b>In a Jupyter environment, please rerun this cell to show the HTML representation or trust the notebook. <br />On GitHub, the HTML representation is unable to render, please try loading this page with nbviewer.org.</b></div><div class=\"sk-container\" hidden><div class=\"sk-item\"><div class=\"sk-estimator sk-toggleable\"><input class=\"sk-toggleable__control sk-hidden--visually\" id=\"sk-estimator-id-6\" type=\"checkbox\" checked><label for=\"sk-estimator-id-6\" class=\"sk-toggleable__label sk-toggleable__label-arrow\">RandomForestClassifier</label><div class=\"sk-toggleable__content\"><pre>RandomForestClassifier(criterion=&#x27;entropy&#x27;, n_estimators=40, random_state=0)</pre></div></div></div></div></div>"
            ]
          },
          "metadata": {},
          "execution_count": 34
        }
      ]
    },
    {
      "cell_type": "markdown",
      "source": [
        "Algoritmo treinado e pronto para testes."
      ],
      "metadata": {
        "id": "raDPBV-7R5lT"
      }
    },
    {
      "cell_type": "markdown",
      "source": [
        "## **Testando o Algoritmo**"
      ],
      "metadata": {
        "id": "Eml-BzxIR-3i"
      }
    },
    {
      "cell_type": "markdown",
      "source": [
        "Para verificar e testar a eficácia do algoritmo, irei criar uma variável onde as previsões de classificação inferidas pelo algoritmo serão armazenadas."
      ],
      "metadata": {
        "id": "nw27nMWwSh4h"
      }
    },
    {
      "cell_type": "markdown",
      "source": [
        "Eu irei usar o modelo de random forest treinado (random_forest_credit) para fazer previsões nas amostras de teste (X_credit_teste). As previsões das classes serão armazenadas na variável previsoes_rf_credit."
      ],
      "metadata": {
        "id": "x0zIPwDzSNPK"
      }
    },
    {
      "cell_type": "code",
      "source": [
        "# Realizando as previsões das classes com amostra de teste, usando a random forest treinada anteriormente.\n",
        "previsoes_rf_credit = random_forest_credit.predict(X_credit_teste)"
      ],
      "metadata": {
        "id": "QKzD9ogvLqCx"
      },
      "execution_count": 35,
      "outputs": []
    },
    {
      "cell_type": "markdown",
      "source": [
        "Previsões armazenadas com sucesso.\n",
        "\n",
        "Obs.: É importante ressaltar que o algoritmo fez suas próprias previsões e que foram armazendas na variável \"previsoes_rf_credit\"."
      ],
      "metadata": {
        "id": "glVmNzooTN2n"
      }
    },
    {
      "cell_type": "markdown",
      "source": [
        "## **Avaliando O Algoritmo**"
      ],
      "metadata": {
        "id": "DmpOfVFUTbaZ"
      }
    },
    {
      "cell_type": "markdown",
      "source": [
        "Irei verificar as previsões feitas pelo algoritmo imprimindo a variável previsoes_rf_credit. Isso irá mostrar as previsões das classes para cada exemplo na amostra de teste feito pelo algoritmo."
      ],
      "metadata": {
        "id": "svUjGrR0To_1"
      }
    },
    {
      "cell_type": "code",
      "source": [
        "previsoes_rf_credit # Retorna as previsões."
      ],
      "metadata": {
        "colab": {
          "base_uri": "https://localhost:8080/"
        },
        "id": "SeZzx3lbTAg5",
        "outputId": "542060e5-09dc-43a1-988e-a0ab945e9f2f"
      },
      "execution_count": 36,
      "outputs": [
        {
          "output_type": "execute_result",
          "data": {
            "text/plain": [
              "array([1, 0, 0, 0, 0, 0, 0, 0, 0, 0, 0, 0, 0, 0, 0, 0, 1, 0, 0, 1, 0, 0,\n",
              "       0, 0, 0, 0, 0, 0, 0, 0, 0, 0, 0, 0, 0, 1, 1, 0, 0, 0, 0, 0, 0, 0,\n",
              "       0, 1, 1, 0, 1, 0, 0, 0, 0, 0, 0, 0, 0, 0, 0, 1, 0, 0, 0, 1, 0, 0,\n",
              "       0, 0, 0, 1, 0, 0, 1, 0, 0, 1, 0, 0, 1, 0, 0, 0, 0, 0, 0, 0, 1, 0,\n",
              "       0, 0, 0, 0, 0, 0, 0, 0, 0, 0, 0, 0, 0, 0, 0, 1, 0, 0, 1, 0, 0, 1,\n",
              "       0, 0, 1, 0, 0, 0, 0, 0, 0, 0, 1, 0, 0, 0, 0, 0, 0, 0, 0, 0, 0, 1,\n",
              "       0, 0, 0, 0, 0, 0, 0, 0, 0, 0, 0, 0, 1, 0, 0, 0, 0, 0, 0, 0, 1, 0,\n",
              "       0, 0, 0, 0, 0, 0, 0, 0, 0, 0, 0, 1, 0, 0, 0, 0, 0, 0, 0, 0, 0, 0,\n",
              "       0, 1, 0, 0, 0, 0, 0, 1, 0, 0, 0, 1, 1, 0, 0, 0, 1, 0, 0, 0, 0, 0,\n",
              "       0, 0, 0, 0, 0, 0, 0, 0, 1, 1, 1, 1, 0, 0, 0, 0, 0, 0, 0, 0, 0, 0,\n",
              "       1, 0, 0, 0, 0, 0, 0, 0, 0, 1, 0, 0, 0, 0, 0, 0, 0, 0, 0, 0, 0, 0,\n",
              "       0, 1, 1, 0, 0, 1, 0, 0, 0, 0, 0, 0, 0, 0, 0, 0, 1, 0, 1, 0, 0, 0,\n",
              "       0, 0, 0, 0, 0, 0, 0, 0, 0, 0, 0, 0, 0, 0, 0, 0, 0, 0, 0, 0, 0, 0,\n",
              "       0, 0, 0, 0, 0, 0, 0, 0, 0, 0, 1, 0, 0, 0, 0, 0, 0, 0, 1, 0, 0, 0,\n",
              "       0, 0, 0, 1, 0, 0, 0, 1, 0, 0, 0, 0, 0, 1, 0, 0, 0, 0, 0, 1, 0, 0,\n",
              "       0, 0, 0, 0, 0, 1, 0, 0, 0, 0, 0, 0, 1, 0, 0, 0, 0, 0, 0, 1, 0, 0,\n",
              "       0, 0, 0, 1, 0, 0, 0, 0, 0, 0, 0, 0, 0, 0, 0, 0, 0, 0, 0, 0, 0, 0,\n",
              "       0, 0, 0, 0, 0, 0, 0, 0, 0, 0, 0, 0, 0, 0, 0, 0, 0, 0, 0, 0, 0, 0,\n",
              "       0, 0, 0, 0, 1, 0, 0, 0, 0, 0, 0, 0, 0, 0, 1, 0, 0, 0, 0, 0, 0, 0,\n",
              "       0, 0, 0, 0, 0, 0, 0, 0, 0, 0, 0, 0, 0, 1, 0, 0, 0, 0, 0, 0, 0, 0,\n",
              "       0, 1, 0, 0, 1, 0, 0, 0, 0, 0, 0, 0, 1, 0, 0, 0, 0, 0, 0, 0, 0, 0,\n",
              "       0, 0, 1, 0, 0, 0, 0, 0, 0, 0, 0, 0, 0, 0, 0, 1, 0, 0, 0, 0, 0, 0,\n",
              "       0, 0, 1, 0, 0, 0, 1, 0, 0, 0, 0, 0, 0, 0, 1, 1])"
            ]
          },
          "metadata": {},
          "execution_count": 36
        }
      ]
    },
    {
      "cell_type": "markdown",
      "source": [
        "A variável y_credit_teste contém as classes corretas para as amostras de teste. Ao imprimir essa variável, verei as classes reais correspondentes a cada exemplo na amostra de teste. Isso permite comparar as previsões feitas pelo algoritmo de random forest com as classes corretas e avaliar o desempenho do modelo."
      ],
      "metadata": {
        "id": "TpxQQbxkTz5G"
      }
    },
    {
      "cell_type": "code",
      "source": [
        "y_credit_teste # Retorna as classes correta."
      ],
      "metadata": {
        "colab": {
          "base_uri": "https://localhost:8080/"
        },
        "id": "XQ2jQfX1Lu-9",
        "outputId": "edda693f-51ce-4255-c8c9-baba4a7214f6"
      },
      "execution_count": 37,
      "outputs": [
        {
          "output_type": "execute_result",
          "data": {
            "text/plain": [
              "array([1, 0, 0, 0, 0, 0, 0, 0, 0, 0, 0, 0, 0, 0, 0, 0, 1, 0, 0, 1, 0, 0,\n",
              "       0, 0, 0, 0, 0, 0, 0, 0, 0, 0, 0, 0, 0, 1, 1, 0, 0, 0, 0, 0, 0, 0,\n",
              "       0, 1, 1, 0, 1, 0, 0, 0, 0, 0, 0, 0, 0, 0, 0, 1, 0, 0, 0, 1, 0, 0,\n",
              "       0, 0, 0, 1, 0, 0, 1, 0, 0, 1, 0, 0, 1, 0, 0, 0, 0, 0, 0, 0, 1, 0,\n",
              "       0, 0, 0, 0, 0, 0, 0, 0, 0, 0, 0, 0, 0, 0, 0, 1, 0, 0, 0, 0, 0, 1,\n",
              "       0, 0, 1, 0, 0, 0, 0, 0, 0, 0, 0, 0, 0, 0, 0, 0, 0, 0, 0, 0, 0, 1,\n",
              "       0, 0, 0, 0, 0, 0, 0, 0, 0, 0, 0, 0, 1, 0, 0, 0, 0, 0, 0, 0, 1, 0,\n",
              "       0, 0, 0, 0, 0, 0, 0, 0, 0, 0, 0, 1, 0, 0, 0, 1, 0, 0, 0, 0, 0, 0,\n",
              "       0, 1, 0, 0, 0, 0, 0, 1, 0, 0, 0, 1, 1, 0, 0, 0, 1, 0, 0, 0, 0, 0,\n",
              "       0, 0, 0, 0, 0, 0, 0, 0, 1, 1, 0, 1, 0, 0, 0, 0, 0, 0, 0, 0, 0, 0,\n",
              "       1, 0, 0, 0, 0, 0, 0, 0, 0, 1, 0, 0, 0, 0, 0, 0, 0, 0, 0, 0, 0, 0,\n",
              "       0, 1, 1, 0, 1, 1, 0, 0, 0, 0, 0, 0, 0, 0, 0, 0, 1, 0, 1, 0, 0, 0,\n",
              "       0, 0, 0, 0, 0, 0, 0, 0, 0, 0, 0, 0, 0, 0, 0, 0, 0, 0, 0, 0, 0, 0,\n",
              "       0, 0, 0, 0, 0, 0, 0, 0, 0, 0, 1, 0, 0, 0, 0, 0, 0, 0, 1, 0, 0, 0,\n",
              "       0, 0, 1, 1, 0, 0, 0, 1, 0, 0, 0, 0, 0, 1, 0, 0, 0, 0, 0, 1, 0, 0,\n",
              "       0, 0, 0, 0, 0, 1, 0, 0, 0, 0, 0, 0, 1, 0, 0, 0, 0, 0, 0, 1, 0, 0,\n",
              "       0, 0, 0, 1, 0, 0, 0, 0, 0, 0, 0, 0, 0, 0, 0, 0, 0, 0, 0, 0, 0, 0,\n",
              "       0, 0, 0, 0, 1, 0, 0, 0, 0, 0, 0, 0, 1, 0, 0, 0, 0, 0, 0, 0, 0, 0,\n",
              "       0, 0, 0, 0, 1, 0, 0, 0, 0, 0, 0, 0, 0, 0, 1, 0, 0, 0, 0, 0, 0, 0,\n",
              "       0, 0, 0, 0, 0, 0, 0, 0, 0, 0, 0, 0, 0, 1, 0, 0, 0, 0, 0, 0, 0, 0,\n",
              "       0, 1, 0, 0, 1, 0, 0, 0, 0, 0, 0, 0, 1, 0, 0, 0, 0, 0, 0, 0, 0, 0,\n",
              "       0, 0, 1, 0, 0, 0, 0, 0, 0, 0, 0, 0, 0, 0, 0, 1, 0, 0, 0, 0, 0, 0,\n",
              "       0, 0, 1, 0, 0, 0, 1, 0, 0, 0, 0, 0, 0, 0, 1, 1])"
            ]
          },
          "metadata": {},
          "execution_count": 37
        }
      ]
    },
    {
      "cell_type": "markdown",
      "source": [
        "A acurácia é uma métrica comum para avaliar o desempenho de um modelo de classificação. Ela mede a proporção de exemplos corretamente classificados em relação ao total de exemplos."
      ],
      "metadata": {
        "id": "uiYMgO8CUAcu"
      }
    },
    {
      "cell_type": "code",
      "source": [
        "# Calcula a acurácia do modelo de random forest ao comparar as previsões feitas pelo....\n",
        "# ...modelo (previsoes_rf_credit) com as classes verdadeiras dos exemplos de teste (y_credit_teste).\n",
        "accuracy_score(y_credit_teste, previsoes_rf_credit)"
      ],
      "metadata": {
        "colab": {
          "base_uri": "https://localhost:8080/"
        },
        "id": "77jjtja9Lxwd",
        "outputId": "68308b83-1f42-4548-827b-7cc6fc89b935"
      },
      "execution_count": 38,
      "outputs": [
        {
          "output_type": "execute_result",
          "data": {
            "text/plain": [
              "0.984"
            ]
          },
          "metadata": {},
          "execution_count": 38
        }
      ]
    },
    {
      "cell_type": "markdown",
      "source": [
        "A biblioteca Yellowbrick fornece uma interface conveniente para visualização de métricas de aprendizado de máquina, incluindo a matriz de confusão."
      ],
      "metadata": {
        "id": "Ov_cVjUPUlv-"
      }
    },
    {
      "cell_type": "code",
      "source": [
        "# Criando o objeto ConfusionMatrix.\n",
        "cm = ConfusionMatrix(random_forest_credit)\n",
        "\n",
        "# Ajustando o modelo aos dados de treinamento.\n",
        "cm.fit(X_credit_treinamento, y_credit_treinamento)\n",
        "\n",
        "# Avaliando o modelo nos dados de teste.\n",
        "cm.score(X_credit_teste, y_credit_teste)\n",
        "\n",
        "# Visualizando a matriz de confusão.\n",
        "cm.show();"
      ],
      "metadata": {
        "colab": {
          "base_uri": "https://localhost:8080/",
          "height": 551
        },
        "id": "hWnnsExBLygF",
        "outputId": "1c823f93-e63c-47dd-8c18-98b677860f53"
      },
      "execution_count": 39,
      "outputs": [
        {
          "output_type": "display_data",
          "data": {
            "text/plain": [
              "<Figure size 800x550 with 1 Axes>"
            ],
            "image/png": "[encoded data removed]"
          },
          "metadata": {}
        }
      ]
    },
    {
      "cell_type": "markdown",
      "source": [
        "Vou gerar um relatório de classificação que contém várias métricas de avaliação do modelo."
      ],
      "metadata": {
        "id": "jxWfSoplVNJf"
      }
    },
    {
      "cell_type": "code",
      "source": [
        "print(classification_report(y_credit_teste, previsoes_rf_credit))"
      ],
      "metadata": {
        "colab": {
          "base_uri": "https://localhost:8080/"
        },
        "id": "QsU4ceqRL1Qc",
        "outputId": "e5557d37-8442-4005-f0b1-174861c21e6a"
      },
      "execution_count": 40,
      "outputs": [
        {
          "output_type": "stream",
          "name": "stdout",
          "text": [
            "              precision    recall  f1-score   support\n",
            "\n",
            "           0       0.99      0.99      0.99       436\n",
            "           1       0.95      0.92      0.94        64\n",
            "\n",
            "    accuracy                           0.98       500\n",
            "   macro avg       0.97      0.96      0.96       500\n",
            "weighted avg       0.98      0.98      0.98       500\n",
            "\n"
          ]
        }
      ]
    },
    {
      "cell_type": "markdown",
      "source": [
        "## **Relatório Final**\n",
        "\n",
        "Com base nas métricas fornecidas no relatório de classificação, irei classificar o desempenho do algoritmo Random Forest da seguinte maneira:\n",
        "\n",
        "**Classe 0:**\n",
        "\n",
        "**Precisão:** 0.99 - O algoritmo tem uma alta precisão na classificação dos exemplos da classe 0.\n",
        "\n",
        "**Recall:** 0.99 - O algoritmo tem uma alta capacidade de identificar corretamente os exemplos da classe 0.\n",
        "\n",
        "**F1-Score:** 0.99 - O algoritmo tem um bom equilíbrio entre precisão e recall para a classe 0.\n",
        "\n",
        "**Suporte:** 436 - Há um número substancial de exemplos da classe 0 nos dados de teste.\n",
        "\n",
        "**Classe 1:**\n",
        "\n",
        "**Precisão:** 0.95 - O algoritmo tem uma alta precisão na classificação dos exemplos da classe 1.\n",
        "\n",
        "**Recall:** 0.92 - O algoritmo tem uma capacidade boa de identificar corretamente os exemplos da classe 1.\n",
        "\n",
        "**F1-Score:** 0.94 - O algoritmo tem um bom equilíbrio entre precisão e recall para a classe 1.\n",
        "\n",
        "**Suporte:** 64 - Há um número menor de exemplos da classe 1 nos dados de teste.\n",
        "\n",
        "**Acurácia do algoritmo:** 0.98 - O algoritmo tem uma taxa de acerto geral de 98%, considerando todas as classes. Isso indica que ele classificou corretamente a maioria dos exemplos de teste.\n",
        "\n",
        "O desempenho do algoritmo Random Forest é bastante satisfatório, apresentando altas medidas de precisão e recall para ambas as classes. Isso indica que o modelo é capaz de fazer previsões precisas e corretas para a maioria dos exemplos em ambas as classes. A acurácia geral de 98% também é muito boa, demonstrando a eficácia do modelo na classificação dos dados de teste.\n",
        "\n",
        "No geral, podemos considerar que o algoritmo Random Forest possui um desempenho promissor com base nessas métricas de avaliação."
      ],
      "metadata": {
        "id": "-6feg7tRVciO"
      }
    },
    {
      "cell_type": "markdown",
      "source": [
        "# **Algoritmo de Random Forest Aplicado a Base do Censo**"
      ],
      "metadata": {
        "id": "IIfk4Zj2L62u"
      }
    },
    {
      "cell_type": "markdown",
      "source": [
        "A partir deste ponto, realizarei o treinamento e teste do algoritmo Random Forest com a base de dados do censo. No entanto, como seguirei o mesmo processo que foi implementado no treinamento da Base de Crédito, não irei detalhar cada etapa novamente. Ao invés disso, vou fornecer apenas o relatório final com os resultados obtido."
      ],
      "metadata": {
        "id": "f_AoNIE7Zegw"
      }
    },
    {
      "cell_type": "code",
      "source": [
        "# Carregando os dados na suas respectivas variáveis.\n",
        "with open('census.pkl', 'rb') as f:\n",
        "  X_census_treinamento, y_census_treinamento, X_census_teste, y_census_teste  = pickle.load(f)"
      ],
      "metadata": {
        "id": "K9i5N5tZL4Lb"
      },
      "execution_count": 41,
      "outputs": []
    },
    {
      "cell_type": "code",
      "source": [
        "random_forest_census = RandomForestClassifier(n_estimators=100, criterion='entropy', random_state = 0)\n",
        "random_forest_census.fit(X_census_treinamento, y_census_treinamento)"
      ],
      "metadata": {
        "colab": {
          "base_uri": "https://localhost:8080/",
          "height": 74
        },
        "id": "297XJFcKL89r",
        "outputId": "5354331b-1878-4565-ddbc-0e34a68fc838"
      },
      "execution_count": 42,
      "outputs": [
        {
          "output_type": "execute_result",
          "data": {
            "text/plain": [
              "RandomForestClassifier(criterion='entropy', random_state=0)"
            ],
            "text/html": [
              "<style>#sk-container-id-7 {color: black;background-color: white;}#sk-container-id-7 pre{padding: 0;}#sk-container-id-7 div.sk-toggleable {background-color: white;}#sk-container-id-7 label.sk-toggleable__label {cursor: pointer;display: block;width: 100%;margin-bottom: 0;padding: 0.3em;box-sizing: border-box;text-align: center;}#sk-container-id-7 label.sk-toggleable__label-arrow:before {content: \"▸\";float: left;margin-right: 0.25em;color: #696969;}#sk-container-id-7 label.sk-toggleable__label-arrow:hover:before {color: black;}#sk-container-id-7 div.sk-estimator:hover label.sk-toggleable__label-arrow:before {color: black;}#sk-container-id-7 div.sk-toggleable__content {max-height: 0;max-width: 0;overflow: hidden;text-align: left;background-color: #f0f8ff;}#sk-container-id-7 div.sk-toggleable__content pre {margin: 0.2em;color: black;border-radius: 0.25em;background-color: #f0f8ff;}#sk-container-id-7 input.sk-toggleable__control:checked~div.sk-toggleable__content {max-height: 200px;max-width: 100%;overflow: auto;}#sk-container-id-7 input.sk-toggleable__control:checked~label.sk-toggleable__label-arrow:before {content: \"▾\";}#sk-container-id-7 div.sk-estimator input.sk-toggleable__control:checked~label.sk-toggleable__label {background-color: #d4ebff;}#sk-container-id-7 div.sk-label input.sk-toggleable__control:checked~label.sk-toggleable__label {background-color: #d4ebff;}#sk-container-id-7 input.sk-hidden--visually {border: 0;clip: rect(1px 1px 1px 1px);clip: rect(1px, 1px, 1px, 1px);height: 1px;margin: -1px;overflow: hidden;padding: 0;position: absolute;width: 1px;}#sk-container-id-7 div.sk-estimator {font-family: monospace;background-color: #f0f8ff;border: 1px dotted black;border-radius: 0.25em;box-sizing: border-box;margin-bottom: 0.5em;}#sk-container-id-7 div.sk-estimator:hover {background-color: #d4ebff;}#sk-container-id-7 div.sk-parallel-item::after {content: \"\";width: 100%;border-bottom: 1px solid gray;flex-grow: 1;}#sk-container-id-7 div.sk-label:hover label.sk-toggleable__label {background-color: #d4ebff;}#sk-container-id-7 div.sk-serial::before {content: \"\";position: absolute;border-left: 1px solid gray;box-sizing: border-box;top: 0;bottom: 0;left: 50%;z-index: 0;}#sk-container-id-7 div.sk-serial {display: flex;flex-direction: column;align-items: center;background-color: white;padding-right: 0.2em;padding-left: 0.2em;position: relative;}#sk-container-id-7 div.sk-item {position: relative;z-index: 1;}#sk-container-id-7 div.sk-parallel {display: flex;align-items: stretch;justify-content: center;background-color: white;position: relative;}#sk-container-id-7 div.sk-item::before, #sk-container-id-7 div.sk-parallel-item::before {content: \"\";position: absolute;border-left: 1px solid gray;box-sizing: border-box;top: 0;bottom: 0;left: 50%;z-index: -1;}#sk-container-id-7 div.sk-parallel-item {display: flex;flex-direction: column;z-index: 1;position: relative;background-color: white;}#sk-container-id-7 div.sk-parallel-item:first-child::after {align-self: flex-end;width: 50%;}#sk-container-id-7 div.sk-parallel-item:last-child::after {align-self: flex-start;width: 50%;}#sk-container-id-7 div.sk-parallel-item:only-child::after {width: 0;}#sk-container-id-7 div.sk-dashed-wrapped {border: 1px dashed gray;margin: 0 0.4em 0.5em 0.4em;box-sizing: border-box;padding-bottom: 0.4em;background-color: white;}#sk-container-id-7 div.sk-label label {font-family: monospace;font-weight: bold;display: inline-block;line-height: 1.2em;}#sk-container-id-7 div.sk-label-container {text-align: center;}#sk-container-id-7 div.sk-container {/* jupyter's `normalize.less` sets `[hidden] { display: none; }` but bootstrap.min.css set `[hidden] { display: none !important; }` so we also need the `!important` here to be able to override the default hidden behavior on the sphinx rendered scikit-learn.org. See: https://github.com/scikit-learn/scikit-learn/issues/21755 */display: inline-block !important;position: relative;}#sk-container-id-7 div.sk-text-repr-fallback {display: none;}</style><div id=\"sk-container-id-7\" class=\"sk-top-container\"><div class=\"sk-text-repr-fallback\"><pre>RandomForestClassifier(criterion=&#x27;entropy&#x27;, random_state=0)</pre><b>In a Jupyter environment, please rerun this cell to show the HTML representation or trust the notebook. <br />On GitHub, the HTML representation is unable to render, please try loading this page with nbviewer.org.</b></div><div class=\"sk-container\" hidden><div class=\"sk-item\"><div class=\"sk-estimator sk-toggleable\"><input class=\"sk-toggleable__control sk-hidden--visually\" id=\"sk-estimator-id-7\" type=\"checkbox\" checked><label for=\"sk-estimator-id-7\" class=\"sk-toggleable__label sk-toggleable__label-arrow\">RandomForestClassifier</label><div class=\"sk-toggleable__content\"><pre>RandomForestClassifier(criterion=&#x27;entropy&#x27;, random_state=0)</pre></div></div></div></div></div>"
            ]
          },
          "metadata": {},
          "execution_count": 42
        }
      ]
    },
    {
      "cell_type": "code",
      "source": [
        "previsoes_rf_census = random_forest_census.predict(X_census_teste)\n",
        "previsoes_rf_census"
      ],
      "metadata": {
        "colab": {
          "base_uri": "https://localhost:8080/"
        },
        "id": "0QT7PtlhL_MX",
        "outputId": "544dc4fa-2c51-46aa-9119-476865e73209"
      },
      "execution_count": 43,
      "outputs": [
        {
          "output_type": "execute_result",
          "data": {
            "text/plain": [
              "array([' <=50K', ' <=50K', ' <=50K', ..., ' <=50K', ' <=50K', ' >50K'],\n",
              "      dtype=object)"
            ]
          },
          "metadata": {},
          "execution_count": 43
        }
      ]
    },
    {
      "cell_type": "code",
      "source": [
        "y_census_teste"
      ],
      "metadata": {
        "colab": {
          "base_uri": "https://localhost:8080/"
        },
        "id": "XrZR9-cIMBpS",
        "outputId": "b522243b-9c5a-4fbd-a9c5-cebc88bcae82"
      },
      "execution_count": 44,
      "outputs": [
        {
          "output_type": "execute_result",
          "data": {
            "text/plain": [
              "array([' <=50K', ' <=50K', ' <=50K', ..., ' <=50K', ' <=50K', ' <=50K'],\n",
              "      dtype=object)"
            ]
          },
          "metadata": {},
          "execution_count": 44
        }
      ]
    },
    {
      "cell_type": "code",
      "source": [
        "accuracy_score(y_census_teste, previsoes_rf_census)"
      ],
      "metadata": {
        "colab": {
          "base_uri": "https://localhost:8080/"
        },
        "id": "UNCXtsSbMG4v",
        "outputId": "912b1709-7b41-47e5-e78c-618576362598"
      },
      "execution_count": 45,
      "outputs": [
        {
          "output_type": "execute_result",
          "data": {
            "text/plain": [
              "0.8507676560900717"
            ]
          },
          "metadata": {},
          "execution_count": 45
        }
      ]
    },
    {
      "cell_type": "code",
      "source": [
        "cm = ConfusionMatrix(random_forest_census)\n",
        "cm.fit(X_census_treinamento, y_census_treinamento)\n",
        "cm.score(X_census_teste, y_census_teste)\n",
        "cm.show();"
      ],
      "metadata": {
        "colab": {
          "base_uri": "https://localhost:8080/",
          "height": 551
        },
        "id": "NCE75LwNMJPe",
        "outputId": "1bedcb53-1a9d-40ad-8b64-ff4e3005276a"
      },
      "execution_count": 46,
      "outputs": [
        {
          "output_type": "display_data",
          "data": {
            "text/plain": [
              "<Figure size 800x550 with 1 Axes>"
            ],
            "image/png": "[encoded data removed]"
          },
          "metadata": {}
        }
      ]
    },
    {
      "cell_type": "code",
      "source": [
        "print(classification_report(y_census_teste, previsoes_rf_census))"
      ],
      "metadata": {
        "colab": {
          "base_uri": "https://localhost:8080/"
        },
        "id": "QiZQfsJ0MKTk",
        "outputId": "d35cf12e-34a0-4295-9adf-38d6138d1521"
      },
      "execution_count": 47,
      "outputs": [
        {
          "output_type": "stream",
          "name": "stdout",
          "text": [
            "              precision    recall  f1-score   support\n",
            "\n",
            "       <=50K       0.88      0.93      0.90      3693\n",
            "        >50K       0.73      0.62      0.67      1192\n",
            "\n",
            "    accuracy                           0.85      4885\n",
            "   macro avg       0.81      0.77      0.79      4885\n",
            "weighted avg       0.85      0.85      0.85      4885\n",
            "\n"
          ]
        }
      ]
    },
    {
      "cell_type": "markdown",
      "source": [
        "## **Relatório Final**\n",
        "\n",
        "Com base nas métricas fornecidas no relatório de classificação, irei classificar o desempenho do algoritmo Random Forest da seguinte maneira:\n",
        "\n",
        "**Classe \"<=50K\":**\n",
        "\n",
        "**Precisão:** 0.88 - O algoritmo tem uma boa precisão na classificação dos exemplos da classe \"<=50K\".\n",
        "\n",
        "**Recall:** 0.93 - O algoritmo tem uma alta capacidade de identificar corretamente os exemplos da classe \"<=50K\".\n",
        "\n",
        "**F1-Score:** 0.90 - O algoritmo tem um bom equilíbrio entre precisão e recall para a classe \"<=50K\".\n",
        "\n",
        "**Suporte:** 3693 - Há um número considerável de exemplos da classe \"<=50K\" nos dados de teste.\n",
        "\n",
        "**Classe \">50K\":**\n",
        "\n",
        "**Precisão:** 0.73 - O algoritmo tem uma precisão razoável na classificação dos exemplos da classe \">50K\".\n",
        "\n",
        "**Recall:** 0.62 - O algoritmo tem uma capacidade moderada de identificar corretamente os exemplos da classe \">50K\".\n",
        "\n",
        "**F1-Score:** 0.67 - O algoritmo tem um equilíbrio moderado entre precisão e recall para a classe \">50K\".\n",
        "\n",
        "**Suporte:** 1192 - Há um número menor de exemplos da classe \">50K\" nos dados de teste.\n",
        "\n",
        "**Acurácia do algoritmo:** 0.85 - O algoritmo tem uma taxa de acerto geral de 85%, considerando todas as classes. Isso indica que ele classificou corretamente a maioria dos exemplos de teste.\n",
        "\n",
        "O desempenho do algoritmo Random Forest é razoável, apresentando boas medidas de precisão e recall para a classe \"<=50K\" e resultados um pouco inferiores para a classe \">50K\". O F1-Score indica que o equilíbrio entre precisão e recall é moderado para a classe \">50K\", enquanto é bom para a classe \"<=50K\". A acurácia geral de 85% também é aceitável, demonstrando uma capacidade decente do modelo em classificar os dados de teste.\n",
        "\n",
        "No entanto, é importante observar que a classe \">50K\" tem um recall um pouco mais baixo, o que significa que o modelo pode estar tendendo a subestimar os exemplos dessa classe. Nesse caso, pode ser necessário ajustar os parâmetros do modelo ou considerar outras estratégias para melhorar o desempenho para essa classe em particular.\n",
        "\n",
        "Em resumo, o algoritmo Random Forest mostra um desempenho razoável com base nessas métricas de avaliação, mas há espaço para melhorias, especialmente na classe \">50K\". É recomendado explorar opções adicionais para otimizar o modelo e ajustá-lo de acordo com as necessidades específicas do problema.\n",
        "\n",
        "\n",
        "\n",
        "\n"
      ],
      "metadata": {
        "id": "rS4lV7DMaS0h"
      }
    },
    {
      "cell_type": "markdown",
      "source": [
        "# **Considerações Finais**\n",
        "\n",
        "Durante este estudo de caso, tive a oportunidade de aprofundar meus conhecimentos sobre o algoritmo de Random Forest, com o auxílio do professor Jones Granatyr em seu curso de Machine Learning. O Random Forest, apesar de sua simplicidade, revelou-se uma ferramenta extremamente útil na inferência de classificação probabilística.\n",
        "\n",
        "Agradeço ao professor Jones Granatyr pelo conhecimento compartilhado e pela orientação durante o curso. Essa experiência contribuiu significativamente para minha compreensão de algoritmos de Machine Learning e sua aplicação prática.\n",
        "\n",
        "Atenciosamente,\n",
        "\n",
        "Lucas Dias Noronha."
      ],
      "metadata": {
        "id": "A5Z5m_4ybg-G"
      }
    }
  ]
}