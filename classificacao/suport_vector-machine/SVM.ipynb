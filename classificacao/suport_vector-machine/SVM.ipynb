{
  "nbformat": 4,
  "nbformat_minor": 0,
  "metadata": {
    "colab": {
      "provenance": []
    },
    "kernelspec": {
      "name": "python3",
      "display_name": "Python 3"
    },
    "language_info": {
      "name": "python"
    }
  },
  "cells": [
    {
      "cell_type": "markdown",
      "source": [
        "# **Curso de Machine Learning - IA Expert Academy**\n",
        "\n",
        "---\n",
        "\n",
        "**Aluno:** Lucas Dias Noronha\n"
      ],
      "metadata": {
        "id": "xkUHmJ6AV2bJ"
      }
    },
    {
      "cell_type": "markdown",
      "source": [
        "# **SVM (Support Vector Machines)**\n",
        "\n",
        "SVM (Support Vector Machines) é um algoritmo de aprendizado de máquina usado para problemas de classificação e regressão. É conhecido por sua capacidade de lidar com dados de alta dimensionalidade e separar classes complexas.\n",
        "\n",
        "O SVM funciona construindo um hiperplano ótimo que divide os dados de treinamento em duas classes. Um hiperplano é uma generalização de um plano para espaços de dimensões superiores. O objetivo do SVM é encontrar o hiperplano que maximiza a margem entre as classes, ou seja, a distância entre as instâncias de treinamento mais próximas de cada classe.\n",
        "\n",
        "Além disso, o SVM permite a utilização de truques matemáticos chamados de \"kernels\". Os kernels permitem mapear os dados de entrada para espaços de alta dimensionalidade, onde pode ser mais fácil separar as classes. Alguns exemplos comuns de kernels são o kernel linear, o kernel polinomial e o kernel de função de base radial (RBF).\n",
        "\n",
        "Para problemas de classificação com mais de duas classes, o SVM pode ser estendido para a técnica \"One-vs-All\" (um contra todos) ou \"One-vs-One\" (um contra um), onde várias SVMs são treinadas para realizar classificações binárias entre pares de classes.\n",
        "\n",
        "No caso da regressão, o SVM pode ser usado para estimar valores numéricos em vez de realizar classificações. Nesse cenário, o SVM busca ajustar uma função que minimize o erro entre os valores previstos e os valores reais.\n",
        "\n",
        "O SVM tem algumas vantagens, como a capacidade de lidar com problemas de classificação complexos, a flexibilidade para trabalhar com diferentes tipos de kernels e a capacidade de lidar com dados de alta dimensionalidade. No entanto, a escolha correta do kernel e a calibração adequada dos parâmetros são fundamentais para obter um bom desempenho do SVM. Além disso, o SVM pode ser computacionalmente intensivo, especialmente para grandes conjuntos de dados."
      ],
      "metadata": {
        "id": "r4WmYoP0QGta"
      }
    },
    {
      "cell_type": "markdown",
      "source": [
        "# **SVM Aplicado a Base de Crédito**\n",
        "\n",
        "\n",
        "\n",
        "> Atenção: Todo os dados aqui utilizados, já foram todos pré-processados e estão pronto para uso.\n",
        "\n"
      ],
      "metadata": {
        "id": "jRnB5XLRQ8sP"
      }
    },
    {
      "cell_type": "code",
      "source": [
        "from sklearn.svm import SVC\n",
        "from yellowbrick.classifier import ConfusionMatrix\n",
        "from sklearn.metrics import accuracy_score, classification_report\n",
        "\n",
        "import pickle"
      ],
      "metadata": {
        "id": "3P5WpWYVP8Yw"
      },
      "execution_count": 1,
      "outputs": []
    },
    {
      "cell_type": "code",
      "execution_count": 2,
      "metadata": {
        "id": "Sp8HUfP9t8TG"
      },
      "outputs": [],
      "source": [
        "# Carregando o arquivo pkl que contém os dados de treinamento e de teste.\n",
        "with open('credit.pkl', 'rb') as f:\n",
        "  X_credit_treinamento, y_credit_treinamento, X_credit_teste, y_credit_teste = pickle.load(f)"
      ]
    },
    {
      "cell_type": "code",
      "execution_count": 3,
      "metadata": {
        "id": "HMcADIZNamRz",
        "colab": {
          "base_uri": "https://localhost:8080/"
        },
        "outputId": "5f1abfa2-458e-4ac0-fa44-287e3e1550d8"
      },
      "outputs": [
        {
          "output_type": "execute_result",
          "data": {
            "text/plain": [
              "((1500, 3), (1500,))"
            ]
          },
          "metadata": {},
          "execution_count": 3
        }
      ],
      "source": [
        "# 1500 amostras de treinamento com as variáveis previsoras (X).\n",
        "# 1500 amostras de teste com as variáveis de classificação (y).\n",
        "X_credit_treinamento.shape, y_credit_treinamento.shape"
      ]
    },
    {
      "cell_type": "code",
      "source": [
        "# 500 amostras de teste com as variáveis previsoras (X).\n",
        "# 500 amostras de teste com as variáveis de classificação (y).\n",
        "X_credit_teste.shape, y_credit_teste.shape"
      ],
      "metadata": {
        "colab": {
          "base_uri": "https://localhost:8080/"
        },
        "id": "fqILIHRTQcm-",
        "outputId": "ecb11436-ca72-468b-df11-83fd8c74b254"
      },
      "execution_count": 4,
      "outputs": [
        {
          "output_type": "execute_result",
          "data": {
            "text/plain": [
              "((500, 3), (500,))"
            ]
          },
          "metadata": {},
          "execution_count": 4
        }
      ]
    },
    {
      "cell_type": "markdown",
      "source": [
        "Criarei um objeto SVC (Support Vector Classifier) utilizando o kernel RBF (Radial Basis Function) para o problema de classificação de crédito. O código irá treinar o modelo SVC com os dados de treinamento X_credit_treinamento e y_credit_treinamento.\n",
        "\n",
        "Os parâmetros serão:\n",
        "\n",
        "kernel: Neste caso, será utilizado o kernel RBF, que é um kernel comumente usado em problemas de classificação.\n",
        "\n",
        "random_state: O estado aleatório para garantir a reprodutibilidade do treinamento. Neste caso, será definido como 1.\n",
        "\n",
        "C: O parâmetro de regularização, que controla a penalidade por violações das margens de separação. Um valor maior de C indica uma penalidade maior para violações das margens. Neste caso, será definido como 2.0.\n",
        "\n",
        "Após treinar o modelo SVC com os dados de treinamento, poderei usá-lo para fazer previsões nos dados de teste."
      ],
      "metadata": {
        "id": "lOjJGfDKyg0h"
      }
    },
    {
      "cell_type": "code",
      "source": [
        "# Criando um objeto SVC (Support Vector Classifier) utilizando o kernel RBF (Radial Basis Function).\n",
        "svm_credit = SVC(kernel='rbf', random_state=1, C = 2.0)"
      ],
      "metadata": {
        "id": "ucRk-m1IQgAW"
      },
      "execution_count": 5,
      "outputs": []
    },
    {
      "cell_type": "markdown",
      "source": [
        "Executarei o treinamento da svm_credit utilizando os dados de treinamento X_credit_treinamento e y_credit_treinamento.\n",
        "\n",
        "Aplicarei a função fit que treinará o modelo."
      ],
      "metadata": {
        "id": "NDURhMhT0fiP"
      }
    },
    {
      "cell_type": "code",
      "source": [
        "# Executando o treinamento da svm_credit com os dados de treinamento.\n",
        "svm_credit.fit(X_credit_treinamento, y_credit_treinamento)"
      ],
      "metadata": {
        "colab": {
          "base_uri": "https://localhost:8080/",
          "height": 74
        },
        "id": "TmBHq3rTzhGn",
        "outputId": "5a3306fe-76bf-4e7e-a323-cd24706851e7"
      },
      "execution_count": 6,
      "outputs": [
        {
          "output_type": "execute_result",
          "data": {
            "text/plain": [
              "SVC(C=2.0, random_state=1)"
            ],
            "text/html": [
              "<style>#sk-container-id-1 {color: black;background-color: white;}#sk-container-id-1 pre{padding: 0;}#sk-container-id-1 div.sk-toggleable {background-color: white;}#sk-container-id-1 label.sk-toggleable__label {cursor: pointer;display: block;width: 100%;margin-bottom: 0;padding: 0.3em;box-sizing: border-box;text-align: center;}#sk-container-id-1 label.sk-toggleable__label-arrow:before {content: \"▸\";float: left;margin-right: 0.25em;color: #696969;}#sk-container-id-1 label.sk-toggleable__label-arrow:hover:before {color: black;}#sk-container-id-1 div.sk-estimator:hover label.sk-toggleable__label-arrow:before {color: black;}#sk-container-id-1 div.sk-toggleable__content {max-height: 0;max-width: 0;overflow: hidden;text-align: left;background-color: #f0f8ff;}#sk-container-id-1 div.sk-toggleable__content pre {margin: 0.2em;color: black;border-radius: 0.25em;background-color: #f0f8ff;}#sk-container-id-1 input.sk-toggleable__control:checked~div.sk-toggleable__content {max-height: 200px;max-width: 100%;overflow: auto;}#sk-container-id-1 input.sk-toggleable__control:checked~label.sk-toggleable__label-arrow:before {content: \"▾\";}#sk-container-id-1 div.sk-estimator input.sk-toggleable__control:checked~label.sk-toggleable__label {background-color: #d4ebff;}#sk-container-id-1 div.sk-label input.sk-toggleable__control:checked~label.sk-toggleable__label {background-color: #d4ebff;}#sk-container-id-1 input.sk-hidden--visually {border: 0;clip: rect(1px 1px 1px 1px);clip: rect(1px, 1px, 1px, 1px);height: 1px;margin: -1px;overflow: hidden;padding: 0;position: absolute;width: 1px;}#sk-container-id-1 div.sk-estimator {font-family: monospace;background-color: #f0f8ff;border: 1px dotted black;border-radius: 0.25em;box-sizing: border-box;margin-bottom: 0.5em;}#sk-container-id-1 div.sk-estimator:hover {background-color: #d4ebff;}#sk-container-id-1 div.sk-parallel-item::after {content: \"\";width: 100%;border-bottom: 1px solid gray;flex-grow: 1;}#sk-container-id-1 div.sk-label:hover label.sk-toggleable__label {background-color: #d4ebff;}#sk-container-id-1 div.sk-serial::before {content: \"\";position: absolute;border-left: 1px solid gray;box-sizing: border-box;top: 0;bottom: 0;left: 50%;z-index: 0;}#sk-container-id-1 div.sk-serial {display: flex;flex-direction: column;align-items: center;background-color: white;padding-right: 0.2em;padding-left: 0.2em;position: relative;}#sk-container-id-1 div.sk-item {position: relative;z-index: 1;}#sk-container-id-1 div.sk-parallel {display: flex;align-items: stretch;justify-content: center;background-color: white;position: relative;}#sk-container-id-1 div.sk-item::before, #sk-container-id-1 div.sk-parallel-item::before {content: \"\";position: absolute;border-left: 1px solid gray;box-sizing: border-box;top: 0;bottom: 0;left: 50%;z-index: -1;}#sk-container-id-1 div.sk-parallel-item {display: flex;flex-direction: column;z-index: 1;position: relative;background-color: white;}#sk-container-id-1 div.sk-parallel-item:first-child::after {align-self: flex-end;width: 50%;}#sk-container-id-1 div.sk-parallel-item:last-child::after {align-self: flex-start;width: 50%;}#sk-container-id-1 div.sk-parallel-item:only-child::after {width: 0;}#sk-container-id-1 div.sk-dashed-wrapped {border: 1px dashed gray;margin: 0 0.4em 0.5em 0.4em;box-sizing: border-box;padding-bottom: 0.4em;background-color: white;}#sk-container-id-1 div.sk-label label {font-family: monospace;font-weight: bold;display: inline-block;line-height: 1.2em;}#sk-container-id-1 div.sk-label-container {text-align: center;}#sk-container-id-1 div.sk-container {/* jupyter's `normalize.less` sets `[hidden] { display: none; }` but bootstrap.min.css set `[hidden] { display: none !important; }` so we also need the `!important` here to be able to override the default hidden behavior on the sphinx rendered scikit-learn.org. See: https://github.com/scikit-learn/scikit-learn/issues/21755 */display: inline-block !important;position: relative;}#sk-container-id-1 div.sk-text-repr-fallback {display: none;}</style><div id=\"sk-container-id-1\" class=\"sk-top-container\"><div class=\"sk-text-repr-fallback\"><pre>SVC(C=2.0, random_state=1)</pre><b>In a Jupyter environment, please rerun this cell to show the HTML representation or trust the notebook. <br />On GitHub, the HTML representation is unable to render, please try loading this page with nbviewer.org.</b></div><div class=\"sk-container\" hidden><div class=\"sk-item\"><div class=\"sk-estimator sk-toggleable\"><input class=\"sk-toggleable__control sk-hidden--visually\" id=\"sk-estimator-id-1\" type=\"checkbox\" checked><label for=\"sk-estimator-id-1\" class=\"sk-toggleable__label sk-toggleable__label-arrow\">SVC</label><div class=\"sk-toggleable__content\"><pre>SVC(C=2.0, random_state=1)</pre></div></div></div></div></div>"
            ]
          },
          "metadata": {},
          "execution_count": 6
        }
      ]
    },
    {
      "cell_type": "markdown",
      "source": [
        "As seguintes linhas de código realizarão a previsão com base nos dados de teste X_credit_teste usando a rede_neural_credit.\n",
        "\n",
        "A função predict será usada para fazer previsões com o modelo treinado. Ela receberá os dados de entrada X_credit_teste e retornará as previsões correspondentes.\n",
        "\n",
        "Após a execução do código, a variável previsoes conterá as previsões feitas pela svm_credit para os dados de teste X_credit_teste."
      ],
      "metadata": {
        "id": "ftzihOTj1FKz"
      }
    },
    {
      "cell_type": "code",
      "source": [
        "# Fazendo as previsões\n",
        "previsoes = svm_credit.predict(X_credit_teste)"
      ],
      "metadata": {
        "id": "6HQdi-j9QkYQ"
      },
      "execution_count": 9,
      "outputs": []
    },
    {
      "cell_type": "markdown",
      "source": [
        "Ao retornar os valores das previsões inferidas pela svm_credit, irei retorna os valores da variável y_credit_teste para fins de comparações."
      ],
      "metadata": {
        "id": "_tH60eXK1snZ"
      }
    },
    {
      "cell_type": "code",
      "source": [
        "previsoes # Retornando as previsões."
      ],
      "metadata": {
        "colab": {
          "base_uri": "https://localhost:8080/"
        },
        "id": "EgGDpYON04hv",
        "outputId": "f676f959-c394-483d-a590-9abaeec3d6a3"
      },
      "execution_count": 10,
      "outputs": [
        {
          "output_type": "execute_result",
          "data": {
            "text/plain": [
              "array([1, 0, 0, 0, 0, 0, 0, 0, 0, 0, 0, 0, 0, 0, 0, 0, 1, 0, 0, 1, 0, 0,\n",
              "       0, 0, 0, 0, 0, 0, 0, 0, 0, 0, 0, 0, 0, 1, 1, 0, 0, 0, 0, 0, 0, 0,\n",
              "       0, 1, 1, 0, 1, 0, 0, 0, 0, 0, 0, 0, 0, 0, 0, 1, 0, 0, 0, 1, 0, 0,\n",
              "       0, 0, 0, 1, 0, 0, 1, 0, 0, 0, 0, 0, 1, 0, 0, 0, 0, 0, 0, 0, 1, 0,\n",
              "       0, 0, 0, 0, 0, 0, 0, 0, 0, 0, 0, 0, 0, 0, 0, 1, 0, 0, 0, 0, 0, 1,\n",
              "       0, 0, 1, 0, 0, 0, 0, 0, 0, 0, 0, 0, 0, 0, 0, 0, 0, 0, 0, 0, 0, 1,\n",
              "       0, 0, 0, 0, 0, 0, 0, 0, 0, 0, 0, 0, 1, 0, 0, 0, 0, 0, 0, 0, 1, 0,\n",
              "       0, 0, 0, 0, 0, 0, 0, 0, 0, 0, 0, 1, 0, 0, 0, 1, 0, 0, 0, 0, 0, 0,\n",
              "       0, 1, 0, 0, 0, 0, 0, 1, 0, 0, 0, 1, 1, 0, 0, 0, 1, 0, 0, 0, 0, 0,\n",
              "       0, 0, 0, 0, 0, 0, 0, 0, 1, 1, 0, 1, 0, 0, 0, 0, 0, 0, 0, 0, 0, 0,\n",
              "       1, 0, 0, 0, 0, 0, 0, 0, 0, 1, 0, 0, 0, 0, 0, 0, 0, 0, 0, 0, 0, 0,\n",
              "       0, 1, 1, 0, 1, 1, 0, 0, 0, 0, 0, 0, 0, 0, 1, 1, 1, 0, 1, 0, 0, 0,\n",
              "       0, 0, 0, 0, 0, 0, 0, 0, 0, 0, 0, 0, 0, 0, 0, 0, 0, 0, 0, 0, 0, 0,\n",
              "       0, 0, 0, 0, 0, 0, 0, 0, 0, 0, 1, 0, 0, 0, 0, 0, 0, 0, 1, 0, 0, 0,\n",
              "       0, 0, 0, 1, 0, 0, 0, 1, 0, 0, 0, 0, 0, 1, 0, 0, 0, 0, 0, 1, 0, 0,\n",
              "       0, 0, 0, 0, 0, 1, 0, 0, 0, 0, 0, 0, 1, 0, 0, 0, 0, 0, 0, 1, 0, 0,\n",
              "       0, 0, 0, 1, 0, 0, 0, 0, 0, 0, 0, 0, 0, 0, 0, 0, 0, 0, 0, 0, 0, 0,\n",
              "       0, 0, 0, 0, 1, 0, 0, 0, 0, 0, 0, 0, 1, 0, 0, 0, 0, 0, 0, 0, 0, 0,\n",
              "       0, 0, 0, 0, 0, 0, 0, 0, 0, 0, 0, 0, 0, 0, 1, 0, 0, 0, 0, 0, 0, 0,\n",
              "       0, 0, 0, 0, 0, 0, 0, 0, 0, 0, 0, 0, 0, 1, 0, 0, 0, 0, 0, 0, 0, 0,\n",
              "       0, 1, 0, 0, 1, 0, 0, 0, 0, 0, 0, 0, 0, 0, 0, 0, 0, 0, 0, 0, 0, 0,\n",
              "       0, 0, 1, 0, 0, 0, 0, 0, 0, 0, 0, 0, 0, 0, 0, 1, 0, 0, 0, 0, 0, 0,\n",
              "       0, 0, 1, 0, 0, 0, 1, 0, 0, 0, 0, 0, 0, 0, 1, 1])"
            ]
          },
          "metadata": {},
          "execution_count": 10
        }
      ]
    },
    {
      "cell_type": "code",
      "source": [
        "y_credit_teste # # Retornando os dados corretos."
      ],
      "metadata": {
        "colab": {
          "base_uri": "https://localhost:8080/"
        },
        "id": "06BJrmUnQoko",
        "outputId": "ad5d97e3-1792-48e5-f3b4-b13d0098c47c"
      },
      "execution_count": 11,
      "outputs": [
        {
          "output_type": "execute_result",
          "data": {
            "text/plain": [
              "array([1, 0, 0, 0, 0, 0, 0, 0, 0, 0, 0, 0, 0, 0, 0, 0, 1, 0, 0, 1, 0, 0,\n",
              "       0, 0, 0, 0, 0, 0, 0, 0, 0, 0, 0, 0, 0, 1, 1, 0, 0, 0, 0, 0, 0, 0,\n",
              "       0, 1, 1, 0, 1, 0, 0, 0, 0, 0, 0, 0, 0, 0, 0, 1, 0, 0, 0, 1, 0, 0,\n",
              "       0, 0, 0, 1, 0, 0, 1, 0, 0, 1, 0, 0, 1, 0, 0, 0, 0, 0, 0, 0, 1, 0,\n",
              "       0, 0, 0, 0, 0, 0, 0, 0, 0, 0, 0, 0, 0, 0, 0, 1, 0, 0, 0, 0, 0, 1,\n",
              "       0, 0, 1, 0, 0, 0, 0, 0, 0, 0, 0, 0, 0, 0, 0, 0, 0, 0, 0, 0, 0, 1,\n",
              "       0, 0, 0, 0, 0, 0, 0, 0, 0, 0, 0, 0, 1, 0, 0, 0, 0, 0, 0, 0, 1, 0,\n",
              "       0, 0, 0, 0, 0, 0, 0, 0, 0, 0, 0, 1, 0, 0, 0, 1, 0, 0, 0, 0, 0, 0,\n",
              "       0, 1, 0, 0, 0, 0, 0, 1, 0, 0, 0, 1, 1, 0, 0, 0, 1, 0, 0, 0, 0, 0,\n",
              "       0, 0, 0, 0, 0, 0, 0, 0, 1, 1, 0, 1, 0, 0, 0, 0, 0, 0, 0, 0, 0, 0,\n",
              "       1, 0, 0, 0, 0, 0, 0, 0, 0, 1, 0, 0, 0, 0, 0, 0, 0, 0, 0, 0, 0, 0,\n",
              "       0, 1, 1, 0, 1, 1, 0, 0, 0, 0, 0, 0, 0, 0, 0, 0, 1, 0, 1, 0, 0, 0,\n",
              "       0, 0, 0, 0, 0, 0, 0, 0, 0, 0, 0, 0, 0, 0, 0, 0, 0, 0, 0, 0, 0, 0,\n",
              "       0, 0, 0, 0, 0, 0, 0, 0, 0, 0, 1, 0, 0, 0, 0, 0, 0, 0, 1, 0, 0, 0,\n",
              "       0, 0, 1, 1, 0, 0, 0, 1, 0, 0, 0, 0, 0, 1, 0, 0, 0, 0, 0, 1, 0, 0,\n",
              "       0, 0, 0, 0, 0, 1, 0, 0, 0, 0, 0, 0, 1, 0, 0, 0, 0, 0, 0, 1, 0, 0,\n",
              "       0, 0, 0, 1, 0, 0, 0, 0, 0, 0, 0, 0, 0, 0, 0, 0, 0, 0, 0, 0, 0, 0,\n",
              "       0, 0, 0, 0, 1, 0, 0, 0, 0, 0, 0, 0, 1, 0, 0, 0, 0, 0, 0, 0, 0, 0,\n",
              "       0, 0, 0, 0, 1, 0, 0, 0, 0, 0, 0, 0, 0, 0, 1, 0, 0, 0, 0, 0, 0, 0,\n",
              "       0, 0, 0, 0, 0, 0, 0, 0, 0, 0, 0, 0, 0, 1, 0, 0, 0, 0, 0, 0, 0, 0,\n",
              "       0, 1, 0, 0, 1, 0, 0, 0, 0, 0, 0, 0, 1, 0, 0, 0, 0, 0, 0, 0, 0, 0,\n",
              "       0, 0, 1, 0, 0, 0, 0, 0, 0, 0, 0, 0, 0, 0, 0, 1, 0, 0, 0, 0, 0, 0,\n",
              "       0, 0, 1, 0, 0, 0, 1, 0, 0, 0, 0, 0, 0, 0, 1, 1])"
            ]
          },
          "metadata": {},
          "execution_count": 11
        }
      ]
    },
    {
      "cell_type": "markdown",
      "source": [
        "A seguir irei calcular a pontuação de acurácia entre as saídas reais y_credit_teste e as previsões previsoes feitas pela svm_credit, utilizando a função accuracy_score. A função retornará o valor da accurácia.\n",
        "\n",
        "A acurácia nada mais é que a proporção de amostras classificadas corretamente em relação ao total de amostras."
      ],
      "metadata": {
        "id": "p1i5epLi2Cjh"
      }
    },
    {
      "cell_type": "code",
      "source": [
        "accuracy_score(y_credit_teste, previsoes) # Calculando a acurácia."
      ],
      "metadata": {
        "colab": {
          "base_uri": "https://localhost:8080/"
        },
        "id": "Wd1ozE5tQqIB",
        "outputId": "b56f0410-305d-4809-e870-8d3b842fe27a"
      },
      "execution_count": 12,
      "outputs": [
        {
          "output_type": "execute_result",
          "data": {
            "text/plain": [
              "0.988"
            ]
          },
          "metadata": {},
          "execution_count": 12
        }
      ]
    },
    {
      "cell_type": "markdown",
      "source": [
        "Utilizarei a Matrix de Confusão, ela me permitirá visualizar e analisar as previsões feitas pelo modelo em relação aos rótulos reais dos dados.\n",
        "\n",
        ">Lembrando que essa matriz é fornecida pela biblioteca Yellowbrick\n"
      ],
      "metadata": {
        "id": "AR97lOa82R8G"
      }
    },
    {
      "cell_type": "code",
      "source": [
        "# Criando a matriz de confusão.\n",
        "cm = ConfusionMatrix(svm_credit)\n",
        "cm.fit(X_credit_treinamento, y_credit_treinamento)\n",
        "cm.score(X_credit_teste, y_credit_teste)\n",
        "cm.show();"
      ],
      "metadata": {
        "colab": {
          "base_uri": "https://localhost:8080/",
          "height": 551
        },
        "id": "PoBlwT7RQujm",
        "outputId": "187b1eb4-b9e6-4d5f-f431-596fdc7f547e"
      },
      "execution_count": 13,
      "outputs": [
        {
          "output_type": "display_data",
          "data": {
            "text/plain": [
              "<Figure size 800x550 with 1 Axes>"
            ],
            "image/png": "[encoded data removed]"
          },
          "metadata": {}
        }
      ]
    },
    {
      "cell_type": "markdown",
      "source": [
        "Também utilizarei a função classification_report do scikit-learn que é bastante útil para gerar um relatório detalhado de métricas de avaliação de classificação para cada classe presente nos dados. Ela fornecerá informações como precisão, revocação, pontuação F1 e suporte para cada classe. De tal forma, poderei avaliar o desempenho da rede_neural_credit na classificação do dados."
      ],
      "metadata": {
        "id": "lEhBcYFV2teu"
      }
    },
    {
      "cell_type": "code",
      "source": [
        "print(classification_report(y_credit_teste, previsoes))"
      ],
      "metadata": {
        "colab": {
          "base_uri": "https://localhost:8080/"
        },
        "id": "1zA2AeTrQx4-",
        "outputId": "7076b806-b598-49ba-d710-0b048c2fc362"
      },
      "execution_count": 14,
      "outputs": [
        {
          "output_type": "stream",
          "name": "stdout",
          "text": [
            "              precision    recall  f1-score   support\n",
            "\n",
            "           0       0.99      1.00      0.99       436\n",
            "           1       0.97      0.94      0.95        64\n",
            "\n",
            "    accuracy                           0.99       500\n",
            "   macro avg       0.98      0.97      0.97       500\n",
            "weighted avg       0.99      0.99      0.99       500\n",
            "\n"
          ]
        }
      ]
    },
    {
      "cell_type": "markdown",
      "source": [
        "## **Relatório Final**\n",
        "\n",
        "Com base nas métricas apresentadas no relatório de classificação, o algoritmo de classificação utilizando o SVM (Support Vector Machine) para o problema de classificação de crédito obteve um desempenho satisfatório.\n",
        "\n",
        "Precision (Precisão): Para a classe 0, a precisão é de 0.99, o que indica que 99% dos exemplos previstos como pertencentes à classe 0 são realmente da classe 0. Para a classe 1, a precisão é de 0.97, o que significa que 97% dos exemplos previstos como pertencentes à classe 1 são realmente da classe 1.\n",
        "\n",
        "Recall (Revocação): Para a classe 0, o recall é de 1.00, o que indica que todos os exemplos da classe 0 foram corretamente previstos como pertencentes à classe 0. Para a classe 1, o recall é de 0.94, o que significa que 94% dos exemplos da classe 1 foram corretamente previstos como pertencentes à classe 1.\n",
        "\n",
        "F1-score: Para a classe 0, o F1-score é de 0.99, indicando um bom equilíbrio entre precisão e recall. Para a classe 1, o F1-score é de 0.95, indicando um desempenho um pouco menor em relação à classe 0.\n",
        "\n",
        "Support: O suporte é o número de ocorrências de cada classe no conjunto de teste. Há 436 exemplos da classe 0 e 64 exemplos da classe 1.\n",
        "\n",
        "Acurácia (Accuracy): A acurácia é de 0.99, o que indica que aproximadamente 99% dos exemplos foram corretamente classificados.\n",
        "\n",
        "As métricas macro avg e weighted avg fornecem a média não ponderada e ponderada das métricas para todas as classes, respectivamente. Ambas as médias indicam um desempenho geral muito bom para o modelo.\n",
        "\n",
        "Em resumo, o algoritmo de classificação utilizando o SVM para o problema de classificação de crédito obteve um desempenho excelente. As métricas de precisão, recall e F1-score demonstram resultados muito altos para ambas as classes, com valores próximos de 1.0. A acurácia geral também atingiu 99%. Isso sugere que o modelo SVM é muito eficaz na classificação de crédito com base nos atributos fornecidos."
      ],
      "metadata": {
        "id": "hIkXCzlz3fwv"
      }
    },
    {
      "cell_type": "markdown",
      "source": [
        "# **SVM Aplicado a Base a Censo**\n",
        "\n",
        "A partir deste ponto, realizarei o treinamento e teste do algoritmo com a base de dados do censo. No entanto, como seguirei o mesmo processo que foi implementado no treinamento da Base de Crédito, não irei detalhar cada etapa novamente. Ao invés disso, vou fornecer apenas o relatório final com os resultados obtidos.\n",
        "\n",
        "> Atenção: Todo os dados aqui utilizados, já foram todos pré-processados e estão pronto para uso.\n",
        "\n"
      ],
      "metadata": {
        "id": "JgqYDP4hQ4KX"
      }
    },
    {
      "cell_type": "code",
      "source": [
        "with open('census.pkl', 'rb') as f:\n",
        "  X_census_treinamento, y_census_treinamento, X_census_teste, y_census_teste = pickle.load(f)"
      ],
      "metadata": {
        "id": "DLx6q4blQ1sO"
      },
      "execution_count": null,
      "outputs": []
    },
    {
      "cell_type": "code",
      "source": [
        "X_census_treinamento.shape, y_census_treinamento.shape"
      ],
      "metadata": {
        "colab": {
          "base_uri": "https://localhost:8080/"
        },
        "id": "xE__T5JnTHdQ",
        "outputId": "b2c86eb0-432e-4871-aeb1-f11ab34b5dbc"
      },
      "execution_count": null,
      "outputs": [
        {
          "output_type": "execute_result",
          "data": {
            "text/plain": [
              "((27676, 108), (27676,))"
            ]
          },
          "metadata": {},
          "execution_count": 14
        }
      ]
    },
    {
      "cell_type": "code",
      "source": [
        "X_census_teste.shape, y_census_teste.shape"
      ],
      "metadata": {
        "colab": {
          "base_uri": "https://localhost:8080/"
        },
        "id": "ePOPugr0TP_H",
        "outputId": "3302c178-12d9-424d-e885-cb6a96ba21f5"
      },
      "execution_count": null,
      "outputs": [
        {
          "output_type": "execute_result",
          "data": {
            "text/plain": [
              "((4885, 108), (4885,))"
            ]
          },
          "metadata": {},
          "execution_count": 15
        }
      ]
    },
    {
      "cell_type": "code",
      "source": [
        "svm_census = SVC(kernel='linear', random_state=0, C = 20.0)\n",
        "svm_census.fit(X_census_treinamento, y_census_treinamento)"
      ],
      "metadata": {
        "colab": {
          "base_uri": "https://localhost:8080/",
          "height": 74
        },
        "id": "V2LR4v-VTS5_",
        "outputId": "38420ca2-f3fc-44ad-d382-af0deb3026b5"
      },
      "execution_count": null,
      "outputs": [
        {
          "output_type": "execute_result",
          "data": {
            "text/plain": [
              "SVC(C=20.0, kernel='linear', random_state=0)"
            ],
            "text/html": [
              "<style>#sk-container-id-8 {color: black;background-color: white;}#sk-container-id-8 pre{padding: 0;}#sk-container-id-8 div.sk-toggleable {background-color: white;}#sk-container-id-8 label.sk-toggleable__label {cursor: pointer;display: block;width: 100%;margin-bottom: 0;padding: 0.3em;box-sizing: border-box;text-align: center;}#sk-container-id-8 label.sk-toggleable__label-arrow:before {content: \"▸\";float: left;margin-right: 0.25em;color: #696969;}#sk-container-id-8 label.sk-toggleable__label-arrow:hover:before {color: black;}#sk-container-id-8 div.sk-estimator:hover label.sk-toggleable__label-arrow:before {color: black;}#sk-container-id-8 div.sk-toggleable__content {max-height: 0;max-width: 0;overflow: hidden;text-align: left;background-color: #f0f8ff;}#sk-container-id-8 div.sk-toggleable__content pre {margin: 0.2em;color: black;border-radius: 0.25em;background-color: #f0f8ff;}#sk-container-id-8 input.sk-toggleable__control:checked~div.sk-toggleable__content {max-height: 200px;max-width: 100%;overflow: auto;}#sk-container-id-8 input.sk-toggleable__control:checked~label.sk-toggleable__label-arrow:before {content: \"▾\";}#sk-container-id-8 div.sk-estimator input.sk-toggleable__control:checked~label.sk-toggleable__label {background-color: #d4ebff;}#sk-container-id-8 div.sk-label input.sk-toggleable__control:checked~label.sk-toggleable__label {background-color: #d4ebff;}#sk-container-id-8 input.sk-hidden--visually {border: 0;clip: rect(1px 1px 1px 1px);clip: rect(1px, 1px, 1px, 1px);height: 1px;margin: -1px;overflow: hidden;padding: 0;position: absolute;width: 1px;}#sk-container-id-8 div.sk-estimator {font-family: monospace;background-color: #f0f8ff;border: 1px dotted black;border-radius: 0.25em;box-sizing: border-box;margin-bottom: 0.5em;}#sk-container-id-8 div.sk-estimator:hover {background-color: #d4ebff;}#sk-container-id-8 div.sk-parallel-item::after {content: \"\";width: 100%;border-bottom: 1px solid gray;flex-grow: 1;}#sk-container-id-8 div.sk-label:hover label.sk-toggleable__label {background-color: #d4ebff;}#sk-container-id-8 div.sk-serial::before {content: \"\";position: absolute;border-left: 1px solid gray;box-sizing: border-box;top: 0;bottom: 0;left: 50%;z-index: 0;}#sk-container-id-8 div.sk-serial {display: flex;flex-direction: column;align-items: center;background-color: white;padding-right: 0.2em;padding-left: 0.2em;position: relative;}#sk-container-id-8 div.sk-item {position: relative;z-index: 1;}#sk-container-id-8 div.sk-parallel {display: flex;align-items: stretch;justify-content: center;background-color: white;position: relative;}#sk-container-id-8 div.sk-item::before, #sk-container-id-8 div.sk-parallel-item::before {content: \"\";position: absolute;border-left: 1px solid gray;box-sizing: border-box;top: 0;bottom: 0;left: 50%;z-index: -1;}#sk-container-id-8 div.sk-parallel-item {display: flex;flex-direction: column;z-index: 1;position: relative;background-color: white;}#sk-container-id-8 div.sk-parallel-item:first-child::after {align-self: flex-end;width: 50%;}#sk-container-id-8 div.sk-parallel-item:last-child::after {align-self: flex-start;width: 50%;}#sk-container-id-8 div.sk-parallel-item:only-child::after {width: 0;}#sk-container-id-8 div.sk-dashed-wrapped {border: 1px dashed gray;margin: 0 0.4em 0.5em 0.4em;box-sizing: border-box;padding-bottom: 0.4em;background-color: white;}#sk-container-id-8 div.sk-label label {font-family: monospace;font-weight: bold;display: inline-block;line-height: 1.2em;}#sk-container-id-8 div.sk-label-container {text-align: center;}#sk-container-id-8 div.sk-container {/* jupyter's `normalize.less` sets `[hidden] { display: none; }` but bootstrap.min.css set `[hidden] { display: none !important; }` so we also need the `!important` here to be able to override the default hidden behavior on the sphinx rendered scikit-learn.org. See: https://github.com/scikit-learn/scikit-learn/issues/21755 */display: inline-block !important;position: relative;}#sk-container-id-8 div.sk-text-repr-fallback {display: none;}</style><div id=\"sk-container-id-8\" class=\"sk-top-container\"><div class=\"sk-text-repr-fallback\"><pre>SVC(C=20.0, kernel=&#x27;linear&#x27;, random_state=0)</pre><b>In a Jupyter environment, please rerun this cell to show the HTML representation or trust the notebook. <br />On GitHub, the HTML representation is unable to render, please try loading this page with nbviewer.org.</b></div><div class=\"sk-container\" hidden><div class=\"sk-item\"><div class=\"sk-estimator sk-toggleable\"><input class=\"sk-toggleable__control sk-hidden--visually\" id=\"sk-estimator-id-8\" type=\"checkbox\" checked><label for=\"sk-estimator-id-8\" class=\"sk-toggleable__label sk-toggleable__label-arrow\">SVC</label><div class=\"sk-toggleable__content\"><pre>SVC(C=20.0, kernel=&#x27;linear&#x27;, random_state=0)</pre></div></div></div></div></div>"
            ]
          },
          "metadata": {},
          "execution_count": 44
        }
      ]
    },
    {
      "cell_type": "code",
      "source": [
        "previsoes = svm_census.predict(X_census_teste)\n",
        "previsoes"
      ],
      "metadata": {
        "colab": {
          "base_uri": "https://localhost:8080/"
        },
        "id": "DUzdy_OqTZUg",
        "outputId": "ca2bb1bb-2346-4fd8-ef7b-775490c532e8"
      },
      "execution_count": null,
      "outputs": [
        {
          "output_type": "execute_result",
          "data": {
            "text/plain": [
              "array([' <=50K', ' <=50K', ' <=50K', ..., ' <=50K', ' <=50K', ' >50K'],\n",
              "      dtype=object)"
            ]
          },
          "metadata": {},
          "execution_count": 45
        }
      ]
    },
    {
      "cell_type": "code",
      "source": [
        "y_census_teste"
      ],
      "metadata": {
        "colab": {
          "base_uri": "https://localhost:8080/"
        },
        "id": "fFZD2yCwTbwn",
        "outputId": "07516740-4be4-435a-94bb-ab903c6689b5"
      },
      "execution_count": null,
      "outputs": [
        {
          "output_type": "execute_result",
          "data": {
            "text/plain": [
              "array([' <=50K', ' <=50K', ' <=50K', ..., ' <=50K', ' <=50K', ' <=50K'],\n",
              "      dtype=object)"
            ]
          },
          "metadata": {},
          "execution_count": 46
        }
      ]
    },
    {
      "cell_type": "code",
      "source": [
        "accuracy_score(y_census_teste, previsoes)"
      ],
      "metadata": {
        "colab": {
          "base_uri": "https://localhost:8080/"
        },
        "id": "9W6PWXoGThF4",
        "outputId": "d0f6b789-1908-478f-9a30-2570b4a31e22"
      },
      "execution_count": null,
      "outputs": [
        {
          "output_type": "execute_result",
          "data": {
            "text/plain": [
              "0.8511770726714432"
            ]
          },
          "metadata": {},
          "execution_count": 48
        }
      ]
    },
    {
      "cell_type": "code",
      "source": [
        "cm = ConfusionMatrix(svm_census)\n",
        "cm.fit(X_census_treinamento, y_census_treinamento)\n",
        "cm.score(X_census_teste, y_census_teste)"
      ],
      "metadata": {
        "colab": {
          "base_uri": "https://localhost:8080/",
          "height": 487
        },
        "id": "euBnpYo-TjyG",
        "outputId": "11b520ac-d58e-41bb-94b6-5ca9698a1a76"
      },
      "execution_count": null,
      "outputs": [
        {
          "output_type": "execute_result",
          "data": {
            "text/plain": [
              "0.8511770726714432"
            ]
          },
          "metadata": {},
          "execution_count": 49
        },
        {
          "output_type": "display_data",
          "data": {
            "text/plain": [
              "<Figure size 800x550 with 1 Axes>"
            ],
            "image/png": "[encoded data removed]"
          },
          "metadata": {}
        }
      ]
    },
    {
      "cell_type": "code",
      "source": [
        "print(classification_report(y_census_teste, previsoes))"
      ],
      "metadata": {
        "colab": {
          "base_uri": "https://localhost:8080/"
        },
        "id": "ATlfrjuXTmgg",
        "outputId": "b42744fb-53fd-448e-be36-6b5305acc159"
      },
      "execution_count": null,
      "outputs": [
        {
          "output_type": "stream",
          "name": "stdout",
          "text": [
            "              precision    recall  f1-score   support\n",
            "\n",
            "       <=50K       0.88      0.94      0.90      3693\n",
            "        >50K       0.75      0.59      0.66      1192\n",
            "\n",
            "    accuracy                           0.85      4885\n",
            "   macro avg       0.81      0.76      0.78      4885\n",
            "weighted avg       0.84      0.85      0.84      4885\n",
            "\n"
          ]
        }
      ]
    },
    {
      "cell_type": "markdown",
      "source": [
        "## **Relatório Final**\n",
        "\n",
        "Com base nas métricas apresentadas no relatório de classificação, o algoritmo de classificação utilizando o SVM (Support Vector Machine) para o problema de classificação do conjunto de dados \"Census\" obteve um desempenho razoável.\n",
        "\n",
        "Precision (Precisão): Para a classe <=50K, a precisão é de 0.88, o que indica que 88% dos exemplos previstos como pertencentes à classe <=50K são realmente da classe <=50K. Para a classe >50K, a precisão é de 0.75, o que significa que 75% dos exemplos previstos como pertencentes à classe >50K são realmente da classe >50K.\n",
        "\n",
        "Recall (Revocação): Para a classe <=50K, o recall é de 0.94, o que indica que 94% dos exemplos da classe <=50K foram corretamente previstos como pertencentes à classe <=50K. Para a classe >50K, o recall é de 0.59, o que significa que apenas 59% dos exemplos da classe >50K foram corretamente previstos como pertencentes à classe >50K.\n",
        "\n",
        "F1-score: Para a classe <=50K, o F1-score é de 0.90, indicando um bom equilíbrio entre precisão e recall. Para a classe >50K, o F1-score é de 0.66, indicando um desempenho menor em relação à classe <=50K.\n",
        "\n",
        "Support: O suporte é o número de ocorrências de cada classe no conjunto de teste. Há 3693 exemplos da classe <=50K e 1192 exemplos da classe >50K.\n",
        "\n",
        "Acurácia (Accuracy): A acurácia é de 0.85, o que indica que aproximadamente 85% dos exemplos foram corretamente classificados.\n",
        "\n",
        "As métricas macro avg e weighted avg fornecem a média não ponderada e ponderada das métricas para todas as classes, respectivamente. Ambas as médias indicam um desempenho geral razoável para o modelo.\n",
        "\n",
        "Em resumo, o algoritmo de classificação utilizando o SVM para o problema de classificação do conjunto de dados \"Census\" obteve um desempenho razoável. Embora a precisão para ambas as classes seja relativamente alta, o recall para a classe >50K é baixo, o que indica que o modelo tem dificuldade em identificar corretamente os exemplos dessa classe. O F1-score também mostra uma diferença significativa entre as duas classes. A acurácia geral é de 85%, o que significa que a maioria dos exemplos foi corretamente classificada, mas o desempenho pode ser melhorado para a classe >50K."
      ],
      "metadata": {
        "id": "7ntK6Ph54jPG"
      }
    },
    {
      "cell_type": "markdown",
      "source": [
        "# **Considerações Finais**\n",
        "Durante este estudo de caso, tive a oportunidade de aprofundar meus conhecimentos sobre a implementação de algoritmos Suport Vector Machine, com o auxílio do professor Jones Granatyr em seu curso de Machine Learning. O SVM, revelou-se uma ferramenta extremamente útil na inferência de classificação probabilística.\n",
        "\n",
        "Agradeço ao professor Jones Granatyr pelo conhecimento compartilhado e pela orientação durante o curso. Essa experiência contribuiu significativamente para minha compreensão de algoritmos de Machine Learning e sua aplicação prática."
      ],
      "metadata": {
        "id": "DSiO7GRs46nO"
      }
    }
  ]
}