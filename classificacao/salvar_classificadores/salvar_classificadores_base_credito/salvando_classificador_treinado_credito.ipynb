{
  "nbformat": 4,
  "nbformat_minor": 0,
  "metadata": {
    "colab": {
      "provenance": []
    },
    "kernelspec": {
      "name": "python3",
      "display_name": "Python 3"
    },
    "language_info": {
      "name": "python"
    }
  },
  "cells": [
    {
      "cell_type": "markdown",
      "source": [
        "# **Curso de Machine Learning - IA Expert Academy**\n",
        "\n",
        "\n",
        "---\n",
        "\n",
        "\n",
        "**Aluno:** Lucas Dias Noronha"
      ],
      "metadata": {
        "id": "nHguTLLUISHn"
      }
    },
    {
      "cell_type": "markdown",
      "source": [
        "# **Salvar um classificador já treinado**\n",
        "\n",
        "Com os melhores modelos e parâmetros definidos, agora é o momento de salvar os modelos de classificação para a base de crédito. Esses modelos poderão ser utilizados com dados reais e enviados ao desenvolvedor responsável por criar uma interface gráfica para os usuários.\n",
        "\n",
        "Os modelos selecionados são:\n",
        "\n",
        "SVM (Máquina de Vetores de Suporte)\n",
        "\n",
        "Árvore de Decisão\n",
        "\n",
        "Redes Neurais\n",
        "\n",
        "Cada um desses modelos foi treinado com os dados da base de crédito e ajustado com os melhores parâmetros identificados durante a avaliação. Agora, salvarei esses modelos em arquivos para uso futuro.\n",
        "\n",
        "> Atenção: certifique-se de armazenar os modelos em locais adequados e de fornecer instruções claras ao desenvolvedor sobre como carregar e utilizar esses modelos nas interfaces gráficas ou em outras aplicações. Esses modelos fornecerão a capacidade de realizar classificações precisas e ajudarão a tomar decisões informadas com base nos dados de crédito.\n",
        "\n"
      ],
      "metadata": {
        "id": "1J-0hb72D_OJ"
      }
    },
    {
      "cell_type": "code",
      "source": [
        "from sklearn.neural_network import MLPClassifier\n",
        "from sklearn.tree import DecisionTreeClassifier\n",
        "from sklearn.svm import SVC\n",
        "\n",
        "import pickle\n",
        "import numpy as np"
      ],
      "metadata": {
        "id": "ggqSgqxjIj4B"
      },
      "execution_count": 6,
      "outputs": []
    },
    {
      "cell_type": "markdown",
      "source": [
        "## **Preparandos os Dados**"
      ],
      "metadata": {
        "id": "m_YVt4mNiNaf"
      }
    },
    {
      "cell_type": "code",
      "execution_count": 4,
      "metadata": {
        "id": "PZbgo7olD9Ip"
      },
      "outputs": [],
      "source": [
        "# Carregando os dados de treinamento e teste.\n",
        "with open('credit.pkl', 'rb') as f:\n",
        "  X_credit_treinamento, y_credit_treinamento, X_credit_teste, y_credit_teste = pickle.load(f)"
      ]
    },
    {
      "cell_type": "code",
      "source": [
        "# Juntando todos os dados previsores e classificadores que foram separados anteriormente.\n",
        "X_credit = np.concatenate((X_credit_treinamento, X_credit_teste), axis = 0)\n",
        "y_credit = np.concatenate((y_credit_treinamento, y_credit_teste), axis = 0)"
      ],
      "metadata": {
        "id": "7rp5e2kiEHWu"
      },
      "execution_count": 12,
      "outputs": []
    },
    {
      "cell_type": "code",
      "source": [
        "X_credit.shape, y_credit.shape # Podemos constatar que os dados estão juntos novamente."
      ],
      "metadata": {
        "colab": {
          "base_uri": "https://localhost:8080/"
        },
        "id": "m78nLUbjEJlg",
        "outputId": "e8d5cdc8-8b5b-4ac0-9607-9cc7cd08d88e"
      },
      "execution_count": 8,
      "outputs": [
        {
          "output_type": "execute_result",
          "data": {
            "text/plain": [
              "((2000, 3), (2000,))"
            ]
          },
          "metadata": {},
          "execution_count": 8
        }
      ]
    },
    {
      "cell_type": "markdown",
      "source": [
        "## **Preparando os modelos de Classificador**"
      ],
      "metadata": {
        "id": "Cnha4T7mPUoO"
      }
    },
    {
      "cell_type": "code",
      "source": [
        "# Treinando o modelo de Rede Neural (Multi-Layer Perceptron).\n",
        "classificador_rede_neural = MLPClassifier(activation='relu', batch_size = 56, solver='adam')\n",
        "classificador_rede_neural.fit(X_credit, y_credit)"
      ],
      "metadata": {
        "colab": {
          "base_uri": "https://localhost:8080/",
          "height": 129
        },
        "id": "O6gJoBeAEPJZ",
        "outputId": "9b72b063-b127-44bc-a2a8-8801593d3ee4"
      },
      "execution_count": 15,
      "outputs": [
        {
          "output_type": "stream",
          "name": "stderr",
          "text": [
            "/usr/local/lib/python3.10/dist-packages/sklearn/neural_network/_multilayer_perceptron.py:686: ConvergenceWarning: Stochastic Optimizer: Maximum iterations (200) reached and the optimization hasn't converged yet.\n",
            "  warnings.warn(\n"
          ]
        },
        {
          "output_type": "execute_result",
          "data": {
            "text/plain": [
              "MLPClassifier(batch_size=56)"
            ],
            "text/html": [
              "<style>#sk-container-id-4 {color: black;background-color: white;}#sk-container-id-4 pre{padding: 0;}#sk-container-id-4 div.sk-toggleable {background-color: white;}#sk-container-id-4 label.sk-toggleable__label {cursor: pointer;display: block;width: 100%;margin-bottom: 0;padding: 0.3em;box-sizing: border-box;text-align: center;}#sk-container-id-4 label.sk-toggleable__label-arrow:before {content: \"▸\";float: left;margin-right: 0.25em;color: #696969;}#sk-container-id-4 label.sk-toggleable__label-arrow:hover:before {color: black;}#sk-container-id-4 div.sk-estimator:hover label.sk-toggleable__label-arrow:before {color: black;}#sk-container-id-4 div.sk-toggleable__content {max-height: 0;max-width: 0;overflow: hidden;text-align: left;background-color: #f0f8ff;}#sk-container-id-4 div.sk-toggleable__content pre {margin: 0.2em;color: black;border-radius: 0.25em;background-color: #f0f8ff;}#sk-container-id-4 input.sk-toggleable__control:checked~div.sk-toggleable__content {max-height: 200px;max-width: 100%;overflow: auto;}#sk-container-id-4 input.sk-toggleable__control:checked~label.sk-toggleable__label-arrow:before {content: \"▾\";}#sk-container-id-4 div.sk-estimator input.sk-toggleable__control:checked~label.sk-toggleable__label {background-color: #d4ebff;}#sk-container-id-4 div.sk-label input.sk-toggleable__control:checked~label.sk-toggleable__label {background-color: #d4ebff;}#sk-container-id-4 input.sk-hidden--visually {border: 0;clip: rect(1px 1px 1px 1px);clip: rect(1px, 1px, 1px, 1px);height: 1px;margin: -1px;overflow: hidden;padding: 0;position: absolute;width: 1px;}#sk-container-id-4 div.sk-estimator {font-family: monospace;background-color: #f0f8ff;border: 1px dotted black;border-radius: 0.25em;box-sizing: border-box;margin-bottom: 0.5em;}#sk-container-id-4 div.sk-estimator:hover {background-color: #d4ebff;}#sk-container-id-4 div.sk-parallel-item::after {content: \"\";width: 100%;border-bottom: 1px solid gray;flex-grow: 1;}#sk-container-id-4 div.sk-label:hover label.sk-toggleable__label {background-color: #d4ebff;}#sk-container-id-4 div.sk-serial::before {content: \"\";position: absolute;border-left: 1px solid gray;box-sizing: border-box;top: 0;bottom: 0;left: 50%;z-index: 0;}#sk-container-id-4 div.sk-serial {display: flex;flex-direction: column;align-items: center;background-color: white;padding-right: 0.2em;padding-left: 0.2em;position: relative;}#sk-container-id-4 div.sk-item {position: relative;z-index: 1;}#sk-container-id-4 div.sk-parallel {display: flex;align-items: stretch;justify-content: center;background-color: white;position: relative;}#sk-container-id-4 div.sk-item::before, #sk-container-id-4 div.sk-parallel-item::before {content: \"\";position: absolute;border-left: 1px solid gray;box-sizing: border-box;top: 0;bottom: 0;left: 50%;z-index: -1;}#sk-container-id-4 div.sk-parallel-item {display: flex;flex-direction: column;z-index: 1;position: relative;background-color: white;}#sk-container-id-4 div.sk-parallel-item:first-child::after {align-self: flex-end;width: 50%;}#sk-container-id-4 div.sk-parallel-item:last-child::after {align-self: flex-start;width: 50%;}#sk-container-id-4 div.sk-parallel-item:only-child::after {width: 0;}#sk-container-id-4 div.sk-dashed-wrapped {border: 1px dashed gray;margin: 0 0.4em 0.5em 0.4em;box-sizing: border-box;padding-bottom: 0.4em;background-color: white;}#sk-container-id-4 div.sk-label label {font-family: monospace;font-weight: bold;display: inline-block;line-height: 1.2em;}#sk-container-id-4 div.sk-label-container {text-align: center;}#sk-container-id-4 div.sk-container {/* jupyter's `normalize.less` sets `[hidden] { display: none; }` but bootstrap.min.css set `[hidden] { display: none !important; }` so we also need the `!important` here to be able to override the default hidden behavior on the sphinx rendered scikit-learn.org. See: https://github.com/scikit-learn/scikit-learn/issues/21755 */display: inline-block !important;position: relative;}#sk-container-id-4 div.sk-text-repr-fallback {display: none;}</style><div id=\"sk-container-id-4\" class=\"sk-top-container\"><div class=\"sk-text-repr-fallback\"><pre>MLPClassifier(batch_size=56)</pre><b>In a Jupyter environment, please rerun this cell to show the HTML representation or trust the notebook. <br />On GitHub, the HTML representation is unable to render, please try loading this page with nbviewer.org.</b></div><div class=\"sk-container\" hidden><div class=\"sk-item\"><div class=\"sk-estimator sk-toggleable\"><input class=\"sk-toggleable__control sk-hidden--visually\" id=\"sk-estimator-id-4\" type=\"checkbox\" checked><label for=\"sk-estimator-id-4\" class=\"sk-toggleable__label sk-toggleable__label-arrow\">MLPClassifier</label><div class=\"sk-toggleable__content\"><pre>MLPClassifier(batch_size=56)</pre></div></div></div></div></div>"
            ]
          },
          "metadata": {},
          "execution_count": 15
        }
      ]
    },
    {
      "cell_type": "code",
      "source": [
        "# Treinando o modelo de Árvore de decisão.\n",
        "classificador_arvore = DecisionTreeClassifier(criterion='entropy', min_samples_leaf=1, min_samples_split=5, splitter='best')\n",
        "classificador_arvore.fit(X_credit, y_credit)"
      ],
      "metadata": {
        "colab": {
          "base_uri": "https://localhost:8080/",
          "height": 74
        },
        "id": "npnGy54lERay",
        "outputId": "54d8667b-78de-440f-c441-b42bc984399c"
      },
      "execution_count": 16,
      "outputs": [
        {
          "output_type": "execute_result",
          "data": {
            "text/plain": [
              "DecisionTreeClassifier(criterion='entropy', min_samples_split=5)"
            ],
            "text/html": [
              "<style>#sk-container-id-5 {color: black;background-color: white;}#sk-container-id-5 pre{padding: 0;}#sk-container-id-5 div.sk-toggleable {background-color: white;}#sk-container-id-5 label.sk-toggleable__label {cursor: pointer;display: block;width: 100%;margin-bottom: 0;padding: 0.3em;box-sizing: border-box;text-align: center;}#sk-container-id-5 label.sk-toggleable__label-arrow:before {content: \"▸\";float: left;margin-right: 0.25em;color: #696969;}#sk-container-id-5 label.sk-toggleable__label-arrow:hover:before {color: black;}#sk-container-id-5 div.sk-estimator:hover label.sk-toggleable__label-arrow:before {color: black;}#sk-container-id-5 div.sk-toggleable__content {max-height: 0;max-width: 0;overflow: hidden;text-align: left;background-color: #f0f8ff;}#sk-container-id-5 div.sk-toggleable__content pre {margin: 0.2em;color: black;border-radius: 0.25em;background-color: #f0f8ff;}#sk-container-id-5 input.sk-toggleable__control:checked~div.sk-toggleable__content {max-height: 200px;max-width: 100%;overflow: auto;}#sk-container-id-5 input.sk-toggleable__control:checked~label.sk-toggleable__label-arrow:before {content: \"▾\";}#sk-container-id-5 div.sk-estimator input.sk-toggleable__control:checked~label.sk-toggleable__label {background-color: #d4ebff;}#sk-container-id-5 div.sk-label input.sk-toggleable__control:checked~label.sk-toggleable__label {background-color: #d4ebff;}#sk-container-id-5 input.sk-hidden--visually {border: 0;clip: rect(1px 1px 1px 1px);clip: rect(1px, 1px, 1px, 1px);height: 1px;margin: -1px;overflow: hidden;padding: 0;position: absolute;width: 1px;}#sk-container-id-5 div.sk-estimator {font-family: monospace;background-color: #f0f8ff;border: 1px dotted black;border-radius: 0.25em;box-sizing: border-box;margin-bottom: 0.5em;}#sk-container-id-5 div.sk-estimator:hover {background-color: #d4ebff;}#sk-container-id-5 div.sk-parallel-item::after {content: \"\";width: 100%;border-bottom: 1px solid gray;flex-grow: 1;}#sk-container-id-5 div.sk-label:hover label.sk-toggleable__label {background-color: #d4ebff;}#sk-container-id-5 div.sk-serial::before {content: \"\";position: absolute;border-left: 1px solid gray;box-sizing: border-box;top: 0;bottom: 0;left: 50%;z-index: 0;}#sk-container-id-5 div.sk-serial {display: flex;flex-direction: column;align-items: center;background-color: white;padding-right: 0.2em;padding-left: 0.2em;position: relative;}#sk-container-id-5 div.sk-item {position: relative;z-index: 1;}#sk-container-id-5 div.sk-parallel {display: flex;align-items: stretch;justify-content: center;background-color: white;position: relative;}#sk-container-id-5 div.sk-item::before, #sk-container-id-5 div.sk-parallel-item::before {content: \"\";position: absolute;border-left: 1px solid gray;box-sizing: border-box;top: 0;bottom: 0;left: 50%;z-index: -1;}#sk-container-id-5 div.sk-parallel-item {display: flex;flex-direction: column;z-index: 1;position: relative;background-color: white;}#sk-container-id-5 div.sk-parallel-item:first-child::after {align-self: flex-end;width: 50%;}#sk-container-id-5 div.sk-parallel-item:last-child::after {align-self: flex-start;width: 50%;}#sk-container-id-5 div.sk-parallel-item:only-child::after {width: 0;}#sk-container-id-5 div.sk-dashed-wrapped {border: 1px dashed gray;margin: 0 0.4em 0.5em 0.4em;box-sizing: border-box;padding-bottom: 0.4em;background-color: white;}#sk-container-id-5 div.sk-label label {font-family: monospace;font-weight: bold;display: inline-block;line-height: 1.2em;}#sk-container-id-5 div.sk-label-container {text-align: center;}#sk-container-id-5 div.sk-container {/* jupyter's `normalize.less` sets `[hidden] { display: none; }` but bootstrap.min.css set `[hidden] { display: none !important; }` so we also need the `!important` here to be able to override the default hidden behavior on the sphinx rendered scikit-learn.org. See: https://github.com/scikit-learn/scikit-learn/issues/21755 */display: inline-block !important;position: relative;}#sk-container-id-5 div.sk-text-repr-fallback {display: none;}</style><div id=\"sk-container-id-5\" class=\"sk-top-container\"><div class=\"sk-text-repr-fallback\"><pre>DecisionTreeClassifier(criterion=&#x27;entropy&#x27;, min_samples_split=5)</pre><b>In a Jupyter environment, please rerun this cell to show the HTML representation or trust the notebook. <br />On GitHub, the HTML representation is unable to render, please try loading this page with nbviewer.org.</b></div><div class=\"sk-container\" hidden><div class=\"sk-item\"><div class=\"sk-estimator sk-toggleable\"><input class=\"sk-toggleable__control sk-hidden--visually\" id=\"sk-estimator-id-5\" type=\"checkbox\" checked><label for=\"sk-estimator-id-5\" class=\"sk-toggleable__label sk-toggleable__label-arrow\">DecisionTreeClassifier</label><div class=\"sk-toggleable__content\"><pre>DecisionTreeClassifier(criterion=&#x27;entropy&#x27;, min_samples_split=5)</pre></div></div></div></div></div>"
            ]
          },
          "metadata": {},
          "execution_count": 16
        }
      ]
    },
    {
      "cell_type": "code",
      "source": [
        "# Treinando o modelo de SVM (Suport Vector Machine).\n",
        "classificador_svm = SVC(C = 2.0, kernel='rbf', probability=True)\n",
        "classificador_svm.fit(X_credit, y_credit)"
      ],
      "metadata": {
        "colab": {
          "base_uri": "https://localhost:8080/",
          "height": 74
        },
        "id": "AaWRhRqoEViO",
        "outputId": "cdd5cdef-a028-4bc0-e70b-ccb374bd7227"
      },
      "execution_count": 17,
      "outputs": [
        {
          "output_type": "execute_result",
          "data": {
            "text/plain": [
              "SVC(C=2.0, probability=True)"
            ],
            "text/html": [
              "<style>#sk-container-id-6 {color: black;background-color: white;}#sk-container-id-6 pre{padding: 0;}#sk-container-id-6 div.sk-toggleable {background-color: white;}#sk-container-id-6 label.sk-toggleable__label {cursor: pointer;display: block;width: 100%;margin-bottom: 0;padding: 0.3em;box-sizing: border-box;text-align: center;}#sk-container-id-6 label.sk-toggleable__label-arrow:before {content: \"▸\";float: left;margin-right: 0.25em;color: #696969;}#sk-container-id-6 label.sk-toggleable__label-arrow:hover:before {color: black;}#sk-container-id-6 div.sk-estimator:hover label.sk-toggleable__label-arrow:before {color: black;}#sk-container-id-6 div.sk-toggleable__content {max-height: 0;max-width: 0;overflow: hidden;text-align: left;background-color: #f0f8ff;}#sk-container-id-6 div.sk-toggleable__content pre {margin: 0.2em;color: black;border-radius: 0.25em;background-color: #f0f8ff;}#sk-container-id-6 input.sk-toggleable__control:checked~div.sk-toggleable__content {max-height: 200px;max-width: 100%;overflow: auto;}#sk-container-id-6 input.sk-toggleable__control:checked~label.sk-toggleable__label-arrow:before {content: \"▾\";}#sk-container-id-6 div.sk-estimator input.sk-toggleable__control:checked~label.sk-toggleable__label {background-color: #d4ebff;}#sk-container-id-6 div.sk-label input.sk-toggleable__control:checked~label.sk-toggleable__label {background-color: #d4ebff;}#sk-container-id-6 input.sk-hidden--visually {border: 0;clip: rect(1px 1px 1px 1px);clip: rect(1px, 1px, 1px, 1px);height: 1px;margin: -1px;overflow: hidden;padding: 0;position: absolute;width: 1px;}#sk-container-id-6 div.sk-estimator {font-family: monospace;background-color: #f0f8ff;border: 1px dotted black;border-radius: 0.25em;box-sizing: border-box;margin-bottom: 0.5em;}#sk-container-id-6 div.sk-estimator:hover {background-color: #d4ebff;}#sk-container-id-6 div.sk-parallel-item::after {content: \"\";width: 100%;border-bottom: 1px solid gray;flex-grow: 1;}#sk-container-id-6 div.sk-label:hover label.sk-toggleable__label {background-color: #d4ebff;}#sk-container-id-6 div.sk-serial::before {content: \"\";position: absolute;border-left: 1px solid gray;box-sizing: border-box;top: 0;bottom: 0;left: 50%;z-index: 0;}#sk-container-id-6 div.sk-serial {display: flex;flex-direction: column;align-items: center;background-color: white;padding-right: 0.2em;padding-left: 0.2em;position: relative;}#sk-container-id-6 div.sk-item {position: relative;z-index: 1;}#sk-container-id-6 div.sk-parallel {display: flex;align-items: stretch;justify-content: center;background-color: white;position: relative;}#sk-container-id-6 div.sk-item::before, #sk-container-id-6 div.sk-parallel-item::before {content: \"\";position: absolute;border-left: 1px solid gray;box-sizing: border-box;top: 0;bottom: 0;left: 50%;z-index: -1;}#sk-container-id-6 div.sk-parallel-item {display: flex;flex-direction: column;z-index: 1;position: relative;background-color: white;}#sk-container-id-6 div.sk-parallel-item:first-child::after {align-self: flex-end;width: 50%;}#sk-container-id-6 div.sk-parallel-item:last-child::after {align-self: flex-start;width: 50%;}#sk-container-id-6 div.sk-parallel-item:only-child::after {width: 0;}#sk-container-id-6 div.sk-dashed-wrapped {border: 1px dashed gray;margin: 0 0.4em 0.5em 0.4em;box-sizing: border-box;padding-bottom: 0.4em;background-color: white;}#sk-container-id-6 div.sk-label label {font-family: monospace;font-weight: bold;display: inline-block;line-height: 1.2em;}#sk-container-id-6 div.sk-label-container {text-align: center;}#sk-container-id-6 div.sk-container {/* jupyter's `normalize.less` sets `[hidden] { display: none; }` but bootstrap.min.css set `[hidden] { display: none !important; }` so we also need the `!important` here to be able to override the default hidden behavior on the sphinx rendered scikit-learn.org. See: https://github.com/scikit-learn/scikit-learn/issues/21755 */display: inline-block !important;position: relative;}#sk-container-id-6 div.sk-text-repr-fallback {display: none;}</style><div id=\"sk-container-id-6\" class=\"sk-top-container\"><div class=\"sk-text-repr-fallback\"><pre>SVC(C=2.0, probability=True)</pre><b>In a Jupyter environment, please rerun this cell to show the HTML representation or trust the notebook. <br />On GitHub, the HTML representation is unable to render, please try loading this page with nbviewer.org.</b></div><div class=\"sk-container\" hidden><div class=\"sk-item\"><div class=\"sk-estimator sk-toggleable\"><input class=\"sk-toggleable__control sk-hidden--visually\" id=\"sk-estimator-id-6\" type=\"checkbox\" checked><label for=\"sk-estimator-id-6\" class=\"sk-toggleable__label sk-toggleable__label-arrow\">SVC</label><div class=\"sk-toggleable__content\"><pre>SVC(C=2.0, probability=True)</pre></div></div></div></div></div>"
            ]
          },
          "metadata": {},
          "execution_count": 17
        }
      ]
    },
    {
      "cell_type": "markdown",
      "source": [
        "## **Salvandos os Modelos de Classificador**\n",
        "\n",
        "Salvarei os modelos de classificação treinados. Os modelos serão salvos em arquivos com extensão \".sav\".\n"
      ],
      "metadata": {
        "id": "TfWuaJUAPhN2"
      }
    },
    {
      "cell_type": "code",
      "source": [
        "# Salvando o modelo de Rede Neural\n",
        "pickle.dump(classificador_rede_neural, open('rede_neural_finalizado.sav', 'wb'))\n",
        "\n",
        "# Salvando o modelo de Árvore de Decisão\n",
        "pickle.dump(classificador_arvore, open('arvore_finalizado.sav', 'wb'))\n",
        "\n",
        "# Salvando o modelo de SVM\n",
        "pickle.dump(classificador_svm, open('svm_finalizado.sav', 'wb'))"
      ],
      "metadata": {
        "id": "wjQ5oKBfEYFG"
      },
      "execution_count": 14,
      "outputs": []
    },
    {
      "cell_type": "markdown",
      "source": [
        "Os modelos de classificação treinados podem ser carregados posteriormente para realizar previsões em dados reais. Certifique-se de ter importado a biblioteca pickle antes de executar o código."
      ],
      "metadata": {
        "id": "Ky8b8rWaQU7n"
      }
    },
    {
      "cell_type": "markdown",
      "source": [
        "# **Instruções para carregar um classificador já treinado**\n",
        "\n",
        "Carregarei os modelos de classificação treinados. Os modelos serão atribuídos às variáveis \"rede_neural\", \"arvore\" e \"svm\". Eles poderão ser usados para fazer previsões em novos dados.\n",
        "\n",
        "> Atenção: certifique-se de que os arquivos .sav estejam no diretório correto."
      ],
      "metadata": {
        "id": "4HeXTWJlEb1p"
      }
    },
    {
      "cell_type": "markdown",
      "source": [
        "## **Carregando modelos**"
      ],
      "metadata": {
        "id": "TRnBGwpaazyK"
      }
    },
    {
      "cell_type": "code",
      "source": [
        "# Carregando os modelos de classificação treinados.\n",
        "\n",
        "# Carregando o modelo de Rede Neural.\n",
        "rede_neural = pickle.load(open('rede_neural_finalizado.sav', 'rb'))\n",
        "\n",
        "# Carregando o modelo de Árvore de Decisão.\n",
        "arvore = pickle.load(open('arvore_finalizado.sav', 'rb'))\n",
        "\n",
        "# Carregando o modelo de SVM (Suport Vector Machine).\n",
        "svm = pickle.load(open('svm_finalizado.sav', 'rb'))"
      ],
      "metadata": {
        "id": "GLP_8OKyEf5G"
      },
      "execution_count": 19,
      "outputs": []
    },
    {
      "cell_type": "markdown",
      "source": [
        "## **Simulando um novo cliente**"
      ],
      "metadata": {
        "id": "Qq_anyJaa4ib"
      }
    },
    {
      "cell_type": "markdown",
      "source": [
        "Irei carregar o registro 1999 da base X_credit para  fazer uma simulação de um novo cliente e mostrar como os modelos funcionam."
      ],
      "metadata": {
        "id": "gYxmr_pIYXga"
      }
    },
    {
      "cell_type": "code",
      "source": [
        "# Carregando registro.\n",
        "novo_registro = X_credit[1999]\n",
        "\n",
        "# Retornando registro.\n",
        "novo_registro"
      ],
      "metadata": {
        "colab": {
          "base_uri": "https://localhost:8080/"
        },
        "id": "b9_gFnCEEibU",
        "outputId": "180eb5b8-f32c-4f5e-b1d2-c6c32422d0f4"
      },
      "execution_count": 20,
      "outputs": [
        {
          "output_type": "execute_result",
          "data": {
            "text/plain": [
              "array([-1.03572293, -0.93978122,  0.04244312])"
            ]
          },
          "metadata": {},
          "execution_count": 20
        }
      ]
    },
    {
      "cell_type": "code",
      "source": [
        "novo_registro.shape # Array simples com uma dimensão."
      ],
      "metadata": {
        "colab": {
          "base_uri": "https://localhost:8080/"
        },
        "id": "6Mq4cL1bEk-u",
        "outputId": "d44e4679-a7ff-41c9-f9d1-9333a154c582"
      },
      "execution_count": 22,
      "outputs": [
        {
          "output_type": "execute_result",
          "data": {
            "text/plain": [
              "(3,)"
            ]
          },
          "metadata": {},
          "execution_count": 22
        }
      ]
    },
    {
      "cell_type": "code",
      "source": [
        "# Tranformando em um array de duas dimensões para podermos fazer a previsão.\n",
        "novo_registro = novo_registro.reshape(1, -1)\n",
        "\n",
        "novo_registro.shape # Retornará uma linha e três colunas."
      ],
      "metadata": {
        "colab": {
          "base_uri": "https://localhost:8080/"
        },
        "id": "yzcqZKs9En7u",
        "outputId": "d6d96acf-976a-4fc6-b6ae-a6ce3426eb61"
      },
      "execution_count": 25,
      "outputs": [
        {
          "output_type": "execute_result",
          "data": {
            "text/plain": [
              "(1, 3)"
            ]
          },
          "metadata": {},
          "execution_count": 25
        }
      ]
    },
    {
      "cell_type": "code",
      "source": [
        "novo_registro # Podemos verificar que agora possui dois colchetes, o que indica que agora temos em formato de matriz."
      ],
      "metadata": {
        "colab": {
          "base_uri": "https://localhost:8080/"
        },
        "id": "iPNV-CnJEqP2",
        "outputId": "cbcab2aa-c61a-473a-f4e9-485a56c823f4"
      },
      "execution_count": 26,
      "outputs": [
        {
          "output_type": "execute_result",
          "data": {
            "text/plain": [
              "array([[-1.03572293, -0.93978122,  0.04244312]])"
            ]
          },
          "metadata": {},
          "execution_count": 26
        }
      ]
    },
    {
      "cell_type": "code",
      "source": [
        "# Realizarei a previsão do novo registro utilizando o modelo de classificação \"Rede Neural\".\n",
        "rede_neural.predict(novo_registro)"
      ],
      "metadata": {
        "colab": {
          "base_uri": "https://localhost:8080/"
        },
        "id": "gSzZaffXEsXx",
        "outputId": "f3893452-1e94-4be1-f118-d3135f6c7c65"
      },
      "execution_count": 27,
      "outputs": [
        {
          "output_type": "execute_result",
          "data": {
            "text/plain": [
              "array([1])"
            ]
          },
          "metadata": {},
          "execution_count": 27
        }
      ]
    },
    {
      "cell_type": "code",
      "source": [
        "# Realizarei a previsão do novo registro utilizando o modelo de classificação \"Árvore de Decisão\".\n",
        "arvore.predict(novo_registro)"
      ],
      "metadata": {
        "colab": {
          "base_uri": "https://localhost:8080/"
        },
        "id": "8uVe2GdfEuZx",
        "outputId": "29e2c080-da84-4122-85e8-043db76a9e55"
      },
      "execution_count": 30,
      "outputs": [
        {
          "output_type": "execute_result",
          "data": {
            "text/plain": [
              "array([1])"
            ]
          },
          "metadata": {},
          "execution_count": 30
        }
      ]
    },
    {
      "cell_type": "code",
      "source": [
        "# Realizarei a previsão do novo registro utilizando o modelo de classificação \"SVM\".\n",
        "svm.predict(novo_registro)"
      ],
      "metadata": {
        "colab": {
          "base_uri": "https://localhost:8080/"
        },
        "id": "ffp45HNCEwz2",
        "outputId": "d966d031-c497-45dc-e225-3009d47c2fca"
      },
      "execution_count": 31,
      "outputs": [
        {
          "output_type": "execute_result",
          "data": {
            "text/plain": [
              "array([1])"
            ]
          },
          "metadata": {},
          "execution_count": 31
        }
      ]
    },
    {
      "cell_type": "markdown",
      "source": [
        "Podemos constatar que todos os três modelos classificaram que o novo cliente como \"não pagará o emprestimo\"."
      ],
      "metadata": {
        "id": "KxAj1qZoe6Yd"
      }
    },
    {
      "cell_type": "code",
      "source": [
        "# Carregando registro.\n",
        "novo_registro = X_credit[0]\n",
        "\n",
        "# Retornando registro.\n",
        "novo_registro"
      ],
      "metadata": {
        "colab": {
          "base_uri": "https://localhost:8080/"
        },
        "id": "o6bJzfgRfnXE",
        "outputId": "cfb781c7-353c-4035-acb7-bee4d5ccadb4"
      },
      "execution_count": 37,
      "outputs": [
        {
          "output_type": "execute_result",
          "data": {
            "text/plain": [
              "array([-1.3754462 ,  0.50631087,  0.10980934])"
            ]
          },
          "metadata": {},
          "execution_count": 37
        }
      ]
    },
    {
      "cell_type": "code",
      "source": [
        "# Tranformando em um array de duas dimensões para podermos fazer a previsão.\n",
        "novo_registro = novo_registro.reshape(1, -1)"
      ],
      "metadata": {
        "id": "vHuUURglfuy5"
      },
      "execution_count": 38,
      "outputs": []
    },
    {
      "cell_type": "code",
      "source": [
        "# Realizarei a previsão do novo registro utilizando o modelo de classificação \"Rede Neural\".\n",
        "rede_neural.predict(novo_registro)"
      ],
      "metadata": {
        "colab": {
          "base_uri": "https://localhost:8080/"
        },
        "id": "80sHHb1PfyWx",
        "outputId": "1580fe0c-f767-42d9-9f8a-8dd100981340"
      },
      "execution_count": 39,
      "outputs": [
        {
          "output_type": "execute_result",
          "data": {
            "text/plain": [
              "array([0])"
            ]
          },
          "metadata": {},
          "execution_count": 39
        }
      ]
    },
    {
      "cell_type": "code",
      "source": [
        "# Realizarei a previsão do novo registro utilizando o modelo de classificação \"Árvore de Decisão\".\n",
        "arvore.predict(novo_registro)"
      ],
      "metadata": {
        "colab": {
          "base_uri": "https://localhost:8080/"
        },
        "outputId": "ebaf2131-4759-43f4-f3bc-7fe9d11d5990",
        "id": "PHw_NKlSf4zQ"
      },
      "execution_count": 40,
      "outputs": [
        {
          "output_type": "execute_result",
          "data": {
            "text/plain": [
              "array([0])"
            ]
          },
          "metadata": {},
          "execution_count": 40
        }
      ]
    },
    {
      "cell_type": "code",
      "source": [
        "# Realizarei a previsão do novo registro utilizando o modelo de classificação \"SVM\".\n",
        "svm.predict(novo_registro)"
      ],
      "metadata": {
        "colab": {
          "base_uri": "https://localhost:8080/"
        },
        "id": "Rwpd97ilf4eR",
        "outputId": "90eee518-d12f-45a5-c57d-e1f5a113cc7e"
      },
      "execution_count": 41,
      "outputs": [
        {
          "output_type": "execute_result",
          "data": {
            "text/plain": [
              "array([0])"
            ]
          },
          "metadata": {},
          "execution_count": 41
        }
      ]
    },
    {
      "cell_type": "markdown",
      "source": [
        "Podemos constatar que todos os três modelos classificaram esse novo registro de cliente como \"irá pagar o empréstimo\""
      ],
      "metadata": {
        "id": "r0peZwhAgNsu"
      }
    },
    {
      "cell_type": "markdown",
      "source": [
        "Foi mostrado como os modelos poderão ser carregados, além de uma simulação do funcionamento dos modelos."
      ],
      "metadata": {
        "id": "jPQ6vChthCxR"
      }
    },
    {
      "cell_type": "markdown",
      "source": [
        "# **Considerações Finais**\n",
        "\n",
        "Neste estudo de caso, pude aprender a importante etapa de salvar e carregar modelos de classificação de machine learning. Essa habilidade é fundamental para armazenar e reutilizar os modelos treinados, permitindo sua aplicação em novos dados e cenários. Com essa técnica, tenho agora a capacidade de aproveitar ao máximo os modelos desenvolvidos, garantindo sua reprodutibilidade e possibilitando sua utilização em diferentes contextos.\n",
        "\n",
        "Agradeço ao professor Jones Granatyr pelo conhecimento compartilhado e pela orientação durante o curso. Essa experiência contribuiu significativamente para minha compreensão de algoritmos de Machine Learning e sua aplicação prática."
      ],
      "metadata": {
        "id": "3BnFAWPhhVMT"
      }
    }
  ]
}